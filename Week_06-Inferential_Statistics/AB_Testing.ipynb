{
  "cells": [
    {
      "cell_type": "markdown",
      "metadata": {
        "id": "view-in-github",
        "colab_type": "text"
      },
      "source": [
        "<a href=\"https://colab.research.google.com/github/gitmystuff/DTSC5810/blob/main/Week_06-Inferential_Statistics/AB_Testing.ipynb\" target=\"_parent\"><img src=\"https://colab.research.google.com/assets/colab-badge.svg\" alt=\"Open In Colab\"/></a>"
      ]
    },
    {
      "cell_type": "markdown",
      "id": "0ace9043",
      "metadata": {
        "id": "0ace9043"
      },
      "source": [
        "# AB Testing with Notes\n",
        "\n",
        "Free AB Testing Course: https://www.udacity.com/course/ab-testing--ud257\n",
        "\n",
        "What is an AB Test?\n",
        "\n",
        "* A/B testing, also known as split testing, refers to a randomized experimentation process wherein two or more versions of a variable (web page, page element, etc.) are shown to different segments of website visitors at the same time to determine which version leaves the maximum impact and drives business metrics.\n",
        "* Randomized Control Trials\n",
        "\n",
        "https://vwo.com/ab-testing/\n",
        "\n",
        "### A/B Cheat Sheet:\n",
        "\n",
        "https://towardsdatascience.com/25-a-b-testing-concepts-interview-cheat-sheet-c998a501f911\n",
        "\n",
        "Descriptive / Summary Statistics\n",
        "\n",
        "* Population\n",
        "* Sample\n",
        "* Sample Mean\n",
        "* Sample Variability\n",
        "\n",
        "Experiment Design\n",
        "\n",
        "* Null Hypothesis\n",
        "* Key Metrics\n",
        "* Lifetime Value (LTV)\n",
        "* Objectives and Key Results (OKR)\n",
        "* Overall Evaluation Criteria (OEC)\n",
        "* Gaurdrail Metrics\n",
        "* Randomization Unit\n",
        "* Interference\n",
        "\n",
        "A/B Test Statistics and Sample Size Calculation\n",
        "\n",
        "* Confidence Level\n",
        "* Margin of Error\n",
        "* Confidence Interval\n",
        "* Type I Error\n",
        "* Type II Error\n",
        "* p-Value\n",
        "* Statistical Significance\n",
        "* Statistical Power\n",
        "* Minimum Detectable Effect\n",
        "* Practical Significance\n",
        "* Sample Size and Duration\n",
        "\n",
        "Threats to Experiment Validity\n",
        "\n",
        "* Novelty Effect - are results due to the treatment or due to the novelty of the treatment\n",
        "* Hawthorne Effect - being watched\n",
        "* Selection Bias - are Twitter users representative of the entire population\n",
        "* Attrition Bias - attrition rates differ between groups\n",
        "\n",
        "Note\n",
        "\n",
        "* Population: everyone who is part of the experiment\n",
        "* The means of the control group and the treatment group\n",
        "* Group size needs to be statistically appropriate / significant\n",
        "\n"
      ]
    },
    {
      "cell_type": "markdown",
      "id": "48242722",
      "metadata": {
        "id": "48242722"
      },
      "source": [
        "## Test of Means\n",
        "\n",
        "Many, if not most experiments are designed to compare means. The experiment may involve only one sample mean that is to be compared to a specific value. Or the experiment could be testing differences among many different experimental conditions, and the experimenter could be interested in comparing each mean with each of the other means.\n",
        "\n",
        "https://onlinestatbook.com/2/tests_of_means/testing_means.html\n",
        "\n"
      ]
    },
    {
      "cell_type": "markdown",
      "source": [
        "### Assumptions\n",
        "\n",
        "* Groups are normally distributed (no significant outliers)\n",
        "* Groups are independent\n",
        "* Equal variance between groups\n",
        "* Rule of thumb: equal variances if the ratio is less than 4 (larger / smaller)\n",
        "* Scipy.ttest_ind equal_var: if True, perform a standard independent 2 sample t-test that assumes equal population variances. If False, perform Welch’s t-test, which does not assume equal population variances. This is True by default.\n",
        "* Scipy.ttest_ind alternative: two-sided, less, greater\n",
        "\n",
        "The loc and scale parameters let you adjust the location and scale of a distribution. For example, to model IQ data, you'd build iq = scipy.stats.norm(loc=100, scale=15) because IQs are constructed so as to have a mean of 100 and a standard deviation of 15. Why don't we just call them mean and sd? It helps to have a more generalized concept because not every distribution has a mean.\n",
        "\n",
        "https://stats.stackexchange.com/questions/560281/what-is-the-meaning-of-loc-and-scale-for-the-distributions-in-scipy-stats"
      ],
      "metadata": {
        "id": "pKoZyNRUjRGL"
      },
      "id": "pKoZyNRUjRGL"
    },
    {
      "cell_type": "markdown",
      "id": "4786de07",
      "metadata": {
        "id": "4786de07"
      },
      "source": [
        "### Some Categories of Tests\n",
        "\n",
        "Parametric tests (has assumptions about the distribution such as mean and standard deviation)\n",
        "- z-test\n",
        "- t-test\n",
        "- ANOVA: Used when there are more than two means (technically 2+ means)\n",
        "\n",
        "Non-parametric tests (does not assume anything about the distribution)\n",
        "- Chi-square\n",
        "- Mann-Whitney U-test\n",
        "- Kruskel-Wallis H-test: tests the null hypothesis that the population median of all of the groups are equal. It is a non-parametric version of ANOVA."
      ]
    },
    {
      "cell_type": "markdown",
      "id": "2e35d7b8",
      "metadata": {
        "id": "2e35d7b8"
      },
      "source": [
        "### Dictionary of Terms\n",
        "\n",
        "https://marketingexperiments.com/a-b-testing/marketing-and-online-testing-dictionary\n",
        "\n"
      ]
    },
    {
      "cell_type": "markdown",
      "id": "efd3c4d5",
      "metadata": {
        "id": "efd3c4d5"
      },
      "source": [
        "## Hypothesis Testing\n",
        "\n",
        "Is the mean of sample 1 different from the mean of sample 2? In business, AB testing is driven by success. Academics will document differences that may not be important to business.\n",
        "\n",
        "Please review https://www.statisticshowto.com/probability-and-statistics/hypothesis-testing/one-tailed-test-or-two/\n",
        "\n",
        "**For a One Tailed Test**\n",
        "- a null hypothesis might be $\\bar{x}_1 \\geq \\bar{x}_2$,\n",
        "- and the alt hypothesis would be $\\bar{x}_1 < \\bar{x}_2$\n",
        "\n",
        "**For a Two Tailed Test**\n",
        "- a null hypothesis might be $\\bar{x}_1 = \\bar{x}_2$,\n",
        "- and the alt hypothesis would be $\\bar{x}_1 \\ne \\bar{x}_2$\n",
        "\n",
        "Remember, we never accept the null hypothesis, we either reject it or fail to reject it. It is important to realize that there is no certainty that the null hypothesis is true or that it is false, because there is always an element of chance.\n",
        "\n",
        "http://strata.uga.edu/8370/lecturenotes/errors.html#:~:text=A%20null%20hypothesis%20is%20either,is%20no%20element%20of%20chance."
      ]
    },
    {
      "cell_type": "markdown",
      "id": "fcfc11f4",
      "metadata": {
        "id": "fcfc11f4"
      },
      "source": [
        "### Confidence Level\n",
        "\n",
        "$\\mu \\pm MoE$\n",
        "\n",
        "where the margin of error is a statistic expressing the amount of random sampling error in the results of a survey. The larger the margin of error, the less confidence one should have that a poll result would reflect the result of a census of the entire population.\n",
        "\n",
        "https://en.wikipedia.org/wiki/Margin_of_error"
      ]
    },
    {
      "cell_type": "markdown",
      "id": "c0722134",
      "metadata": {
        "id": "c0722134"
      },
      "source": [
        "### Margin of Error\n",
        "\n",
        "$MoE = z\\frac{\\sigma}{\\sqrt{n}}$\n",
        "\n",
        "where\n",
        "* n = sample size\n",
        "* $\\sigma$  = population standard deviation\n",
        "* z = z-score\n",
        "* $\\frac{\\sigma}{\\sqrt{n}}$ is the standard error\n",
        "* standard error = the standard deviation of a sampling distribution or an estimate of a standard deviation\n",
        "* standard deviation = measurement of how dispersed the data is in relation to the mean\n",
        "\n",
        "https://data36.com/margin-of-error-formula/"
      ]
    },
    {
      "cell_type": "markdown",
      "id": "90f9a38e",
      "metadata": {
        "id": "90f9a38e"
      },
      "source": [
        "### Alpha (Significance Levels)\n",
        "\n",
        "$\\alpha$ = 1 - confidence interval\n",
        "\n",
        "The significance level or alpha level is the probability of making the wrong decision when the null hypothesis is true. Alpha levels (sometimes just called “significance levels”) are used in hypothesis tests. Usually, these tests are run with an alpha level of .05 (5%), but other levels commonly used are .01 and .10.\n",
        "\n",
        "https://www.statisticshowto.com/probability-and-statistics/statistics-definitions/what-is-an-alpha-level/\n",
        "\n",
        "Stephanie Glen. \"Alpha Level (Significance Level): What is it?\" From StatisticsHowTo.com: Elementary Statistics for the rest of us! https://www.statisticshowto.com/probability-and-statistics/statistics-definitions/what-is-an-alpha-level/"
      ]
    },
    {
      "cell_type": "markdown",
      "id": "8f6b239c",
      "metadata": {
        "id": "8f6b239c"
      },
      "source": [
        "### Test Statistic vs Critical Value\n",
        "\n",
        "In order to make a decision whether to reject the null hypothesis a test statistic is calculated. The decision is made on the basis of the numerical value of the test statistic. There are two approaches how to derive at that decision: The critical value approach and the p-value approach.\n",
        "\n",
        "https://www.geo.fu-berlin.de/en/v/soga/Basics-of-statistics/Hypothesis-Tests/Introduction-to-Hypothesis-Testing/Critical-Value-and-the-p-Value-Approach/index.html\n",
        "\n",
        "Critical value example:\n",
        "\n",
        "* 1.96 - if the test statistic is greater than the critical value we reject the null"
      ]
    },
    {
      "cell_type": "markdown",
      "id": "2767fc4b",
      "metadata": {
        "id": "2767fc4b"
      },
      "source": [
        "### P-Value\n",
        "\n",
        "For a p value test:\n",
        "* Get the test statistic\n",
        "* Use it to determine the p-value\n",
        "* Compare the p-value to the level of significance\n",
        "* If the p-value is low the null must go! Reject $H_0$\n",
        "* If the p-value is high the null must fly! Fail to reject $H_0$\n",
        "\n",
        "\"The p value is the evidence against a null hypothesis. The smaller the p-value, the stronger the evidence that you should reject the null hypothesis.\"\n",
        "\n",
        "Stephanie Glen. \"P-Value in Statistical Hypothesis Tests: What is it?\" From StatisticsHowTo.com: Elementary Statistics for the rest of us! https://www.statisticshowto.com/probability-and-statistics/statistics-definitions/p-value/\n",
        "\n",
        "The lower the p value, the more predictive the feature is in principle. When we run tests, we are often concerned with the alpha level to help us reject or fail to reject the null hypothesis. The alpha level is (1 - our confidence interval), so if we wanted to have a confidence level of 95% we would use a alpha value of 5%. If our p value is less than the alpha value then the evidence points to rejecting the null hypothesis. If our p values is less than the alpha value then we can say our results are statistcally significant. We found something that is probably not the result of chance. But beware."
      ]
    },
    {
      "cell_type": "markdown",
      "id": "2f88bd2f",
      "metadata": {
        "id": "2f88bd2f"
      },
      "source": [
        "### Type I and Type II Errors\n",
        "\n",
        "- Hypothesis testing is used against results that are already known\n",
        "- Type I error: Reject null hypothesis that should have been supported\n",
        "- $H_0$: There is no fire. Pull the fire alarm, when there is no fire\n",
        "- Type II error: Fail to reject a null hypothesis that should have been rejected\n",
        "- $H_0$: There is no fire. Failed to pull the fire alarm, when there is a fire\n",
        "\n",
        "https://economics.stackexchange.com/questions/27677/type-i-error-type-ii-error-pregnancy-test-analogy-is-it-legit"
      ]
    },
    {
      "cell_type": "code",
      "source": [
        "# test statistic, p-value, type i ii errors\n",
        "import numpy as np\n",
        "from scipy import stats\n",
        "import matplotlib.pyplot as plt\n",
        "\n",
        "x = np.arange(-3, 3, 0.001)\n",
        "\n",
        "pdf = stats.norm.pdf(x,loc=0,scale=1)\n",
        "plt.plot(x, pdf)\n",
        "\n",
        "z = 1.96 # 95% CI\n",
        "lci = -z\n",
        "uci = z\n",
        "\n",
        "# plt.fill_between(x, pdf, where=(lci > x) | (x > uci), alpha=0.5)\n",
        "plt.vlines(x=-z, ymin=0, ymax=stats.norm.pdf(-z, loc=0, scale=1), color='red')\n",
        "plt.vlines(x=z, ymin=0, ymax=stats.norm.pdf(z, loc=0, scale=1), color='red')\n",
        "plt.text(-0.4, .2, f'95%', fontsize=20)\n",
        "plt.text(lci, 0, lci, ha='center', fontsize=20)\n",
        "plt.text(uci, 0, uci, ha='center', fontsize=20)\n",
        "# plt.text(-0.4, .2, f'95%', fontsize=20)\n",
        "plt.text(lci-.5, 0.05, f'2.5%', ha='center', fontsize=20)\n",
        "plt.text(uci+.5, 0.05, f'2.5%', ha='center', fontsize=20)\n",
        "plt.grid(True)"
      ],
      "metadata": {
        "colab": {
          "base_uri": "https://localhost:8080/",
          "height": 430
        },
        "id": "uUYjub68kiid",
        "outputId": "8b77d5e1-79fc-4f6f-e0ca-69e1ab83a14d"
      },
      "id": "uUYjub68kiid",
      "execution_count": 1,
      "outputs": [
        {
          "output_type": "display_data",
          "data": {
            "text/plain": [
              "<Figure size 640x480 with 1 Axes>"
            ],
            "image/png": "[encoded data removed]"
          },
          "metadata": {}
        }
      ]
    },
    {
      "cell_type": "markdown",
      "source": [
        "* Type I Error: when the test statistic lies within the the 95% area and we say there is a difference (reject null)\n",
        "* Type II Error: when the test statistic lies without the the 95% area and we way there is no difference (fail to reject null)\n",
        "* **If the p-value is low the null must go!** Reject $H_0$\n",
        "* **If the p-value is high the null must fly!** Fail to reject $H_0$"
      ],
      "metadata": {
        "id": "FAkZ3UIbksY1"
      },
      "id": "FAkZ3UIbksY1"
    },
    {
      "cell_type": "markdown",
      "id": "7297ad82",
      "metadata": {
        "id": "7297ad82"
      },
      "source": [
        "### P Value vs Alpha\n",
        "\n",
        "Alpha, the significance level, is the probability that you will make the mistake of rejecting the null hypothesis when in fact it is true. The p-value measures the probability of getting a more extreme value than the one you got from the experiment. If the p-value is greater than alpha, we fail to reject the null hypothesis.\n",
        "\n",
        "https://www.spcforexcel.com/knowledge/basic-statistics/interpretation-alpha-and-p-value"
      ]
    },
    {
      "cell_type": "markdown",
      "id": "6f284b61",
      "metadata": {
        "id": "6f284b61"
      },
      "source": [
        "### Misuse of P-Value\n",
        "\n",
        "\"The general definition of a P value may help one to understand why statistical tests tell us much less than what many think they do: Not only does a P value not tell us whether the hypothesis targeted for testing is true or not; it says nothing specifically related to that hypothesis unless we can be completely assured that every other assumption used for its computation is correct—an assurance that is lacking in far too many studies.\"\n",
        "\n",
        "Greenland, S., Senn, S. J., Rothman, K. J., Carlin, J. B., Poole, C., Goodman, S. N., & Altman, D. G. (2016). Statistical tests, P values, confidence intervals, and power: a guide to misinterpretations. European journal of epidemiology, 31(4), 337–350. https://doi.org/10.1007/s10654-016-0149-3\n",
        "\n",
        "**P-Hacking**\n",
        "\n",
        "See P Hacking Notebook\n",
        "\n",
        "Data dredging (also known as data snooping or p-hacking) is the misuse of data analysis to find patterns in data that can be presented as statistically significant, thus dramatically increasing and understating the risk of false positives. This is done by performing many statistical tests on the data and only reporting those that come back with significant results.\n",
        "\n",
        "https://en.wikipedia.org/wiki/Data_dredging\n",
        "\n",
        "The following list clarifies some issues that are commonly misunderstood regarding p-values:\n",
        "\n",
        "* The p-value is not the probability that the null hypothesis is true, or the probability that the alternative hypothesis is false. A p-value can indicate the degree of compatibility between a dataset and a particular hypothetical explanation (such as a null hypothesis). Specifically, the p-value can be taken as the prior probability of obtaining an effect that is at least as extreme as the observed effect, given that the null hypothesis is true. This should not be confused with the posterior probability that the null hypothesis is true given the observed effect (see prosecutor's fallacy). In fact, frequentist statistics does not attach probabilities to hypotheses.\n",
        "* The p-value is not the probability that the observed effects were produced by random chance alone. The p-value is computed under the assumption that a certain model, usually the null hypothesis, is true. This means that the p-value is a statement about the relation of the data to that hypothesis.\n",
        "* The 0.05 significance level is merely a convention. The 0.05 significance level (alpha level) is often used as the boundary between a statistically significant and a statistically non-significant p-value. However, this does not imply that there is generally a scientific reason to consider results on opposite sides of any threshold as qualitatively different.\n",
        "* The p-value does not indicate the size or importance of the observed effect. A small p-value can be observed for an effect that is not meaningful or important. In fact, the larger the sample size, the smaller the minimum effect needed to produce a statistically significant p-value (see effect size). Visualizing effect sizes is a critical component of a data-analysis method called estimation statistics.\n",
        "\n",
        "https://en.wikipedia.org/wiki/Misuse_of_p-values\n",
        "\n",
        "READ THIS: https://www.ncbi.nlm.nih.gov/pmc/articles/PMC5738950/"
      ]
    },
    {
      "cell_type": "markdown",
      "id": "74f2ef41",
      "metadata": {
        "id": "74f2ef41"
      },
      "source": [
        "### Statistical Power (Sensitivity)"
      ]
    },
    {
      "cell_type": "markdown",
      "id": "7a5fad79",
      "metadata": {
        "id": "7a5fad79"
      },
      "source": [
        "https://www.statisticshowto.com/wp-content/uploads/2015/04/statistical-power.png\n",
        "\n",
        "Beta is directly related to the power of a test. Power relates to how likely a test is to distinguish an actual effect from one you could expect to happen by chance alone. Beta plus the power of a test is always equal to 1. Usually, researchers will refer to the power of a test (e.g. a power of .8), leaving the beta level (.2 in this case) as implied.\n",
        "\n",
        "https://www.statisticshowto.com/beta-level/\n",
        "\n",
        "The **statistical power of a binary hypothesis test** is the probability that the test correctly rejects the null hypothesis $H_{0}$ when a specific alternative hypothesis $H_{a}$ is true. It is commonly **denoted by $1-\\beta$** , and represents the chances of a \"true positive\" detection conditional on the actual existence of an effect to detect. Statistical power ranges from 0 to 1, and as the power of a test increases, the probability $\\beta$  of making a type II error by wrongly failing to reject the null hypothesis decreases.\n",
        "\n",
        "https://en.wikipedia.org/wiki/Power_of_a_test"
      ]
    },
    {
      "cell_type": "markdown",
      "id": "ebdbd2ab",
      "metadata": {
        "id": "ebdbd2ab"
      },
      "source": [
        "### How Long Should We Run the Test\n",
        "\n",
        "The remaining question is: how long should we run the test? A common strategy is to stop the experiment once we observe a statistically significant result (e.g., a small p-value). Established data scientists strongly oppose p-hacking as it leads to biased results (Kohavi et al. 2020). On a related note, Airbnb has encountered the same problem when p-hacking leads to false positives (Experiments at Airbnb).\n",
        "https://towardsdatascience.com/a-practical-guide-to-a-b-tests-in-python-66666f5c3b02\n",
        "\n",
        "Rather than p hacking, run a power analysis and find the minimum sample size:\n",
        "*\t<b>Significance Level: The probability of rejecting a null hypothesis when it is true</b>. By rejecting the null hypothesis, we falsely claim there is an effect when there is no actual effect. Thus, it is also called the probability of False Positive.\n",
        "*\t<b>Statistical Power: The probability of correctly identifying the effect when there is indeed an effect</b> 1 - B\n",
        "*\tMinimum Detectable Effect (MDE): The team decides the smallest detectable difference\n",
        "\n",
        "Statistical Power:\n",
        "*\t<b>The statistical power of a study (sometimes called sensitivity) is how likely the study is to distinguish an actual effect from one of chance. It’s the likelihood that the test is correctly rejecting the null hypothesis (i.e. “proving” your hypothesis). For example, a study that has an 80% power means that the study has an 80% chance of the test having significant results.</b>\n",
        "*\tA high statistical power means that the test results are likely valid. As the power increases, the probability of making a Type II error decreases.\n",
        "*\tA low statistical power means that the test results are questionable.\n",
        "*\tStatistical power helps you to determine if your sample size is large enough. It is possible to perform a hypothesis test without calculating the statistical power. If your sample size is too small, your results may be inconclusive when they may have been conclusive if you had a large enough sample.\n",
        "*\tA Type I error is the incorrect rejection of a true null hypothesis. Alpha is the size of the test. A Type II error is where you don’t reject a false null hypothesis. This is the β. Beta (β) is the probability that you won’t reject the null hypothesis when it is false. The statistical power is the complement of this probability: 1- Β\n"
      ]
    },
    {
      "cell_type": "markdown",
      "id": "37e980de",
      "metadata": {
        "id": "37e980de"
      },
      "source": [
        "## AB Terms"
      ]
    },
    {
      "cell_type": "markdown",
      "id": "2233bd78",
      "metadata": {
        "id": "2233bd78"
      },
      "source": [
        "### Overall Evaluation Criteria (OEC)\n",
        "\n",
        "An Overall Evaluation Criterion (OEC) is a (usually composite) quantitative measure of the experiment's objective. Other names include Response or Dependent Variable, Outcome Variable, Evaluation metric, Performance metric.\n",
        "\n",
        "https://www.analytics-toolkit.com/glossary/overall-evaluation-criterion/"
      ]
    },
    {
      "cell_type": "markdown",
      "id": "e34239a0",
      "metadata": {
        "id": "e34239a0"
      },
      "source": [
        "### Gaurdrail Metrics\n",
        "\n",
        "Business metrics designed to indirectly measure business value and provide alerts about any potentially misleading or erroneous results and analysis.\n",
        "\n",
        "https://www.split.io/glossary/guardrail-metrics/"
      ]
    },
    {
      "cell_type": "markdown",
      "id": "a43885bc",
      "metadata": {
        "id": "a43885bc"
      },
      "source": [
        "### Randomization Unit\n",
        "\n",
        "A who or what randomly assigned to a group.\n",
        "\n",
        "https://ianwhitestone.work/choosing-randomization-unit/"
      ]
    },
    {
      "cell_type": "markdown",
      "id": "0d781e3b",
      "metadata": {
        "id": "0d781e3b"
      },
      "source": [
        "### Data Leakage (Interference)\n",
        "\n",
        "The behavior of the control group is influenced by the treatment given to the test group.\n",
        "\n",
        "https://towardsdatascience.com/25-a-b-testing-concepts-interview-cheat-sheet-c998a501f911"
      ]
    },
    {
      "cell_type": "markdown",
      "id": "c349d919",
      "metadata": {
        "id": "c349d919"
      },
      "source": [
        "### SUTVA Assumptions\n",
        "\n",
        "The Stable Unit Treatment Value Assumption (SUTVA) is a key assumption that is usually made in causal inference. Reference 1 gives a clear definition of SUTVA, which points out that SUTVA is really two assumptions rolled into one:\n",
        "\n",
        "* The potential outcomes for any unit do not vary with the treatments assigned to other units.\n",
        "* For each unit, there are no different forms or versions of each treatment level, which lead to different potential outcomes.\n",
        "\n",
        "https://statisticaloddsandends.wordpress.com/2021/06/08/what-is-the-stable-unit-treatment-value-assumption-sutva/"
      ]
    },
    {
      "cell_type": "markdown",
      "id": "5e267c86",
      "metadata": {
        "id": "5e267c86"
      },
      "source": [
        "### RCTs\n",
        "\n",
        "*\tRandomized Controlled Trials aka A/B Tests\n",
        "*\tThe most important assumption is the Stable Unit Treatment Value Assumption, SUTVA. It states that the <b>treatment and control units don’t interact with each other</b>; otherwise, the interference leads to biased estimates.\n",
        "\n",
        "We require that \"the [potential outcome] observation on one unit should be unaffected by the particular assignment of treatments to the other units\" (Cox 1958, §2.4). This is called the stable unit treatment value assumption (SUTVA), which goes beyond the concept of independence.\n",
        "\n",
        "In the context of our example, Joe's blood pressure should not depend on whether or not Mary receives the drug. But what if it does? Suppose that Joe and Mary live in the same house and Mary always cooks. The drug causes Mary to crave salty foods, so if she takes the drug she will cook with more salt than she would have otherwise. A high salt diet increases Joe's blood pressure. Therefore, his outcome will depend on both which treatment he received and which treatment Mary receives.\n",
        "\n",
        "SUTVA violation makes causal inference more difficult. We can account for dependent observations by considering more treatments. We create 4 treatments by taking into account whether or not Mary receives treatment.\n",
        "\n",
        "https://en.wikipedia.org/wiki/Rubin_causal_model#Stable_unit_treatment_value_assumption_(SUTVA)\n",
        "\n",
        "https://towardsdatascience.com/a-practical-guide-to-a-b-tests-in-python-66666f5c3b02"
      ]
    },
    {
      "cell_type": "markdown",
      "id": "b933dcb4",
      "metadata": {
        "id": "b933dcb4"
      },
      "source": [
        "### Minimum Detectable Effect\n",
        "\n",
        "Minimum Detectable Effect = Practical Significance Level\n",
        "\n",
        "Minimum detectable effect (MDE) is a calculation that estimates the smallest improvement you are willing to be able to detect. It determines how \"sensitive\" an experiment is. Use MDE to estimate how long an experiment will take given the following:\n",
        "\n",
        "* Baseline conversion rate\n",
        "* Statistical significance\n",
        "* Traffic allocation\n",
        "\n",
        "https://support.optimizely.com/hc/en-us/articles/4410288881293-Use-minimum-detectable-effect-MDE-when-designing-an-experiment\n",
        "\n",
        "Minimum effect is a business decision more than anything else, not really a data scientist decision. At work, it will typically be a product manager decision. After all, for that you need to take into account things like engineering costs, time, and opportunity-cost of not using those resources to run other tests. And that requires a comprehensive company vision which is typical of product managers, or VP/Director of product in smaller companies.\n",
        "\n",
        "https://productds.com/wp-content/uploads/Sample_size.html"
      ]
    },
    {
      "cell_type": "markdown",
      "id": "8792cbab",
      "metadata": {
        "id": "8792cbab"
      },
      "source": [
        "### Practical, or Substantive, Significance\n",
        "\n",
        "The fact that an estimated regression coefficient is “statistically significant” (i.e., you can reject the null hypothesis that the true β is 0 with a high level of confidence) does not mean that your independent variable is substantively important. Did it reach MDE?"
      ]
    },
    {
      "cell_type": "markdown",
      "id": "a9da1e2f",
      "metadata": {
        "id": "a9da1e2f"
      },
      "source": [
        "## Statistical Power\n",
        "\n",
        "\n",
        "*\t<b>Significance Level Decreases -> Larger Sample Size</b>\n",
        "*\t<b>Statistical Power Increases -> Larger Sample Size</b>\n",
        "* <b>MDE Decreases -> Larger Sample Size</b>\n",
        "\n",
        "Stephanie Glen. \"Statistical Power: What it is, How to Calculate it\" From StatisticsHowTo.com: Elementary Statistics for the rest of us! https://www.statisticshowto.com/statistical-power/"
      ]
    },
    {
      "cell_type": "markdown",
      "id": "5364cf34",
      "metadata": {
        "id": "5364cf34"
      },
      "source": [
        "### Effect Size\n",
        "\n",
        "In statistics, an effect size is a value measuring the strength of the relationship between two variables in a population, or a sample-based estimate of that quantity. It can refer to the value of a statistic calculated from a sample of data, the value of a parameter for a hypothetical population, or to the equation that operationalizes how statistics or parameters lead to the effect size value.\n",
        "\n",
        "https://en.wikipedia.org/wiki/Effect_size\n",
        "\n",
        "https://www.simplypsychology.org/effect-size.html"
      ]
    },
    {
      "cell_type": "markdown",
      "id": "42b2c63a",
      "metadata": {
        "id": "42b2c63a"
      },
      "source": [
        "### Sample Size\n",
        "\n",
        "How long should we run the experiment? How many customers do we need?\n",
        "\n",
        "Requires:\n",
        "\n",
        "* MDE\n",
        "* Power\n",
        "* Significance\n",
        "\n",
        "https://www.evanmiller.org/ab-testing/sample-size.html"
      ]
    },
    {
      "cell_type": "code",
      "execution_count": null,
      "id": "d25e9bd0",
      "metadata": {
        "id": "d25e9bd0",
        "outputId": "e7f9a0ad-fdd2-411c-83c3-6bac8d125f52"
      },
      "outputs": [
        {
          "name": "stdout",
          "output_type": "stream",
          "text": [
            "Effect Size: -0.0491\n",
            "Sample Size: 6507\n"
          ]
        }
      ],
      "source": [
        "# power analysis\n",
        "import statsmodels.stats.api as sms\n",
        "\n",
        "effect_size = sms.proportion_effectsize(0.20, 0.22) # baseline = .20, MDE = 2%\n",
        "print(f'Effect Size: {effect_size.round(4)}')\n",
        "\n",
        "size = sms.NormalIndPower().solve_power(\n",
        "    effect_size,\n",
        "    power=0.8,\n",
        "    alpha=0.05,\n",
        "    ratio=1\n",
        "    )\n",
        "\n",
        "print(f'Sample Size: {round(size)}')"
      ]
    },
    {
      "cell_type": "markdown",
      "id": "e1d239f3",
      "metadata": {
        "id": "e1d239f3"
      },
      "source": [
        "### Pooled Variance\n",
        "\n",
        "Pooled variance (also called combined, composite, or overall variance) is a way to estimate common variance when you believe that different populations have the same variances.\n",
        "\n",
        "https://www.statisticshowto.com/pooled-variance/\n",
        "\n",
        "Stephanie Glen. \"Pooled Variance\" From StatisticsHowTo.com: Elementary Statistics for the rest of us! https://www.statisticshowto.com/pooled-variance/\n",
        "\n",
        "The standard error of a sample is another name for the standard deviation of a sample (it tells you how spread out your data is from some the mean). A pooled standard error accounts for two sample variances and assumes that both of the variances from the two samples are equal. **It’s called a “pooled” standard error because you’re pooling the data from both samples into one**. There’s a slight difference between standard deviation and pooled sample standard error:\n",
        "\n",
        "* When we are talking about a population, we talk about standard deviations.\n",
        "* When we talk about a sample we call it a standard error.\n",
        "\n",
        "https://www.statisticshowto.com/find-pooled-sample-standard-error/\n",
        "\n",
        "Stephanie Glen. \"Pooled Sample Standard Error: How to Calculate it\" From StatisticsHowTo.com: Elementary Statistics for the rest of us! https://www.statisticshowto.com/find-pooled-sample-standard-error/\n",
        "\n",
        "**More Reading**\n",
        "\n",
        "* https://sphweb.bumc.bu.edu/otlt/mph-modules/bs/bs704_confidence_intervals/bs704_confidence_intervals5.html\n",
        "* https://statisticsbyjim.com/hypothesis-testing/confidence-intervals-compare-means/"
      ]
    },
    {
      "cell_type": "markdown",
      "id": "39137882",
      "metadata": {
        "id": "39137882"
      },
      "source": [
        "## Metrics"
      ]
    },
    {
      "cell_type": "markdown",
      "id": "e78de06e",
      "metadata": {
        "id": "e78de06e"
      },
      "source": [
        "### Discrete Metrics (Binomial Metrics)\n",
        "\n",
        "Only two values are possible (0 or 1)\n",
        "\n",
        "* Click-Through-Rate: Does a user click after seeing something\n",
        "* Conversion Rate: Does a user become a customer after seeing something\n",
        "* Click-Through-Probability: The probability a user clicks on the next step\n",
        "* Bounce Rate: Percentage of people that land on your page and then leave"
      ]
    },
    {
      "cell_type": "markdown",
      "id": "83bc499a",
      "metadata": {
        "id": "83bc499a"
      },
      "source": [
        "### Continuous Metrics\n",
        "\n",
        "* Average Revenue Per User\n",
        "* Average Session Duration\n",
        "* Average Order Value"
      ]
    },
    {
      "cell_type": "markdown",
      "id": "b4f61638",
      "metadata": {
        "id": "b4f61638"
      },
      "source": [
        "### Binomial Distribution\n",
        "\n",
        "Successes and Fails\n",
        "\n",
        "Formula:<br />\n",
        "$P(x: n,p) = \\binom {n}{x} p^x (1 - p)^{(n-x)}$\n",
        "\n",
        "* n trials\n",
        "* x successes\n",
        "\n",
        "According to StatisticsHowTo (2022):\n",
        "\n",
        "> A binomial distribution can be thought of as simply the probability of a SUCCESS or FAILURE outcome in an experiment or survey that is repeated multiple times. The binomial is a type of distribution that has two possible outcomes (the prefix “bi” means two, or twice). For example, a coin toss has only two possible outcomes: heads or tails and taking a test could have two possible outcomes: pass or fail.\n",
        "\n",
        "https://www.statisticshowto.com/probability-and-statistics/binomial-theorem/binomial-distribution-formula/\n",
        "\n",
        "Stephanie Glen. \"Binomial Distribution: Formula, What it is, How to use it\" From StatisticsHowTo.com: Elementary Statistics for the rest of us! https://www.statisticshowto.com/probability-and-statistics/binomial-theorem/binomial-distribution-formula/"
      ]
    },
    {
      "cell_type": "code",
      "execution_count": null,
      "id": "e46b7610",
      "metadata": {
        "id": "e46b7610",
        "outputId": "6216fb53-0ebe-41df-a82f-32739049e3c8"
      },
      "outputs": [
        {
          "data": {
            "text/plain": [
              "0.24609375000000003"
            ]
          },
          "execution_count": 12,
          "metadata": {},
          "output_type": "execute_result"
        }
      ],
      "source": [
        "# define success - getting heads; A fair coins is flipped 10 times. What is the probability of getting 5 heads?\n",
        "# vs getting 5 heads in a row 1/2^5\n",
        "from scipy import stats\n",
        "\n",
        "stats.binom.pmf(5, 10, .5)"
      ]
    },
    {
      "cell_type": "markdown",
      "id": "3cf4a0d2",
      "metadata": {
        "id": "3cf4a0d2"
      },
      "source": [
        "### Normal Distribution\n",
        "\n",
        "Compare the formula for the normal distribution as shown below\n",
        "\n",
        "$\n",
        "\\frac{1}{\\sqrt{2\\pi\\sigma^2}}\\large{e^\\frac{-(x-\\mu)^2}{2\\sigma^2}}\n",
        "$\n",
        "\n",
        "with the python code below\n",
        "\n",
        "1/(np.sqrt(2 * np.pi * sigma&ast;&ast;2)) * np.exp( - (x - mu)&ast;&ast;2 / (2 * sigma&ast;&ast;2))\n",
        "\n",
        "Let's break the code down:\n",
        "* x = our set of numbers\n",
        "* mu = mean\n",
        "* sigma&ast;&ast;2 (sigma squared) = variance of x (sigma = std)\n",
        "* exp = exponential\n",
        "* 1 is our numerator\n",
        "* np.sqrt(2 * np.pi * sigma&ast;&ast;2) = $\\sqrt{2\\pi\\sigma^2}$ NOTE: the two asterisk designate a power such as squared\n",
        "* np.exp( - (x - mu)&ast;&ast;2 / (2 * sigma&ast;&ast;2)) = $\\large{e^\\frac{-(x-\\mu)^2}{2\\sigma^2}}$"
      ]
    },
    {
      "cell_type": "markdown",
      "id": "283490ea",
      "metadata": {
        "id": "283490ea"
      },
      "source": [
        "### Conversion Rates\n",
        "\n",
        "* Conversion rate: Conversion rates are calculated by simply taking the number of conversions and dividing that by the number of total ad interactions that can be tracked to a conversion during the same time period. For example, if you had 50 conversions from 1,000 interactions, your conversion rate would be 5%, since 50 ÷ 1,000 = 5%. https://support.google.com/google-ads/answer/2684489?hl=en\n",
        "* Baseline conversion rate: Current conversion rate represented as a percentage\n",
        "* A conversion can refer to any desired action that you want the user to take. This can include anything from a click on a button to making a purchase and becoming a customer. Websites and apps often have multiple conversion goals, and each will have its own conversion rate.\n",
        "\n",
        "https://www.optimizely.com/optimization-glossary/conversion-rate/"
      ]
    },
    {
      "cell_type": "markdown",
      "id": "e3ea6331",
      "metadata": {
        "id": "e3ea6331"
      },
      "source": [
        "### One Tail vs Two Tail AB Tests in Terms of CVR\n",
        "\n",
        "* Both Control and Treatment have equal conversion rates:\n",
        "    * null $Control (A) = Treatment (B)$\n",
        "    * alt $Control (A) \\ne Treatment (B)$\n",
        "* Treatment group's conversion rate is no better than the Control group's and could be worse:\n",
        "    * null $Control (A) \\geq Treatment (B)$\n",
        "    * alt $Control (A) \\lt Treatment (B)$\n",
        "* One tail tests look for an improvement in customer experience\n",
        "\n",
        "https://dominicsando.medium.com/why-two-sided-testing-is-reducing-your-a-b-testing-programs-impact-by-25-11d72276446a"
      ]
    },
    {
      "cell_type": "markdown",
      "id": "fa98f5f5",
      "metadata": {
        "id": "fa98f5f5"
      },
      "source": [
        "### Lift\n",
        "\n",
        "Lift indicates if the treatment is better than the control. Lift is a percentage of how the treatment compares to the null hypothesis (control group).\n",
        "\n",
        "Formula:\n",
        "* (test - control) / control (* 100)\n",
        "\n",
        "https://henrykpano.medium.com/a-b-testing-calculating-lift-rate-of-a-test-3d071514deb4"
      ]
    },
    {
      "cell_type": "markdown",
      "id": "22f5bf61",
      "metadata": {
        "id": "22f5bf61"
      },
      "source": [
        "## The Tests"
      ]
    },
    {
      "cell_type": "markdown",
      "id": "ba51b278",
      "metadata": {
        "id": "ba51b278"
      },
      "source": [
        "###  The T-Test\n",
        "\n",
        "A t-test is any statistical hypothesis test in which the test statistic follows a Student's t-distribution under the null hypothesis. It is most commonly applied when the test statistic would follow a normal distribution if the value of a scaling term in the test statistic were known (typically, the scaling term is unknown and therefore a nuisance parameter). When the scaling term is estimated based on the data, the test statistic—under certain conditions—follows a Student's t distribution. The t-test's most common application is to test whether the means of two populations are different.\n",
        "\n",
        "https://en.wikipedia.org/wiki/Student%27s_t-test\n",
        "\n",
        "### The Student's t-Statistic (A Test Statistic)\n",
        "\n",
        "* Developed by William Gosset in 1908 while working at the Guiness brewery but couldn't use his name, his employer preferred staff to use pen names when publishing scientific papers\n",
        "* Used to determine how far the statistic is from 0 (the mean) in respect to standard errors\n",
        "* The standard deviation reflects variability within a sample, while the standard error estimates the variability across samples of a population https://www.scribbr.com/statistics/standard-error/\n",
        "* Standard error of the mean (SEM) measures how far the sample mean (average) of the data is likely to be from the true population mean. The SEM is always smaller than the SD. https://www.investopedia.com/ask/answers/042415/what-difference-between-standard-error-means-and-standard-deviation.asp\n",
        "* The standard deviation of sample means, is called the standard error. The standard error tells you how accurate the mean of any given sample from that population is likely to be compared to the true population mean. When the standard error increases, i.e. the means are more spread out, it becomes more likely that any given mean is an inaccurate representation of the true population mean. https://s4be.cochrane.org/blog/2018/09/26/a-beginners-guide-to-standard-deviation-and-standard-error/\n",
        "* Given a t-value and the sample size, software can provide a precise p-value\n",
        "* For large samples, t-values +- 2 standard errors corresponds to p-value < 0.05\n",
        "\n",
        "### Standard Error\n",
        "\n",
        "$se = \\frac{\\sigma}{\\sqrt{n}}$\n",
        "\n",
        "Confidence Intervals: $\\bar{x} \\pm z*\\frac{\\sigma}{\\sqrt{n}}$\n",
        "\n",
        "If the population standard deviation is not known, you can substitute the sample standard deviation, s, in the numerator to approximate the standard error.\n",
        "\n",
        "https://www.investopedia.com/terms/s/standard-error.asp\n",
        "\n",
        "The standard error (SE) of a statistic (usually an estimate of a parameter) is the standard deviation of its sampling distribution or an estimate of that standard deviation. If the statistic is the sample mean, it is called the standard error of the mean (SEM). The sampling distribution of a mean is generated by repeated sampling from the same population and recording of the sample means obtained. This forms a distribution of different means, and this distribution has its own mean and variance. Mathematically, the variance of the sampling mean distribution obtained is equal to the variance of the population divided by the sample size. This is because as the sample size increases, sample means cluster more closely around the population mean.\n",
        "\n",
        "https://en.wikipedia.org/wiki/Standard_error\n",
        "\n",
        "The standard deviation reflects variability within a sample, while the standard error estimates the variability across samples of a population https://www.scribbr.com/statistics/standard-error/\n",
        "\n",
        "### t-Test\n",
        "\n",
        "Note: Standard deviation is the square root of the variance\n",
        "\n",
        "- When we use z scores with a normal distribution, we have to know the population's standard deviation\n",
        "- If we don't know the population standard deviation, Student's T-Distribution\n",
        "- Student's t-test determines if there is a significant difference between two sets of data\n",
        "- Can't just compare means due to variance and outliers\n",
        "- t-test also considers sample variances"
      ]
    },
    {
      "cell_type": "markdown",
      "id": "48c64853",
      "metadata": {
        "id": "48c64853"
      },
      "source": [
        "### One Sample t Test\n",
        "\n",
        "- We don't know the population standard deviation\n",
        "- Tests null hypothesis that population mean is equal to a specified $\\mu$ based on a sample mean $\\bar{x}$\n",
        "- $H_0$: Sample mean = Population mean\n",
        "\n",
        "In statistics, the t-statistic is the ratio of the departure of the estimated value of a parameter from its hypothesized value to its standard error.\n",
        "\n",
        "https://en.wikipedia.org/wiki/T-statistic\n",
        "\n",
        "t-statistic formula:\n",
        "- $t = \\frac{\\bar{x} - \\mu}{s/\\sqrt{n}}$"
      ]
    },
    {
      "cell_type": "code",
      "execution_count": null,
      "id": "ee847f75",
      "metadata": {
        "id": "ee847f75",
        "outputId": "2db94871-7486-4c0b-e1a0-0e5eb1bc36ee"
      },
      "outputs": [
        {
          "name": "stdout",
          "output_type": "stream",
          "text": [
            "Ttest_1sampResult(statistic=array([-50.89876467, -48.48896788]), pvalue=array([8.40877727e-73, 8.52005718e-71]))\n"
          ]
        }
      ],
      "source": [
        "# one sample t test\n",
        "from scipy import stats\n",
        "\n",
        "rvs = stats.norm.rvs(loc=0, scale=1, size=(100, 2))\n",
        "print(stats.ttest_1samp(rvs, popmean=5.0))"
      ]
    },
    {
      "cell_type": "markdown",
      "id": "af016310",
      "metadata": {
        "id": "af016310"
      },
      "source": [
        "Returns:\n",
        "\n",
        "* The t-statistic\n",
        "* The p-value associated with the given alternative"
      ]
    },
    {
      "cell_type": "markdown",
      "id": "c1124f0f",
      "metadata": {
        "id": "c1124f0f"
      },
      "source": [
        "### Independent Two-Sample t-Test\n",
        "\n",
        "- $H_0$: $\\bar{x_1} = \\bar{x_2}$\n",
        "- Are two samples from the class equal?\n",
        "\n",
        "t-statistic can have:\n",
        "- equal sample sizes, equal variance\n",
        "- unequal sample sizes, equal variance\n",
        "- equal of unequal sample sizes, unequal variance (Welch's t-test)\n",
        "\n",
        "t = signal/noise = difference in means/sample variability = $\\frac{(\\bar{x_1} - \\bar{x_2})}{\\sqrt{\\frac{s_1^2}{n_1}+\\frac{s_2^2}{n_2}}}$\n",
        "\n",
        "Compared to a t-score:\n",
        "- $t$ = t-statistic\n",
        "- $t_{df, \\alpha}$ = t-critical\n",
        "- df = degrees of freedom\n",
        "- General formula for df = n1 + n2 - 2 for equal variance or\n",
        "- Also see Welch-Satterthwaite Formula\n",
        "- $\\alpha$ = significance level"
      ]
    },
    {
      "cell_type": "code",
      "execution_count": null,
      "metadata": {
        "id": "cfde33e0",
        "outputId": "b5f3107b-d2c5-40b8-995e-4999177bcdab"
      },
      "outputs": [
        {
          "name": "stdout",
          "output_type": "stream",
          "text": [
            "Is the difference in means statistically different? 6.200000000000003\n",
            "Ttest_indResult(statistic=4.438647827101135, pvalue=0.00031717468375262335)\n"
          ]
        }
      ],
      "source": [
        "import numpy as np\n",
        "import random\n",
        "\n",
        "class1 = [random.randint(90, 100) for i in range(10)]\n",
        "class2 = [random.randint(83, 93) for i in range(10)]\n",
        "\n",
        "print('Is the difference in means statistically different?', np.mean(class1) - np.mean(class2))\n",
        "\n",
        "print(stats.ttest_ind(class1, class2))"
      ],
      "id": "cfde33e0"
    },
    {
      "cell_type": "code",
      "execution_count": null,
      "metadata": {
        "id": "6b8eca6a",
        "outputId": "170b8b95-49e5-43b3-c7e4-c3d9f5f12af5"
      },
      "outputs": [
        {
          "name": "stdout",
          "output_type": "stream",
          "text": [
            "Is the difference in means statistically different? -0.7000000000000028\n",
            "Ttest_indResult(statistic=-0.5377548957181653, pvalue=0.5973329350674532)\n"
          ]
        }
      ],
      "source": [
        "import numpy as np\n",
        "\n",
        "class1 = [random.randint(90, 100) for i in range(10)]\n",
        "class2 = [random.randint(91, 101) for i in range(10)]\n",
        "\n",
        "print('Is the difference in means statistically different?', np.mean(class1) - np.mean(class2))\n",
        "\n",
        "print(stats.ttest_ind(class1, class2))"
      ],
      "id": "6b8eca6a"
    },
    {
      "cell_type": "code",
      "execution_count": null,
      "id": "13585371",
      "metadata": {
        "id": "13585371",
        "outputId": "c7b9bd48-0c49-4d93-8733-21687ab23ea0"
      },
      "outputs": [
        {
          "name": "stdout",
          "output_type": "stream",
          "text": [
            "Ttest_indResult(statistic=-1.2884594556775644, pvalue=0.1978846913896977)\n"
          ]
        }
      ],
      "source": [
        "# independent t test\n",
        "from scipy import stats\n",
        "\n",
        "rvs1 = stats.norm.rvs(loc=5, scale=10, size=500)\n",
        "rvs2 = stats.norm.rvs(loc=5, scale=10, size=500)\n",
        "print(stats.ttest_ind(rvs1,rvs2)) # assumes that the populations have identical variances by default"
      ]
    },
    {
      "cell_type": "markdown",
      "id": "abf528b9",
      "metadata": {
        "id": "abf528b9"
      },
      "source": [
        "### Shapiro-Wilk\n",
        "\n",
        "https://www.ncbi.nlm.nih.gov/pmc/articles/PMC6676026/#:~:text=The%20purpose%20of%20the%20t,essential%20in%20the%20t%2Dtest\n",
        "\n",
        "The Shapiro–Wilk test is a test of normality. It was published in 1965 by Samuel Sanford Shapiro and Martin Wilk.\n",
        "\n",
        "https://en.wikipedia.org/wiki/Shapiro%E2%80%93Wilk_test\n",
        "\n",
        "If the p-value of the test is greater than α = .05, then the data is assumed to be normally distributed."
      ]
    },
    {
      "cell_type": "code",
      "execution_count": null,
      "id": "30ad145f",
      "metadata": {
        "id": "30ad145f",
        "outputId": "f7181037-c572-4464-da4b-337074530b9b"
      },
      "outputs": [
        {
          "data": {
            "text/plain": [
              "ShapiroResult(statistic=0.9983264207839966, pvalue=0.4467959403991699)"
            ]
          },
          "execution_count": 16,
          "metadata": {},
          "output_type": "execute_result"
        }
      ],
      "source": [
        "import math\n",
        "import numpy as np\n",
        "from scipy.stats import shapiro\n",
        "\n",
        "x = np.random.normal(0, 1, 1000)\n",
        "shapiro(x)"
      ]
    },
    {
      "cell_type": "markdown",
      "id": "9e896179",
      "metadata": {
        "id": "9e896179"
      },
      "source": [
        "### Kolmogorov-Smirnov Test\n",
        "\n",
        "In statistics, the Kolmogorov–Smirnov test (K–S test or KS test) is a nonparametric test of the equality of continuous (or discontinuous), one-dimensional probability distributions that can be used to compare a sample with a reference probability distribution (one-sample K–S test), or to compare two samples (two-sample K–S test). In essence, the test answers the question \"What is the probability that this collection of samples could have been drawn from that probability distribution?\" or, in the second case, \"**What is the probability that these two sets of samples were drawn from the same (but unknown) probability distribution?**\". It is named after Andrey Kolmogorov and Nikolai Smirnov.\n",
        "\n",
        "Tests for normality.\n",
        "\n"
      ]
    },
    {
      "cell_type": "markdown",
      "source": [
        "### A/A Testing\n",
        "\n",
        "* Split the users into two groups and give them both the treatment\n",
        "* The idea here is to validate the test setup by seeing that you get roughly the same performance from each variant. You’re testing the same thing against itself, to see if there’s noise in the data, instead of signal\n",
        "\n",
        "https://cxl.com/blog/aa-testing-waste-time/"
      ],
      "metadata": {
        "id": "UM-T81YIdXRU"
      },
      "id": "UM-T81YIdXRU"
    },
    {
      "cell_type": "code",
      "execution_count": null,
      "id": "30f64bac",
      "metadata": {
        "id": "30f64bac",
        "outputId": "81afc0e7-5803-4706-86b8-53d4a420b094"
      },
      "outputs": [
        {
          "data": {
            "text/plain": [
              "KstestResult(statistic=0.009058866902973084, pvalue=0.38239176747742043)"
            ]
          },
          "execution_count": 17,
          "metadata": {},
          "output_type": "execute_result"
        }
      ],
      "source": [
        "# A/A test\n",
        "import numpy as np\n",
        "import random\n",
        "from scipy import stats\n",
        "\n",
        "population = np.random.normal(loc = 0, scale = 1, size = 30)\n",
        "p_values = []\n",
        "\n",
        "for i in range(10000):\n",
        "    g1 = []\n",
        "    g2 = []\n",
        "    for j in population:\n",
        "        rnd_num = random.random()\n",
        "        g2.append(j) if rnd_num <= 0.5 else g1.append(j)\n",
        "\n",
        "    result = stats.ttest_ind(g1, g2)\n",
        "    p_values.append(result.pvalue)\n",
        "\n",
        "stats.kstest(p_values, 'uniform')"
      ]
    },
    {
      "cell_type": "markdown",
      "id": "1cbe1dee",
      "metadata": {
        "id": "1cbe1dee"
      },
      "source": [
        "### Sample Ratio Mismatch Using Chi-Square\n",
        "\n",
        "Are observed group sizes significantly different from expected values?\n",
        "\n",
        "$\\chi^2 = \\sum\\frac{(O - E)^2}{E}$\n",
        "\n",
        "where\n",
        "* O is observed value\n",
        "* E is expected value"
      ]
    },
    {
      "cell_type": "code",
      "execution_count": null,
      "id": "7afe134f",
      "metadata": {
        "id": "7afe134f",
        "outputId": "5758676a-602f-411c-cf11-238d38c45dc3"
      },
      "outputs": [
        {
          "data": {
            "text/plain": [
              "Power_divergenceResult(statistic=2.7607361963190185, pvalue=0.0966037727627497)"
            ]
          },
          "execution_count": 18,
          "metadata": {},
          "output_type": "execute_result"
        }
      ],
      "source": [
        "import numpy as np\n",
        "from scipy.stats import chisquare\n",
        "\n",
        "g1 = 4000\n",
        "g2 = 4150\n",
        "expv = np.mean([g1, g2])\n",
        "chisquare([g1, g2], f_exp=[expv, expv])"
      ]
    },
    {
      "cell_type": "markdown",
      "id": "b05b16a9",
      "metadata": {
        "id": "b05b16a9"
      },
      "source": [
        "### Fisher's Exact Test\n",
        "\n",
        "Test of independence\n",
        "\n",
        "Although in practice it is employed when sample sizes are small, it is valid for all sample sizes. It is named after its inventor, Ronald Fisher, and is one of a class of exact tests, so called because the significance of the deviation from a null hypothesis (e.g., P-value) can be calculated exactly, rather than relying on an approximation that becomes exact in the limit as the sample size grows to infinity, as with many statistical tests.\n",
        "\n",
        "Fisher's exact test is a statistical test used to **determine if there are nonrandom associations between two categorical variables**.\n",
        "\n",
        "https://mathworld.wolfram.com/FishersExactTest.html#:~:text=Fisher's%20exact%20test%20is%20a,of%20observations%20in%20which%20and%20."
      ]
    },
    {
      "cell_type": "code",
      "execution_count": null,
      "id": "2b3df35a",
      "metadata": {
        "id": "2b3df35a",
        "outputId": "d9fe108b-80d2-4cef-fb8f-43b11d17daf3"
      },
      "outputs": [
        {
          "name": "stdout",
          "output_type": "stream",
          "text": [
            "Data\n",
            "x: [1 0 0 1 1 1 1 0 1 0 1 0 0 1 1 1 1 1 1]\n",
            "y: [0 0 0 0 0 0 1 0 0 0 0 0 0 0 1 1 1 0 0 0 0]\n",
            "\n",
            "Contingency Table\n",
            "         A   B\n",
            "stay     6  17\n",
            "bounce  13   4\n",
            "\n",
            "p: 0.003\n"
          ]
        }
      ],
      "source": [
        "import numpy as np\n",
        "import pandas as pd\n",
        "from scipy.stats import hypergeom\n",
        "from scipy.stats import fisher_exact\n",
        "\n",
        "np.random.seed(42)\n",
        "\n",
        "x = np.random.binomial(n=1, p=0.7, size=19)\n",
        "y = np.random.binomial(n=1, p=0.3, size=21)\n",
        "\n",
        "_, (a, c) = np.unique(x, return_counts=True)\n",
        "_, (b, d) = np.unique(y, return_counts=True)\n",
        "\n",
        "ct = pd.DataFrame(data=[[a, b], [c, d]], index=['stay', 'bounce'], columns=['A', 'B'])\n",
        "\n",
        "m = ct.values\n",
        "print('Data')\n",
        "print(f'x: {x}')\n",
        "print(f'y: {y}')\n",
        "print('\\nContingency Table')\n",
        "print(ct)\n",
        "\n",
        "table = np.array([[m[0, 0], m[0, 1]], [m[1, 0], m[1, 1]]])\n",
        "_, p = fisher_exact(table, alternative='two-sided')\n",
        "print(f'\\np: {p:.3f}')"
      ]
    },
    {
      "cell_type": "markdown",
      "id": "963e4a3c",
      "metadata": {
        "id": "963e4a3c"
      },
      "source": [
        "### Pearson's Chi-Squared Test\n",
        "\n",
        "A statistical test applied to sets of categorical data to evaluate how likely it is that any observed difference between the sets arose by chance.\n",
        "\n",
        "https://en.wikipedia.org/wiki/Pearson%27s_chi-squared_test"
      ]
    },
    {
      "cell_type": "code",
      "execution_count": null,
      "id": "05993e25",
      "metadata": {
        "id": "05993e25",
        "outputId": "2165370e-0a5d-4d07-ca1a-865c08fe174c"
      },
      "outputs": [
        {
          "name": "stdout",
          "output_type": "stream",
          "text": [
            "Political Affiliation  Democrat  Other  Republican  Total\n",
            "Age Group                                                \n",
            "18-29                        68      4         141    213\n",
            "30-44                       159      7         179    345\n",
            "45-65                       216      4         220    440\n",
            "65 & older                   86      4         101    191\n",
            "Total                       529     19         641   1189\n",
            "\n",
            "Approach 1: The p-value approach to hypothesis testing in the decision rule\n",
            "chisquare-score is: 19.481729605501187  and p value is: 0.0034228899561198345\n",
            "Null Hypothesis is rejected.\n",
            "--------------------------------------------------------------------------------------\n",
            "Approach 2: The critical value approach to hypothesis testing in the decision rule\n",
            "chisquare-score is: 19.481729605501187  and critical value is: 12.591587243743977\n",
            "Null Hypothesis is rejected.\n"
          ]
        }
      ],
      "source": [
        "# https://towardsdatascience.com/chi-square-test-with-python-d8ba98117626\n",
        "import pandas as pd\n",
        "import scipy.stats as stats\n",
        "\n",
        "# create sample data according to survey\n",
        "data = [['18-29', 'Republican'] for i in range(141)] + \\\n",
        "        [['18-29', 'Democrat'] for i in range(68)] + \\\n",
        "        [['18-29', 'Other'] for i in range(4)] + \\\n",
        "        [['30-44', 'Republican'] for i in range(179)] + \\\n",
        "        [['30-44', 'Democrat'] for i in range(159)] + \\\n",
        "        [['30-44', 'Other'] for i in range(7)] + \\\n",
        "        [['45-65', 'Republican'] for i in range(220)] + \\\n",
        "        [['45-65', 'Democrat'] for i in range(216)] + \\\n",
        "        [['45-65', 'Other'] for i in range(4)] + \\\n",
        "        [['65 & older', 'Republican'] for i in range(101)] + \\\n",
        "        [['65 & older', 'Democrat'] for i in range(86)] + \\\n",
        "        [['65 & older', 'Other'] for i in range(4)]\n",
        "df = pd.DataFrame(data, columns = ['Age Group', 'Political Affiliation'])\n",
        "\n",
        "# create contingency table\n",
        "data_crosstab = pd.crosstab(df['Age Group'],\n",
        "                            df['Political Affiliation'],\n",
        "                           margins=True, margins_name=\"Total\")\n",
        "\n",
        "# significance level\n",
        "alpha = 0.05\n",
        "\n",
        "# Calcualtion of Chisquare\n",
        "chi_square = 0\n",
        "rows = df['Age Group'].unique()\n",
        "columns = df['Political Affiliation'].unique()\n",
        "for i in columns:\n",
        "    for j in rows:\n",
        "        O = data_crosstab[i][j]\n",
        "        E = data_crosstab[i]['Total'] * data_crosstab['Total'][j] / data_crosstab['Total']['Total']\n",
        "        chi_square += (O-E)**2/E\n",
        "\n",
        "print(data_crosstab)\n",
        "print()\n",
        "\n",
        "# The p-value approach\n",
        "print(\"Approach 1: The p-value approach to hypothesis testing in the decision rule\")\n",
        "p_value = 1 - stats.chi2.cdf(chi_square, (len(rows)-1)*(len(columns)-1))\n",
        "conclusion = \"Failed to reject the null hypothesis.\"\n",
        "if p_value <= alpha:\n",
        "    conclusion = \"Null Hypothesis is rejected.\"\n",
        "\n",
        "print(\"chisquare-score is:\", chi_square, \" and p value is:\", p_value)\n",
        "print(conclusion)\n",
        "\n",
        "# The critical value approach\n",
        "print(\"--------------------------------------------------------------------------------------\")\n",
        "print(\"Approach 2: The critical value approach to hypothesis testing in the decision rule\")\n",
        "critical_value = stats.chi2.ppf(1-alpha, (len(rows)-1)*(len(columns)-1))\n",
        "conclusion = \"Failed to reject the null hypothesis.\"\n",
        "if chi_square > critical_value:\n",
        "    conclusion = \"Null Hypothesis is rejected.\"\n",
        "\n",
        "print(\"chisquare-score is:\", chi_square, \" and critical value is:\", critical_value)\n",
        "print(conclusion)"
      ]
    },
    {
      "cell_type": "markdown",
      "id": "f21d5a80",
      "metadata": {
        "id": "f21d5a80"
      },
      "source": [
        "### Z-Test\n",
        "\n",
        "* Observations are normally distributed or the sample is large\n",
        "* Variances are known\n",
        "* $t = \\frac{\\bar{x}_1 - \\bar{x}_2}{\\sqrt{\\frac{{s^2_1}}{n_1} + \\frac{{s^2_2}}{n_2}}}$\n",
        "* https://docs.scipy.org/doc/scipy/reference/generated/scipy.stats.ttest_ind.html\n",
        "\n",
        "Before we perform the test, we need to decide if we’ll assume the two populations have equal variances or not. As a rule of thumb, we can assume the populations have equal variances if the ratio of the larger sample variance to the smaller sample variance is less than 4:1... The ratio of the larger sample variance to the smaller sample variance is 12.26 / 7.73 = 1.586, which is less than 4. This means we can assume that the population variances are equal. [8]\n",
        "\n",
        "[1][8]"
      ]
    },
    {
      "cell_type": "code",
      "execution_count": null,
      "id": "be2e3d53",
      "metadata": {
        "id": "be2e3d53",
        "outputId": "e7f19ecc-d196-4ad8-f4cb-21734c28b0a1"
      },
      "outputs": [
        {
          "name": "stdout",
          "output_type": "stream",
          "text": [
            "LeveneResult(statistic=0.10171036138963314, pvalue=0.7506502410783215)\n",
            "4:1 ratio: 1.1435038598268332\n",
            "Ttest_indResult(statistic=-0.11253381760304303, pvalue=0.910693020615128)\n"
          ]
        }
      ],
      "source": [
        "from scipy import stats\n",
        "\n",
        "g1 = np.random.normal(0, 1, 37)\n",
        "g2 = np.random.normal(0, 1, 42)\n",
        "\n",
        "variances = [np.var(g1), np.var(g2)]\n",
        "\n",
        "print(stats.levene(g1, g2)) # p > 0.05 signifies eq var\n",
        "print(f'4:1 ratio: {max(variances) / min(variances)}')\n",
        "\n",
        "# zval = (g1.mean() - g2.mean()) / np.sqrt(np.var(g1)/len(x) + np.var(g2)/len(y))\n",
        "# print(zval)\n",
        "# print((stats.norm.cdf(zval) * 2).round(3)) # * 2 for two tailed assignment 5\n",
        "# print((stats.norm.sf(abs(zval)) * 2).round(3)) # assignment 8\n",
        "print(stats.ttest_ind(g1, g2, equal_var=True, alternative='two-sided'))"
      ]
    },
    {
      "cell_type": "markdown",
      "id": "4fff6cec",
      "metadata": {
        "id": "4fff6cec"
      },
      "source": [
        "### Student's T-Test Two Sided\n",
        "\n",
        "* The observations are normally distributed or the sample size is large\n",
        "* The sampling distributions have similar variances, $\\sigma^2_x \\approx \\sigma^2_y$\n",
        "\n",
        "[1]"
      ]
    },
    {
      "cell_type": "code",
      "execution_count": null,
      "id": "b5f5176b",
      "metadata": {
        "id": "b5f5176b",
        "outputId": "a2f0ea6b-8f18-48e5-fe28-5419c7585fc0"
      },
      "outputs": [
        {
          "name": "stdout",
          "output_type": "stream",
          "text": [
            "LeveneResult(statistic=0.1975584620228295, pvalue=0.6599983245710374)\n",
            "4:1 ratio: 1.4183288079511378\n",
            "Ttest_indResult(statistic=1.030952472472328, pvalue=0.3110850809924013)\n"
          ]
        }
      ],
      "source": [
        "from scipy import stats\n",
        "\n",
        "g1 = np.random.normal(0, 1, 17)\n",
        "g2 = np.random.normal(0, 1, 14)\n",
        "\n",
        "variances = [np.var(g1), np.var(g2)]\n",
        "\n",
        "print(stats.levene(g1, g2)) # p > 0.05 signifies eq var\n",
        "print(f'4:1 ratio: {max(variances) / min(variances)}')\n",
        "\n",
        "print(stats.ttest_ind(g1, g2, equal_var=True, alternative='two-sided'))"
      ]
    },
    {
      "cell_type": "markdown",
      "id": "f42dda20",
      "metadata": {
        "id": "f42dda20"
      },
      "source": [
        "### Levene Test\n",
        "\n",
        "Levene's test ( Levene 1960) is used to test if **k samples have equal variances**. Equal variances across samples is called homogeneity of variance. Some statistical tests, for example the analysis of variance, assume that variances are equal across groups or samples. The Levene test can be used to verify that assumption.\n",
        "\n",
        "https://www.itl.nist.gov/div898/handbook/eda/section3/eda35a.htm"
      ]
    },
    {
      "cell_type": "markdown",
      "id": "7ad0c62e",
      "metadata": {
        "id": "7ad0c62e"
      },
      "source": [
        "### Welch's T-Test\n",
        "\n",
        "* Variance's are not similar so we can't use pooled variance\n",
        "* Welch's t-test **removes assumption of similar variances**\n",
        "* t statistic is slightly different with different number of degrees of freedom - $\\nu$\n",
        "\n",
        "[1]"
      ]
    },
    {
      "cell_type": "code",
      "execution_count": null,
      "id": "b131aade",
      "metadata": {
        "id": "b131aade",
        "outputId": "9778d4c0-334e-4e1d-b4d6-e8671151a2f8"
      },
      "outputs": [
        {
          "name": "stdout",
          "output_type": "stream",
          "text": [
            "LeveneResult(statistic=57.813200094086724, pvalue=1.596138781192925e-12)\n",
            "4:1 ratio: 9.798707655597791\n",
            "Ttest_indResult(statistic=-158.35895168479274, pvalue=1.1775863203818505e-147)\n"
          ]
        }
      ],
      "source": [
        "from scipy import stats\n",
        "\n",
        "g1 = np.random.normal(0, 1, 78)\n",
        "g2 = np.random.normal(50, 3, 102)\n",
        "\n",
        "variances = [np.var(g1), np.var(g2)]\n",
        "\n",
        "print(stats.levene(g1, g2)) # p > 0.05 signifies eq var\n",
        "print(f'4:1 ratio: {max(variances) / min(variances)}')\n",
        "\n",
        "print(stats.ttest_ind(g1, g2, equal_var=False, alternative='two-sided'))"
      ]
    },
    {
      "cell_type": "markdown",
      "id": "a9b0682e",
      "metadata": {
        "id": "a9b0682e"
      },
      "source": [
        "### Mann-Whitney U Test\n",
        "\n",
        "Non-parametric alternative test to the independent t-test.\n",
        "\n",
        "In statistics, the Mann–Whitney U test (also called the Mann–Whitney–Wilcoxon (MWW/MWU), Wilcoxon rank-sum test, or Wilcoxon–Mann–Whitney test) is a nonparametric test of the null hypothesis that, for randomly selected values X and Y from two populations, the probability of X being greater than Y is equal to the probability of Y being greater than X.\n",
        "\n",
        "**A measure of the central tendencies of the two groups (means or medians; since the Mann–Whitney U test is an ordinal test, medians are usually recommended)**\n",
        "\n",
        "https://en.wikipedia.org/wiki/Mann%E2%80%93Whitney_U_test"
      ]
    },
    {
      "cell_type": "code",
      "execution_count": null,
      "id": "f5f439d9",
      "metadata": {
        "id": "f5f439d9",
        "outputId": "06d203af-e3dc-4a3e-912a-685c5f23994f"
      },
      "outputs": [
        {
          "name": "stdout",
          "output_type": "stream",
          "text": [
            "Mann-Whitney U Test: u - 298.000, p - 0.002\n"
          ]
        }
      ],
      "source": [
        "from scipy.stats import mannwhitneyu\n",
        "\n",
        "mwu = mannwhitneyu(x, y, use_continuity=False, alternative='two-sided')\n",
        "print(f'Mann-Whitney U Test: u - {mwu.statistic:.3f}, p - {mwu.pvalue:.3f}')"
      ]
    },
    {
      "cell_type": "markdown",
      "id": "513411c4",
      "metadata": {
        "id": "513411c4"
      },
      "source": [
        "### Data Distribution vs Stats Distribution\n",
        "\n",
        "* Tests that rely on the assumption of normally distributed test statistics can also be applied if the original sampling distribution is highly non-normal\n",
        "* The distribution of the test statistic is asymptotically normal as the sample size increases (central limit theorem)\n",
        "* This is very useful in the common case of A/B tests that produce observations that are zero-inflated and/or multimodal\n",
        "\n",
        "If we have enough samples, tests derived under normality assumptions like Z-test, Student’s t-test, and Welch’s t-test can still be applied for observations that signficantly deviate from normality. Indeed, thanks to the central limit theorem, the distribution of the test statistics tends to normality as the sample size increases. In the zero-inflated and multimodal example we are considering, even a sample size of 40 produces a distribution that is well approximated by a normal distribution.\n",
        "\n",
        "[1]"
      ]
    },
    {
      "cell_type": "code",
      "execution_count": null,
      "id": "40ee153a",
      "metadata": {
        "id": "40ee153a",
        "outputId": "1ea195e3-cf6a-4838-bef5-c994a4e50eb9"
      },
      "outputs": [
        {
          "data": {
            "image/png": "[encoded data removed]",
            "text/plain": [
              "<Figure size 700x500 with 4 Axes>"
            ]
          },
          "metadata": {},
          "output_type": "display_data"
        }
      ],
      "source": [
        "import matplotlib.pyplot as plt\n",
        "\n",
        "p = np.array([245, 0, 0, 0, 0, 0, 0, 0, 0,  1, 3, 1, 3, 2, 9, 18, 22, 10, 6, 2, 2, 1, 2, 1, 1])\n",
        "a = np.arange(len(p))\n",
        "p = p / p.sum()\n",
        "loc = (p*np.arange(len(p))).sum()\n",
        "nn = [1, 10, 20, 40]\n",
        "f, axx = plt.subplots(2, 2, figsize=(7, 5))\n",
        "\n",
        "for i, n in enumerate(nn):\n",
        "    r, c = divmod(i, 2)\n",
        "    x = p\n",
        "    ax = axx[r, c]\n",
        "    for _ in range(n):\n",
        "        x = np.convolve(x, p)\n",
        "\n",
        "    ax.bar(np.arange(len(x))/n, x*n, width=1/n)\n",
        "    ax.set_ylim([0, 0.51])\n",
        "    ax.vlines(loc, 0, 0.51, 'r')\n",
        "    ax.set_xlabel('statistic')\n",
        "    ax.set_ylabel('prob density')\n",
        "    ax.set_title(f'sample size {n}')\n",
        "\n",
        "f.tight_layout();"
      ]
    },
    {
      "cell_type": "markdown",
      "id": "955b4273",
      "metadata": {
        "id": "955b4273"
      },
      "source": [
        "## Scenario\n",
        "\n",
        "We have a web page with a learn more button. We know that there is 13% conversion rate when new visitors click on the learn more button. The web team has designed a new page with a new look for the `Learn More` button in hopes of a 2% conversion rate increase. You've been asked to run an A/B test.\n",
        "\n",
        "* Control group uses old page\n",
        "* Treatment group uses new page\n",
        "* Groups are independent\n",
        "* Conversion is dependent\n",
        "* $H_0$: base conversion rate = new conversion rate (the conversion rate of visitors to the old site)\n",
        "* $H_a$: base conversion rate $\\neq$ new conversion rate (the conversion rate of visitors to the new site)\n",
        "* Two tailed even though we have base conversion rate because we are comparing groups and want to control for other variables so that we can attribute any differences to the design\n",
        "\n",
        "Readings:\n",
        "\n",
        "* https://www.statsmodels.org/devel/generated/statsmodels.stats.proportion.proportions_ztest.html\n",
        "* https://www.statsmodels.org/dev/generated/statsmodels.stats.proportion.proportion_confint.html"
      ]
    },
    {
      "cell_type": "markdown",
      "id": "8d75f02f",
      "metadata": {
        "id": "8d75f02f"
      },
      "source": [
        "### Designing an Experiment\n",
        "\n",
        "Credit: Do a search on the first sentence of the following\n",
        "\n",
        "Let’s imagine you work on the product team at a medium-sized online e-commerce business. The UX designer worked really hard on a new version of the product page, with the hope that it will lead to a higher conversion rate. The product manager (PM) told you that the current conversion rate is about 13% on average throughout the year, and that the team would be happy with an increase of 2%, meaning that the new design will be considered a success if it raises the conversion rate to 15%.\n",
        "*\tFormulate hypothesis – two tailed test because new design is better or worse\n",
        "*\tHo: new_cvr = old_cvr\n",
        "*\tHo: new_cvr != old_cvr\n",
        "*\tWhere cvr = conversion rate\n",
        "*\talpha = 0.05; if the probability of observing a result as extreme or more (the p-value) is lower than alpha, we reject the Null. alpha indicates probability\n",
        "*\tConfidence level = 0.95%\n",
        "*\tControl group (the old design)\n",
        "*\tExperimental group (the new design)\n",
        "*\tGroups are independent variable\n",
        "The reason we have two groups even though we know the baseline conversion rate is that we want to control for other variables that could have an effect on our results, such as seasonality: by having a control group we can directly compare their results to the treatment group, because the only systematic difference between the groups is the design of the product page, and we can therefore attribute any differences in results to the designs.\n",
        "*\tDependent variable is the conversion rate\n",
        "*\t0: User did not buy the product during the user session\n",
        "*\t1: User bought the product during the user session\n",
        "\n",
        "Choosing a Sample Size\n",
        "\n",
        "It is important to note that since we won’t test the whole user base (our population), the conversion rates that we’ll get will inevitably be only estimates of the true rates. The number of people (or user sessions) we decide to capture in each group will have an effect on the precision of our estimated conversion rates: the larger the sample size, the more precise our estimates (i.e. the smaller our confidence intervals), the higher the chance to detect a difference in the two groups, if present. On the other hand, the larger our sample gets, the more expensive (and impractical) our study becomes. So how many people should we have in each group?\n",
        "Power Analysis\n",
        "*\tPower of the test (1 – B): the probability of finding a statistical difference between the groups when a difference is actually present. Set to 0.08 by convention\n",
        "*\tAlpha value: Critical value usually set at 0.05\n",
        "*\tEffect size: How big a difference we expect to there to be between the conversion rate\n",
        "Our team is happy with a 2% difference, so we use 13% and 15% to calculate our effect size. We’d need at least 4720 observations for each group. Having set the power parameter to 0.8 in practice means that if there exists an actual difference in conversion rate between our designs, assuming the difference is the one we estimated (13% vs. 15%), we have about 80% chance to detect it as statistically significant in our test with the sample size we calculated."
      ]
    },
    {
      "cell_type": "markdown",
      "source": [
        "### Minimum Detectable Effect and Sample Size"
      ],
      "metadata": {
        "id": "VrGRflEmf0tX"
      },
      "id": "VrGRflEmf0tX"
    },
    {
      "cell_type": "code",
      "execution_count": null,
      "id": "598d782a",
      "metadata": {
        "id": "598d782a",
        "outputId": "a1a8e74c-17c0-4a74-8b26-119e2dd0b2e2"
      },
      "outputs": [
        {
          "name": "stdout",
          "output_type": "stream",
          "text": [
            "MDE:  -0.0576728617308947\n",
            "Sample Size:  4719\n"
          ]
        }
      ],
      "source": [
        "# get the sample size\n",
        "import statsmodels.stats.api as sms\n",
        "from math import ceil\n",
        "\n",
        "effect_size = sms.proportion_effectsize(0.13, 0.15) # baseline = 13%; mde = 2%\n",
        "# effect_size = sms.proportion_effectsize(0.116, 0.136)\n",
        "sample_size = sms.NormalIndPower().solve_power(\n",
        "    effect_size, # minimum detectable effect\n",
        "    power=0.8,\n",
        "    alpha=0.05,\n",
        "    ratio=1\n",
        "    )\n",
        "\n",
        "sample_size = int(sample_size)\n",
        "print('MDE: ', effect_size)\n",
        "print('Sample Size: ', sample_size)"
      ]
    },
    {
      "cell_type": "code",
      "execution_count": null,
      "id": "f66e3d5d",
      "metadata": {
        "id": "f66e3d5d",
        "outputId": "e900752a-fed2-4674-cc2c-8161c5623b42"
      },
      "outputs": [
        {
          "name": "stdout",
          "output_type": "stream",
          "text": [
            "(294478, 5)\n",
            "   user_id                   timestamp      group landing_page  converted\n",
            "0   851104  2017-01-21 22:11:48.556739    control     old_page          0\n",
            "1   804228  2017-01-12 08:01:45.159739    control     old_page          0\n",
            "2   661590  2017-01-11 16:55:06.154213  treatment     new_page          0\n",
            "3   853541  2017-01-08 18:28:03.143765  treatment     new_page          0\n",
            "4   864975  2017-01-21 01:52:26.210827    control     old_page          1\n"
          ]
        }
      ],
      "source": [
        "# https://www.kaggle.com/datasets/zhangluyuan/ab-testing?select=ab_data.csv\n",
        "import pandas as pd\n",
        "\n",
        "df = pd.read_csv('https://raw.githubusercontent.com/gitmystuff/Datasets/main/ab_data.csv')\n",
        "print(df.shape)\n",
        "print(df.head())"
      ]
    },
    {
      "cell_type": "code",
      "execution_count": null,
      "id": "5a704b1b",
      "metadata": {
        "id": "5a704b1b",
        "outputId": "5a6684cb-f1e4-42c4-ff45-ab50d4bc0219"
      },
      "outputs": [
        {
          "name": "stdout",
          "output_type": "stream",
          "text": [
            "Repeat users: 3894\n"
          ]
        },
        {
          "data": {
            "text/plain": [
              "(286690, 5)"
            ]
          },
          "execution_count": 28,
          "metadata": {},
          "output_type": "execute_result"
        }
      ],
      "source": [
        "# delete repeat users\n",
        "session_counts = df['user_id'].value_counts(ascending=False)\n",
        "repeat_users = session_counts[session_counts > 1].count()\n",
        "print(f'Repeat users: {repeat_users}')\n",
        "\n",
        "users_to_drop = session_counts[session_counts > 1].index\n",
        "df = df[~df['user_id'].isin(users_to_drop)]\n",
        "df.shape"
      ]
    },
    {
      "cell_type": "code",
      "execution_count": null,
      "id": "ce555eb3",
      "metadata": {
        "id": "ce555eb3",
        "outputId": "9c367606-1a4c-42e7-a2db-6518ee148669"
      },
      "outputs": [
        {
          "name": "stdout",
          "output_type": "stream",
          "text": [
            "   user_id                   timestamp    group landing_page  converted\n",
            "0   663037  2017-01-05 02:13:38.063443  control     old_page          0\n",
            "1   932826  2017-01-13 04:50:06.941679  control     old_page          1\n",
            "2   922999  2017-01-04 07:19:23.813317  control     old_page          0\n",
            "3   857826  2017-01-19 02:27:37.678241  control     old_page          0\n",
            "4   762926  2017-01-18 17:50:59.261406  control     old_page          0\n",
            "control      4719\n",
            "treatment    4719\n",
            "Name: group, dtype: int64\n"
          ]
        }
      ],
      "source": [
        "# sample database\n",
        "control_sample = df[df['group'] == 'control'].sample(n=sample_size, random_state=42)\n",
        "treatment_sample = df[df['group'] == 'treatment'].sample(n=sample_size, random_state=42)\n",
        "\n",
        "ab_test = pd.concat([control_sample, treatment_sample], axis=0)\n",
        "ab_test.reset_index(drop=True, inplace=True)\n",
        "\n",
        "print(ab_test.head())\n",
        "print(ab_test['group'].value_counts())"
      ]
    },
    {
      "cell_type": "code",
      "execution_count": null,
      "id": "79b2cc30",
      "metadata": {
        "id": "79b2cc30",
        "outputId": "38b38c2e-d89a-409e-8fff-af2e136cc6dd"
      },
      "outputs": [
        {
          "name": "stdout",
          "output_type": "stream",
          "text": [
            "<class 'pandas.core.frame.DataFrame'>\n",
            "Int64Index: 4719 entries, 293433 to 68819\n",
            "Data columns (total 5 columns):\n",
            " #   Column        Non-Null Count  Dtype \n",
            "---  ------        --------------  ----- \n",
            " 0   user_id       4719 non-null   int64 \n",
            " 1   timestamp     4719 non-null   object\n",
            " 2   group         4719 non-null   object\n",
            " 3   landing_page  4719 non-null   object\n",
            " 4   converted     4719 non-null   int64 \n",
            "dtypes: int64(2), object(3)\n",
            "memory usage: 221.2+ KB\n"
          ]
        }
      ],
      "source": [
        "control_sample.info()"
      ]
    },
    {
      "cell_type": "code",
      "execution_count": null,
      "id": "0e167a27",
      "metadata": {
        "id": "0e167a27",
        "outputId": "c5d75f9f-a1d7-446a-d50e-08bccc959d68"
      },
      "outputs": [
        {
          "data": {
            "text/html": [
              "<style type=\"text/css\">\n",
              "</style>\n",
              "<table id=\"T_fdf4f\">\n",
              "  <thead>\n",
              "    <tr>\n",
              "      <th class=\"blank level0\" >&nbsp;</th>\n",
              "      <th id=\"T_fdf4f_level0_col0\" class=\"col_heading level0 col0\" >conversion_rate</th>\n",
              "      <th id=\"T_fdf4f_level0_col1\" class=\"col_heading level0 col1\" >std_deviation</th>\n",
              "      <th id=\"T_fdf4f_level0_col2\" class=\"col_heading level0 col2\" >std_error</th>\n",
              "    </tr>\n",
              "    <tr>\n",
              "      <th class=\"index_name level0\" >group</th>\n",
              "      <th class=\"blank col0\" >&nbsp;</th>\n",
              "      <th class=\"blank col1\" >&nbsp;</th>\n",
              "      <th class=\"blank col2\" >&nbsp;</th>\n",
              "    </tr>\n",
              "  </thead>\n",
              "  <tbody>\n",
              "    <tr>\n",
              "      <th id=\"T_fdf4f_level0_row0\" class=\"row_heading level0 row0\" >control</th>\n",
              "      <td id=\"T_fdf4f_row0_col0\" class=\"data row0 col0\" >0.115</td>\n",
              "      <td id=\"T_fdf4f_row0_col1\" class=\"data row0 col1\" >0.320</td>\n",
              "      <td id=\"T_fdf4f_row0_col2\" class=\"data row0 col2\" >0.005</td>\n",
              "    </tr>\n",
              "    <tr>\n",
              "      <th id=\"T_fdf4f_level0_row1\" class=\"row_heading level0 row1\" >treatment</th>\n",
              "      <td id=\"T_fdf4f_row1_col0\" class=\"data row1 col0\" >0.129</td>\n",
              "      <td id=\"T_fdf4f_row1_col1\" class=\"data row1 col1\" >0.335</td>\n",
              "      <td id=\"T_fdf4f_row1_col2\" class=\"data row1 col2\" >0.005</td>\n",
              "    </tr>\n",
              "  </tbody>\n",
              "</table>\n"
            ],
            "text/plain": [
              "<pandas.io.formats.style.Styler at 0x17e6a72f130>"
            ]
          },
          "execution_count": 31,
          "metadata": {},
          "output_type": "execute_result"
        }
      ],
      "source": [
        "# conversion rates\n",
        "# number of conversions (or desired actions) taken by visitors divided by the total number of visitors to your site\n",
        "import numpy as np\n",
        "import scipy.stats as stats\n",
        "\n",
        "conversion_rates = ab_test.groupby('group')['converted']\n",
        "std_p = lambda x: np.std(x, ddof=0) # standard deviation\n",
        "se_p = lambda x: stats.sem(x, ddof=0) # standard error\n",
        "\n",
        "conversion_rates = conversion_rates.agg([np.mean, std_p, se_p])\n",
        "conversion_rates.columns = ['conversion_rate', 'std_deviation', 'std_error']\n",
        "conversion_rates.style.format('{:.3f}')"
      ]
    },
    {
      "cell_type": "markdown",
      "id": "b7c107d4",
      "metadata": {
        "id": "b7c107d4"
      },
      "source": [
        "### Test of Proportions\n",
        "\n",
        "$z = \\frac{\\hat{p} - p}{\\sqrt{\\frac{p (1 - p)}{n}}}$"
      ]
    },
    {
      "cell_type": "code",
      "execution_count": null,
      "id": "85d923db",
      "metadata": {
        "id": "85d923db",
        "outputId": "d3c420d8-ec1e-4bc6-a18d-65b673025182"
      },
      "outputs": [
        {
          "name": "stdout",
          "output_type": "stream",
          "text": [
            "p: 0.044\n",
            "control group ci (95%): [0.106 - 0.125]\n",
            "treatment group ci (95%): [0.119 - 0.139]\n"
          ]
        }
      ],
      "source": [
        "# test of proportions; never use t\n",
        "from scipy import stats\n",
        "from statsmodels.stats.proportion import proportions_ztest, proportion_confint\n",
        "\n",
        "control_group = ab_test[ab_test['group'] == 'control']['converted']\n",
        "treatment_group = ab_test[ab_test['group'] == 'treatment']['converted']\n",
        "n_con = control_group.count()\n",
        "n_treat = treatment_group.count()\n",
        "successes = [control_group.sum(), treatment_group.sum()]\n",
        "n_obs = [n_con, n_treat]\n",
        "\n",
        "_, pval = proportions_ztest(successes, nobs=n_obs)\n",
        "(lower_con, lower_treat), (upper_con, upper_treat) = proportion_confint(successes, nobs=n_obs, alpha=0.05)\n",
        "\n",
        "print(f'p: {pval:.3f}')\n",
        "print(f'control group ci (95%): [{lower_con:.3f} - {upper_con:.3f}]')\n",
        "print(f'treatment group ci (95%): [{lower_treat:.3f} - {upper_treat:.3f}]')"
      ]
    },
    {
      "cell_type": "markdown",
      "id": "92218ac7",
      "metadata": {
        "id": "92218ac7"
      },
      "source": [
        "### Using the t-Test"
      ]
    },
    {
      "cell_type": "code",
      "execution_count": null,
      "id": "8c7a2ecb",
      "metadata": {
        "id": "8c7a2ecb",
        "outputId": "95c2cd15-423e-4c51-eb50-15fd32be0b78"
      },
      "outputs": [
        {
          "data": {
            "text/plain": [
              "Ttest_indResult(statistic=2.0111480870601284, pvalue=0.02216910137484345)"
            ]
          },
          "execution_count": 33,
          "metadata": {},
          "output_type": "execute_result"
        }
      ],
      "source": [
        "# don't know population; always use t\n",
        "from scipy import stats\n",
        "\n",
        "stats.ttest_ind(treatment_group, control_group, equal_var=eqvar, alternative='greater')"
      ]
    },
    {
      "cell_type": "markdown",
      "id": "79f93620",
      "metadata": {
        "id": "79f93620"
      },
      "source": [
        "### Conclusions\n",
        "\n",
        "* p-value (0.044) < $\\alpha$ (0.05) shows significance\n",
        "* our treatment ci upper bound is only 0.139, short of the desired 0.15\n",
        "* statistically significant but not practically significant\n",
        "* the new design is not cost effective\n",
        "\n",
        "<pre>\n",
        "effect_size = sms.proportion_effectsize(0.13, 0.15)\n",
        "# effect_size = sms.proportion_effectsize(0.116, 0.136)\n",
        "</pre>"
      ]
    },
    {
      "cell_type": "markdown",
      "id": "fef287b6",
      "metadata": {
        "id": "fef287b6"
      },
      "source": [
        "## References\n",
        "\n",
        "1. https://towardsdatascience.com/a-b-testing-a-complete-guide-to-statistical-testing-e3f1db140499\n",
        "2. https://classroom.udacity.com/courses/ud257/lessons/456f424d-0cbc-481c-a0ab-a6217013f46e/concepts/d87d2932-962d-4c1d-9fdb-c5ac754783b7\n",
        "3. https://www.dataquest.io/blog/a-b-testing-the-definitive-guide-to-improving-your-product/\n",
        "4. https://en.wikipedia.org/wiki/Bounce_rate\n",
        "5. https://en.wikipedia.org/wiki/Kolmogorov%E2%80%93Smirnov_test\n",
        "6. https://www.analytics-toolkit.com/glossary/sample-ratio-mismatch/\n",
        "7. https://en.wikipedia.org/wiki/Fisher's_exact_test\n",
        "8. https://www.statology.org/two-sample-t-test-python/\n",
        "9. https://en.wikipedia.org/wiki/Mann%E2%80%93Whitney_U_test\n",
        "10. https://towardsdatascience.com/ab-testing-with-python-e5964dd66143\n",
        "\n",
        "### Don't Use T-Tests for AB Testing Article\n",
        "\n",
        "* https://towardsdatascience.com/dont-use-a-t-test-for-a-b-testing-e4d2ef7ab9b6"
      ]
    }
  ],
  "metadata": {
    "kernelspec": {
      "display_name": "Python 3 (ipykernel)",
      "language": "python",
      "name": "python3"
    },
    "language_info": {
      "codemirror_mode": {
        "name": "ipython",
        "version": 3
      },
      "file_extension": ".py",
      "mimetype": "text/x-python",
      "name": "python",
      "nbconvert_exporter": "python",
      "pygments_lexer": "ipython3",
      "version": "3.9.7"
    },
    "colab": {
      "provenance": [],
      "toc_visible": true,
      "include_colab_link": true
    }
  },
  "nbformat": 4,
  "nbformat_minor": 5
}