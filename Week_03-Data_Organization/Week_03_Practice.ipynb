{
  "nbformat": 4,
  "nbformat_minor": 0,
  "metadata": {
    "colab": {
      "provenance": [],
      "mount_file_id": "1BXCjRSB_5uPBUnQn1g6GkBJlC9eWFQ4m",
      "authorship_tag": "ABX9TyMJ3JL/BiUIuMnQrxVI663f",
      "include_colab_link": true
    },
    "kernelspec": {
      "name": "python3",
      "display_name": "Python 3"
    },
    "language_info": {
      "name": "python"
    }
  },
  "cells": [
    {
      "cell_type": "markdown",
      "metadata": {
        "id": "view-in-github",
        "colab_type": "text"
      },
      "source": [
        "<a href=\"https://colab.research.google.com/github/gitmystuff/DTSC5810/blob/main/Week_03-Data_Organization/Week_03_Practice.ipynb\" target=\"_parent\"><img src=\"https://colab.research.google.com/assets/colab-badge.svg\" alt=\"Open In Colab\"/></a>"
      ]
    },
    {
      "cell_type": "markdown",
      "source": [
        "# Week 03 Practice\n",
        "\n",
        "Northwind\n",
        "\n",
        "* https://github.com/jpwhite3/northwind-SQLite3\n",
        "* https://en.wikiversity.org/wiki/Database_Examples/Northwind\n",
        "\n"
      ],
      "metadata": {
        "id": "FzXME74wwtCv"
      }
    },
    {
      "cell_type": "code",
      "source": [
        "# import sqlite3\n",
        "\n",
        "# connection = sqlite3.connect('northwind.db')\n",
        "# cursor = connection.cursor()"
      ],
      "metadata": {
        "id": "HJcAQVoqiBQ5"
      },
      "execution_count": 1,
      "outputs": []
    },
    {
      "cell_type": "markdown",
      "source": [
        "<pre>\n",
        "WITH Orders_CTE AS (\n",
        "  SELECT o.CustomerID, o.EmployeeID, o.OrderDate, o.ShipCity, od.ProductID, od.Quantity\n",
        "  FROM Orders AS o\n",
        "  JOIN 'Order Details' AS od ON o.OrderID = od.OrderID\n",
        ")\n",
        "SELECT p.ProductName, c.CategoryName, p.UnitPrice,\n",
        "       p.UnitsInStock, p.UnitsOnOrder, p.Discontinued,\n",
        "       op.CustomerID, op.EmployeeID, op.OrderDate,\n",
        "       op.ShipCity, op.ProductID, op.Quantity\n",
        "FROM Products as p, Categories as c, Orders_CTE as op\n",
        "WHERE p.CategoryID = c.CategoryID;\n",
        "</pre>"
      ],
      "metadata": {
        "id": "BarAa1BU7YSS"
      }
    },
    {
      "cell_type": "code",
      "source": [
        "# import pandas as pd\n",
        "\n",
        "# query = '''\n",
        "# SELECT o.CustomerID, o.EmployeeID, o.OrderDate, o.ShipCity, od.ProductID, od.Quantity\n",
        "# FROM Orders AS o\n",
        "# JOIN 'Order Details' AS od ON o.OrderID = od.OrderID\n",
        "# '''\n",
        "# cursor.execute(query)\n",
        "\n",
        "# orders = pd.DataFrame(cursor.fetchall())\n",
        "# orders.columns = [\n",
        "#     'CustomerID', 'EmployeeID', 'OrderDate',\n",
        "#     'ShipCity', 'ProductID', 'Quantity'\n",
        "# ]\n",
        "# orders.head()"
      ],
      "metadata": {
        "id": "TyBbr1E-6yV-"
      },
      "execution_count": 2,
      "outputs": []
    },
    {
      "cell_type": "code",
      "execution_count": 3,
      "metadata": {
        "id": "P3qZY-G5wpOk"
      },
      "outputs": [],
      "source": [
        "# import pandas as pd\n",
        "\n",
        "# query = '''\n",
        "# SELECT p.ProductID, p.ProductName, c.CategoryName, p.UnitPrice,\n",
        "#        p.UnitsInStock, p.UnitsOnOrder, p.Discontinued\n",
        "# FROM Products as p, Categories as c\n",
        "# WHERE p.CategoryID = c.CategoryID;\n",
        "# '''\n",
        "# cursor.execute(query)\n",
        "\n",
        "# products = pd.DataFrame(cursor.fetchall())\n",
        "# products.columns = [\n",
        "#     'ProductID', 'ProductName', 'CategoryName', 'UnitPrice',\n",
        "#     'UnitsInStock', 'UnitsOnOrder', 'Discontinued'\n",
        "# ]\n",
        "\n",
        "# products.head()"
      ]
    },
    {
      "cell_type": "code",
      "source": [
        "# print(orders.shape)\n",
        "# print(products.shape)"
      ],
      "metadata": {
        "id": "AvM8lsMd9auy"
      },
      "execution_count": 4,
      "outputs": []
    },
    {
      "cell_type": "code",
      "source": [
        "# df = pd.merge(orders, products, on='ProductID')\n",
        "# print(df.shape)\n",
        "# print(df.info())\n",
        "# df.head()"
      ],
      "metadata": {
        "id": "mX7q-_tO-_mJ"
      },
      "execution_count": 5,
      "outputs": []
    },
    {
      "cell_type": "code",
      "source": [
        "# df.to_csv('week03_practice.csv', index=False)"
      ],
      "metadata": {
        "id": "Pb3iUweo_VM1"
      },
      "execution_count": 6,
      "outputs": []
    },
    {
      "cell_type": "code",
      "source": [
        "# df = pd.read_csv('/content/drive/MyDrive/DTSC5810/Week 03 - Data Organization/week03_practice.csv')\n",
        "# print(df.shape)\n",
        "# print(df.info())\n",
        "# df.head()"
      ],
      "metadata": {
        "id": "PHqQTUjQAVh-"
      },
      "execution_count": 7,
      "outputs": []
    },
    {
      "cell_type": "code",
      "source": [
        "# ! git clone https://github.com/gitmystuff/preppy.git"
      ],
      "metadata": {
        "id": "hVYOhZz8Arwz"
      },
      "execution_count": 8,
      "outputs": []
    },
    {
      "cell_type": "code",
      "source": [
        "# from preppy.version import __version__\n",
        "# import preppy.utils as utils\n",
        "\n",
        "# print(__version__)"
      ],
      "metadata": {
        "id": "cEJBRCAyA4Uy"
      },
      "execution_count": 9,
      "outputs": []
    },
    {
      "cell_type": "markdown",
      "source": [
        "<pre>\n",
        "consts = utils.functions.identify_consts(df)\n",
        "print(consts)\n",
        "</pre>"
      ],
      "metadata": {
        "id": "USlox0svgK_P"
      }
    },
    {
      "cell_type": "code",
      "source": [
        "# consts"
      ],
      "metadata": {
        "id": "GT68FdZ_A_RC"
      },
      "execution_count": 10,
      "outputs": []
    },
    {
      "cell_type": "markdown",
      "source": [
        "<pre>\n",
        "quasi_consts = utils.functions.identify_quasi_consts(df)\n",
        "print(quasi_consts)\n",
        "</pre>"
      ],
      "metadata": {
        "id": "peCI8jaHgUAb"
      }
    },
    {
      "cell_type": "code",
      "source": [
        "# quasi-consts"
      ],
      "metadata": {
        "id": "N2Aa7TKsBC0W"
      },
      "execution_count": 11,
      "outputs": []
    },
    {
      "cell_type": "markdown",
      "source": [
        "<pre>\n",
        "utils.functions.check_row_duplicates(df)\n",
        "</pre>"
      ],
      "metadata": {
        "id": "4yjGHNg3gcIb"
      }
    },
    {
      "cell_type": "code",
      "source": [
        "# duplicate rows"
      ],
      "metadata": {
        "id": "NBYZM2wGBGM-"
      },
      "execution_count": 12,
      "outputs": []
    },
    {
      "cell_type": "markdown",
      "source": [
        "<pre>\n",
        "duplicate_features = utils.functions.check_col_duplicates(df)\n",
        "print(duplicate_features)\n",
        "</pre>"
      ],
      "metadata": {
        "id": "0I1Vry0EgixF"
      }
    },
    {
      "cell_type": "code",
      "source": [
        "# duplicate features"
      ],
      "metadata": {
        "id": "6mkUF0sTBKA1"
      },
      "execution_count": 13,
      "outputs": []
    },
    {
      "cell_type": "markdown",
      "source": [
        "<pre>\n",
        "df.isnull().sum()\n",
        "</pre>"
      ],
      "metadata": {
        "id": "7aaGCjISgpAt"
      }
    },
    {
      "cell_type": "code",
      "source": [
        "# null values\n"
      ],
      "metadata": {
        "id": "N90hI-kjAiMs"
      },
      "execution_count": 14,
      "outputs": []
    },
    {
      "cell_type": "code",
      "source": [
        "# df info\n"
      ],
      "metadata": {
        "id": "1D95MAvWBWwi"
      },
      "execution_count": 15,
      "outputs": []
    },
    {
      "cell_type": "code",
      "source": [
        "# # orderdate to datetime\n",
        "# df['OrderDate'] = pd.to_datetime(df.OrderDate, format='ISO8601')\n",
        "# df.info()"
      ],
      "metadata": {
        "id": "_byicJLcBdMu"
      },
      "execution_count": 16,
      "outputs": []
    },
    {
      "cell_type": "code",
      "source": [
        "# df.insert(loc=2, column='year', value=df['OrderDate'].map(lambda x: x.year))\n",
        "# df.insert(loc=3, column='month', value=df['OrderDate'].map(lambda x: x.month))\n",
        "# df.insert(loc=4, column='day', value=df['OrderDate'].map(lambda x: x.day))"
      ],
      "metadata": {
        "id": "MRLuR5oDKFK_"
      },
      "execution_count": 17,
      "outputs": []
    },
    {
      "cell_type": "code",
      "source": [
        "# df.describe()"
      ],
      "metadata": {
        "id": "iudsQLEsCZu7"
      },
      "execution_count": 18,
      "outputs": []
    },
    {
      "cell_type": "code",
      "source": [
        "# df.Discontinued.value_counts()"
      ],
      "metadata": {
        "id": "YGUOQuHBCcuC"
      },
      "execution_count": 19,
      "outputs": []
    },
    {
      "cell_type": "code",
      "source": [
        "# df = df[df['Discontinued'] == 0]\n",
        "# df.shape"
      ],
      "metadata": {
        "id": "__SMYTQGC795"
      },
      "execution_count": 20,
      "outputs": []
    },
    {
      "cell_type": "code",
      "source": [
        "# df.info()"
      ],
      "metadata": {
        "id": "4gWqvz-DDd2v"
      },
      "execution_count": 21,
      "outputs": []
    },
    {
      "cell_type": "code",
      "source": [
        "# df['CategoryName'].value_counts()"
      ],
      "metadata": {
        "id": "6CIsXNBODvYQ"
      },
      "execution_count": 22,
      "outputs": []
    },
    {
      "cell_type": "code",
      "source": [
        "# df['CategoryName'].value_counts().plot(kind='barh');"
      ],
      "metadata": {
        "id": "-NAbOC5oEJlY"
      },
      "execution_count": 23,
      "outputs": []
    },
    {
      "cell_type": "code",
      "source": [
        "# df['AmountSpent'] = df['Quantity'] * df['UnitPrice']\n",
        "# df.info()"
      ],
      "metadata": {
        "id": "YMnsZkrME8dF"
      },
      "execution_count": 24,
      "outputs": []
    },
    {
      "cell_type": "code",
      "source": [
        "# df['ShipCity'].nunique()"
      ],
      "metadata": {
        "id": "qOkBP8gpFgKD"
      },
      "execution_count": 25,
      "outputs": []
    },
    {
      "cell_type": "code",
      "source": [
        "# sales_per_cust = df.groupby(by=['CustomerID','ShipCity'], as_index=False)['Quantity'].sum().sort_values(by='Quantity', ascending=False)\n",
        "# sales_per_cust.columns = ['CustomerID', 'ShipCities', 'Quantity']\n",
        "# sales_per_cust.head(10)"
      ],
      "metadata": {
        "id": "JE5PN4e8Fb75"
      },
      "execution_count": 26,
      "outputs": []
    },
    {
      "cell_type": "markdown",
      "source": [
        "<pre>\n",
        "# quantity of sales by customer\n",
        "import matplotlib.pyplot as plt\n",
        "\n",
        "orders = df.groupby(by=['CustomerID','ShipCity'], as_index=False)['AmountSpent'].sum().sort_values(by='AmountSpent', ascending=False)\n",
        "orders.columns = ['CustomerID', 'ShipCities', 'AmountSpent']\n",
        "\n",
        "plt.subplots(figsize=(15,6))\n",
        "plt.bar(orders.head(10).CustomerID, orders.head(10).AmountSpent)\n",
        "plt.xlabel('Customers ID')\n",
        "plt.ylabel('Amount Spent')\n",
        "plt.title('Amount Spent per Customer')\n",
        "plt.xticks(rotation=90)\n",
        "plt.show()\n",
        "</pre>"
      ],
      "metadata": {
        "id": "o3fEAkcZGtUE"
      }
    },
    {
      "cell_type": "code",
      "source": [
        "# highest spending customers\n"
      ],
      "metadata": {
        "id": "etkjg-QNGzjo"
      },
      "execution_count": 27,
      "outputs": []
    },
    {
      "cell_type": "markdown",
      "source": [
        "<pre>\n",
        "plt.subplots(figsize=(15,6))\n",
        "plt.bar(orders.tail(10).CustomerID, orders.tail(10).AmountSpent)\n",
        "plt.xlabel('Customers ID')\n",
        "plt.ylabel('Amount Spent')\n",
        "plt.title('Amount Spent per Customer')\n",
        "plt.xticks(rotation=90)\n",
        "plt.show()\n",
        "</pre>"
      ],
      "metadata": {
        "id": "ncm2lEcRI_jk"
      }
    },
    {
      "cell_type": "code",
      "source": [
        "# lowest spending customers"
      ],
      "metadata": {
        "id": "T0-h5rp_Iu1n"
      },
      "execution_count": 28,
      "outputs": []
    },
    {
      "cell_type": "code",
      "source": [
        "# print(df['OrderDate'].min())\n",
        "# print(df['OrderDate'].max())\n"
      ],
      "metadata": {
        "id": "I2zDHS1wJsHC"
      },
      "execution_count": 29,
      "outputs": []
    },
    {
      "cell_type": "code",
      "source": [
        "# df.info()"
      ],
      "metadata": {
        "id": "rL-jrBO9KJUb"
      },
      "execution_count": 30,
      "outputs": []
    },
    {
      "cell_type": "code",
      "source": [
        "# ax = df.groupby('year')['AmountSpent'].sum().plot(kind='bar', figsize=(15,6))\n",
        "# ax.set_xlabel('Year',fontsize=15)\n",
        "# ax.set_ylabel('Amount Spent',fontsize=15)\n",
        "# ax.set_title('Amount Spent per Year',fontsize=15)\n",
        "# ax.tick_params(axis='x', labelrotation=90)\n",
        "# plt.show()"
      ],
      "metadata": {
        "id": "dqtHQW2HKz7W"
      },
      "execution_count": 31,
      "outputs": []
    },
    {
      "cell_type": "code",
      "source": [
        "# ax = df.groupby('month')['AmountSpent'].sum().plot(kind='bar', figsize=(15,6))\n",
        "# ax.set_xlabel('Month',fontsize=15)\n",
        "# ax.set_ylabel('Amount Spent',fontsize=15)\n",
        "# ax.set_title('Amount Spent per Month',fontsize=15)\n",
        "# ax.tick_params(axis='x', labelrotation=0)\n",
        "# plt.show()"
      ],
      "metadata": {
        "id": "XMqv0fF8Wu5h"
      },
      "execution_count": 32,
      "outputs": []
    },
    {
      "cell_type": "code",
      "source": [
        "# ax = df.groupby('day')['AmountSpent'].sum().plot(kind='bar', figsize=(15,6))\n",
        "# ax.set_xlabel('Day',fontsize=15)\n",
        "# ax.set_ylabel('Amount Spent',fontsize=15)\n",
        "# ax.set_title('Amount Spent per Day',fontsize=15)\n",
        "# ax.tick_params(axis='x', labelrotation=0)\n",
        "# plt.show()"
      ],
      "metadata": {
        "id": "hipep3irW3dk"
      },
      "execution_count": 33,
      "outputs": []
    },
    {
      "cell_type": "code",
      "source": [
        "# df.insert(loc=5, column='weekday', value=df['OrderDate'].map(lambda x: x.weekday))\n",
        "# df['weekday'] = df['OrderDate'].dt.weekday"
      ],
      "metadata": {
        "id": "5VUVDmYZXbkH"
      },
      "execution_count": 34,
      "outputs": []
    },
    {
      "cell_type": "code",
      "source": [
        "# ax = df.groupby('weekday')['AmountSpent'].sum().plot(kind='bar', figsize=(15,6))\n",
        "# ax.set_xlabel('Week Day',fontsize=15)\n",
        "# ax.set_ylabel('Amount Spent',fontsize=15)\n",
        "# ax.set_title('Amount Spent per Day',fontsize=15)\n",
        "# ax.set_xticklabels(('Mon', 'Tue', 'Wed', 'Thur', 'Fri', 'Sat', 'Sun'), rotation='horizontal', fontsize=15)\n",
        "# plt.show()"
      ],
      "metadata": {
        "id": "r1l2Kf3WXmlb"
      },
      "execution_count": 35,
      "outputs": []
    },
    {
      "cell_type": "code",
      "source": [
        "# # plot number of unique customers in each ship city\n",
        "# group_city_orders = df.groupby('ShipCity')['OrderDate'].count().sort_values()\n",
        "\n",
        "# plt.subplots(figsize=(15,8))\n",
        "# group_city_orders.plot(kind='barh', fontsize=12)\n",
        "# plt.xlabel('Number of Orders', fontsize=12)\n",
        "# plt.ylabel('Shipping City', fontsize=12)\n",
        "# plt.title('Number of Orders for Different Shipping Cities', fontsize=12)\n",
        "# plt.tight_layout()\n",
        "# plt.show()"
      ],
      "metadata": {
        "id": "6Yv0fXLKY8uH"
      },
      "execution_count": 36,
      "outputs": []
    }
  ]
}