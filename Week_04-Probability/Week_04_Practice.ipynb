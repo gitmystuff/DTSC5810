{
  "nbformat": 4,
  "nbformat_minor": 0,
  "metadata": {
    "colab": {
      "provenance": [],
      "mount_file_id": "1etSI8WEzOLtQe8GiLEoPCrwLX4aNqPeF",
      "authorship_tag": "ABX9TyN7F77lGEL7ULkPVQ4as6Rs",
      "include_colab_link": true
    },
    "kernelspec": {
      "name": "python3",
      "display_name": "Python 3"
    },
    "language_info": {
      "name": "python"
    }
  },
  "cells": [
    {
      "cell_type": "markdown",
      "metadata": {
        "id": "view-in-github",
        "colab_type": "text"
      },
      "source": [
        "<a href=\"https://colab.research.google.com/github/gitmystuff/DTSC5810/blob/main/Week_04-Probability/Week_04_Practice.ipynb\" target=\"_parent\"><img src=\"https://colab.research.google.com/assets/colab-badge.svg\" alt=\"Open In Colab\"/></a>"
      ]
    },
    {
      "cell_type": "markdown",
      "source": [
        "# Week 04 Practice\n",
        "\n",
        "So far (in our story)...\n",
        "\n",
        "* Advertising\n",
        "* Products\n",
        "* Inventory / Orders\n",
        "* Employees\n",
        "* Customers (Clients)\n",
        "* Service Providers\n",
        "* Customer Reviews\n",
        "\n",
        "Northwind Database\n",
        "\n",
        "* https://en.wikiversity.org/wiki/Database_Examples/Northwind"
      ],
      "metadata": {
        "id": "h7vjVSO1ZOY1"
      }
    },
    {
      "cell_type": "markdown",
      "source": [
        "## Faker\n",
        "\n",
        "Documentation\n",
        "\n",
        "* https://faker.readthedocs.io/en/master/\n",
        "\n",
        "Sources\n",
        "\n",
        "* https://motherduck.com/blog/python-faker-duckdb-exploration/\n",
        "* https://www.tonic.ai/blog/how-to-generate-simple-test-data-with-faker\n",
        "* https://www.classcentral.com/course/youtube-mastering-fake-business-data-creation-in-python-with-faker-151823\n",
        "* https://youtu.be/-ZeeyrXbI4A?si=1bn3ji9yhBBerR5x\n",
        "* https://medium.com/tech-tavern/python-faker-how-to-generate-fake-data-easily-85f3a19759a8\n",
        "* https://towardsdatascience.com/fake-almost-everything-with-faker-a88429c500f1\n",
        "* https://github.com/joke2k/faker?ref=pythonrepo.com"
      ],
      "metadata": {
        "id": "8KJIrsw2fwVS"
      }
    },
    {
      "cell_type": "markdown",
      "source": [
        "## Providers\n",
        "\n",
        "* Standard\n",
        "* Community\n",
        "* Local\n",
        "\n",
        "https://faker.readthedocs.io/en/stable/#contents\n"
      ],
      "metadata": {
        "id": "Pn9QHO0yf1qK"
      }
    },
    {
      "cell_type": "code",
      "execution_count": 1,
      "metadata": {
        "id": "WrfhuUr_ZJKt"
      },
      "outputs": [],
      "source": [
        "# check for faker\n",
        "# !pip show faker"
      ]
    },
    {
      "cell_type": "code",
      "source": [
        "# !pip install faker"
      ],
      "metadata": {
        "id": "K58loNQQc3wv"
      },
      "execution_count": 2,
      "outputs": []
    },
    {
      "cell_type": "code",
      "source": [
        "# make an instance of Faker\n",
        "# from faker import Faker\n",
        "\n",
        "# fake = Faker()"
      ],
      "metadata": {
        "id": "e7pwaqeQdhe1"
      },
      "execution_count": 3,
      "outputs": []
    },
    {
      "cell_type": "code",
      "source": [
        "# # faker profile\n",
        "# fake.profile()"
      ],
      "metadata": {
        "id": "NZNrbkAQdoBZ"
      },
      "execution_count": 4,
      "outputs": []
    },
    {
      "cell_type": "code",
      "source": [
        "# function to create customers and employees\n",
        "# def personal_data(cust_emp, person_type):\n",
        "#   if person_type == 'F':\n",
        "#     first_name = fake.first_name_female()\n",
        "#     gender = 'F'\n",
        "#   elif person_type == 'M':\n",
        "#     first_name =  fake.first_name_male()\n",
        "#     gender = 'M'\n",
        "#   else:\n",
        "#     first_name = fake.first_name_nonbinary()\n",
        "#     gender = 'N'\n",
        "#   last_name = fake.last_name()\n",
        "\n",
        "#   if cust_emp == 'c':\n",
        "#     job = fake.job()\n",
        "#     company = fake.company()\n",
        "#   else:\n",
        "#     job = ['my list of jobs']\n",
        "#     company = 'my company name'\n",
        "\n",
        "#   address = fake.address()\n",
        "#   phone = fake.phone_number()\n",
        "#   email = fake.email()\n",
        "#   dob = fake.date_of_birth(minimum_age=18)\n",
        "#   ssn = fake.ssn()\n",
        "#   address = fake.address()\n",
        "#   return {\n",
        "#       'first_name': first_name,\n",
        "#       'last_name': last_name,\n",
        "#       'job': job,\n",
        "#       'company': company,\n",
        "#       'address': address,\n",
        "#       'phone': phone,\n",
        "#       'email': email,\n",
        "#       'dob': dob,\n",
        "#       'gender': gender,\n",
        "#       'ssn': ssn,\n",
        "#       'address': address\n",
        "#   }"
      ],
      "metadata": {
        "id": "c3h1JVT3OJvi"
      },
      "execution_count": 5,
      "outputs": []
    },
    {
      "cell_type": "code",
      "source": [
        "# create customers dataframe\n",
        "# import random\n",
        "# import pandas as pd\n",
        "\n",
        "# data = []\n",
        "# for i in range(10):\n",
        "#   person_type = random.choice(['F', 'M', 'N'])\n",
        "#   person = personal_data('c', person_type)\n",
        "#   data.append(person)\n",
        "\n",
        "# customers = pd.DataFrame(data)\n",
        "# customers.head()"
      ],
      "metadata": {
        "id": "P5KB9D8BOWRB"
      },
      "execution_count": 6,
      "outputs": []
    },
    {
      "cell_type": "code",
      "source": [
        "# !pip install faker-commerce"
      ],
      "metadata": {
        "id": "U4AADX6YTUhG"
      },
      "execution_count": 7,
      "outputs": []
    },
    {
      "cell_type": "code",
      "source": [
        "# create fake products\n",
        "# import faker_commerce\n",
        "# import decimal\n",
        "\n",
        "# faker.add_provider(faker_commerce.Provider)\n",
        "\n",
        "# def product_data():\n",
        "#   product_name = faker.ecommerce_name()\n",
        "#   price = faker.ecommerce_price()\n",
        "#   if len(str(price)) > 5:\n",
        "#     price = random.choice([str(price)[-4:], str(price)[-5:]])\n",
        "#     price = round(decimal.Decimal(int(price)/100), 2)\n",
        "#   else:\n",
        "#     price = decimal.Decimal(price)/100\n",
        "#   material = faker.ecommerce_material()\n",
        "#   category = faker.ecommerce_category()\n",
        "#   return {\n",
        "#       'product_name': product_name,\n",
        "#       'price': price,\n",
        "#       'material': material,\n",
        "#       'category': category\n",
        "#   }"
      ],
      "metadata": {
        "id": "IeON99kmUgnt"
      },
      "execution_count": 8,
      "outputs": []
    },
    {
      "cell_type": "code",
      "source": [
        "# create orders dataframe\n",
        "# import pandas as pd\n",
        "\n",
        "# def orders_data():\n",
        "#   order_date = fake.date()\n",
        "#   product_idx = products.sample(1).index.values[0]\n",
        "#   customers_idx = customers.sample(1).index.values[0]\n",
        "#   employee_idx = employees.sample(1).index.values[0]\n",
        "#   return {\n",
        "#       'order_date': order_date,\n",
        "#       'product_idx': product_idx,\n",
        "#       'customer_idx': customers_idx,\n",
        "#       'employee_idx': employee_idx\n",
        "#   }\n",
        "\n",
        "# data = []\n",
        "# for i in range(10):\n",
        "#   data.append(orders_data())\n",
        "\n",
        "# orders = pd.DataFrame(data)\n",
        "# orders.head()"
      ],
      "metadata": {
        "id": "OvoL5gCHek1S"
      },
      "execution_count": 9,
      "outputs": []
    },
    {
      "cell_type": "code",
      "source": [
        "# dataframe to csv\n",
        "# orders.to_csv('orders.csv', index=False)"
      ],
      "metadata": {
        "id": "c455P-F75AfQ"
      },
      "execution_count": 10,
      "outputs": []
    },
    {
      "cell_type": "markdown",
      "source": [
        "## Synthetic Data\n",
        "\n",
        "* https://mostly.ai/what-is-synthetic-data"
      ],
      "metadata": {
        "id": "-UzRn2fcgHi4"
      }
    },
    {
      "cell_type": "markdown",
      "source": [
        "## DataFrame to SQL"
      ],
      "metadata": {
        "id": "qk_T-__Xgoir"
      }
    },
    {
      "cell_type": "code",
      "source": [
        "# import sqlite3\n",
        "\n",
        "# connection = sqlite3.connect('mybusiness.db') # sqlite will create mybusiness.db if it doesn't exist,\n",
        "# cursor = connection.cursor()"
      ],
      "metadata": {
        "id": "5wQ-8eMUgsCC"
      },
      "execution_count": 11,
      "outputs": []
    },
    {
      "cell_type": "code",
      "source": [
        "# # multiline strings in Python can be sorrounded with ''' Multi line text '''\n",
        "# query = '''\n",
        "# CREATE TABLE IF NOT EXISTS orders (\n",
        "#     id INTEGER PRIMARY KEY,\n",
        "#     order_date TEXT,\n",
        "#     product_idx INTEGER,\n",
        "#     customer_idx INTEGER,\n",
        "#     employee_idx INTEGER,\n",
        "#     FOREIGN KEY(product_idx) REFERENCES products(id),\n",
        "#     FOREIGN KEY(customer_idx) REFERENCES customers(id),\n",
        "#     FOREIGN KEY(employee_idx) REFERENCES employees(id)\n",
        "# )\n",
        "# '''\n",
        "# cursor.execute(query)"
      ],
      "metadata": {
        "id": "e4Eslm8OhPxn"
      },
      "execution_count": 12,
      "outputs": []
    },
    {
      "cell_type": "code",
      "source": [
        "# orders.to_sql(name='orders', con=connection, if_exists='append', index=False)"
      ],
      "metadata": {
        "id": "eiDRQdEphwVV"
      },
      "execution_count": 13,
      "outputs": []
    },
    {
      "cell_type": "code",
      "source": [
        "# !cp mybusiness.db 'path to your folder'"
      ],
      "metadata": {
        "id": "sBMT6FKHi04F"
      },
      "execution_count": 14,
      "outputs": []
    },
    {
      "cell_type": "code",
      "source": [
        "# ai generated reviews to dataframe\n"
      ],
      "metadata": {
        "id": "CQErTXARkYXX"
      },
      "execution_count": 15,
      "outputs": []
    },
    {
      "cell_type": "code",
      "source": [
        "# huggingface sentiment analysis"
      ],
      "metadata": {
        "id": "J_Vw3SLy6KRb"
      },
      "execution_count": 16,
      "outputs": []
    },
    {
      "cell_type": "code",
      "source": [
        "# huggingface zero-shot classification"
      ],
      "metadata": {
        "id": "Hs-W6KfS6OCO"
      },
      "execution_count": 17,
      "outputs": []
    }
  ]
}