{
  "nbformat": 4,
  "nbformat_minor": 0,
  "metadata": {
    "colab": {
      "provenance": [],
      "toc_visible": true,
      "include_colab_link": true
    },
    "kernelspec": {
      "name": "python3",
      "display_name": "Python 3"
    },
    "language_info": {
      "name": "python"
    }
  },
  "cells": [
    {
      "cell_type": "markdown",
      "metadata": {
        "id": "view-in-github",
        "colab_type": "text"
      },
      "source": [
        "<a href=\"https://colab.research.google.com/github/gitmystuff/DTSC5810/blob/main/Week_07-Predictive_Analytics/Week_07_Practice.ipynb\" target=\"_parent\"><img src=\"https://colab.research.google.com/assets/colab-badge.svg\" alt=\"Open In Colab\"/></a>"
      ]
    },
    {
      "cell_type": "markdown",
      "source": [
        "# HR Retention\n",
        "\n",
        "Why are people leaving our company?\n",
        "\n",
        "* https://towardsdatascience.com/building-an-employee-churn-model-in-python-to-develop-a-strategic-retention-plan-57d5bd882c2d\n",
        "* https://github.com/hamzaben86/Employee-Churn-Predictive-Model/tree/master/Data"
      ],
      "metadata": {
        "id": "CcwCIszWegzr"
      }
    },
    {
      "cell_type": "code",
      "execution_count": null,
      "metadata": {
        "id": "bIpMqTwz21ON"
      },
      "outputs": [],
      "source": [
        "import pandas as pd\n",
        "\n",
        "file_name1 = \"https://raw.githubusercontent.com/gitmystuff/Datasets/main/hr_data.csv\"\n"
      ]
    },
    {
      "cell_type": "code",
      "source": [
        "file_name2 = \"https://raw.githubusercontent.com/gitmystuff/Datasets/main/hr_satisfaction_evaluation.csv\"\n"
      ],
      "metadata": {
        "id": "BS4KkkKOYwTu"
      },
      "execution_count": null,
      "outputs": []
    },
    {
      "cell_type": "markdown",
      "source": [
        "## Join"
      ],
      "metadata": {
        "id": "YTW_2V8GYqlO"
      }
    },
    {
      "cell_type": "code",
      "source": [
        "# drop strange features and merge"
      ],
      "metadata": {
        "id": "7-EVT6C0Yk0a"
      },
      "execution_count": null,
      "outputs": []
    },
    {
      "cell_type": "markdown",
      "source": [
        "## EDA"
      ],
      "metadata": {
        "id": "VW9cGuoiYtfK"
      }
    },
    {
      "cell_type": "code",
      "source": [
        "# null values?\n"
      ],
      "metadata": {
        "id": "m7lomTGNbkgI"
      },
      "execution_count": null,
      "outputs": []
    },
    {
      "cell_type": "code",
      "source": [
        "# drop na\n"
      ],
      "metadata": {
        "id": "8VJ-cdj2bTIG"
      },
      "execution_count": null,
      "outputs": []
    },
    {
      "cell_type": "code",
      "source": [
        "# department count"
      ],
      "metadata": {
        "id": "o3FBHGZmR-DQ"
      },
      "execution_count": null,
      "outputs": []
    },
    {
      "cell_type": "code",
      "source": [
        "# check count and mean of churn by department\n"
      ],
      "metadata": {
        "id": "8vbx1rrQSQdm"
      },
      "execution_count": null,
      "outputs": []
    },
    {
      "cell_type": "markdown",
      "source": [
        "## Correlation"
      ],
      "metadata": {
        "id": "rkHEdQPRYmeB"
      }
    },
    {
      "cell_type": "code",
      "source": [
        "# correlation heat map\n"
      ],
      "metadata": {
        "id": "LP8Ld--RT8VF"
      },
      "execution_count": null,
      "outputs": []
    },
    {
      "cell_type": "markdown",
      "source": [
        "## Data Prep"
      ],
      "metadata": {
        "id": "VJ7UV_WuYwR1"
      }
    },
    {
      "cell_type": "code",
      "source": [
        "# get dummies\n"
      ],
      "metadata": {
        "id": "eCIQ6ZL0U2rV"
      },
      "execution_count": null,
      "outputs": []
    },
    {
      "cell_type": "markdown",
      "source": [
        "## Train Test Split"
      ],
      "metadata": {
        "id": "EkOFZPRwYycJ"
      }
    },
    {
      "cell_type": "code",
      "source": [
        "# train test split\n"
      ],
      "metadata": {
        "id": "tdvF561qVOCr"
      },
      "execution_count": null,
      "outputs": []
    },
    {
      "cell_type": "code",
      "source": [
        "# X_train describe\n"
      ],
      "metadata": {
        "id": "lVSq-BaTVcR6"
      },
      "execution_count": null,
      "outputs": []
    },
    {
      "cell_type": "markdown",
      "source": [
        "## Scaler"
      ],
      "metadata": {
        "id": "AnnrY-HsZ5k5"
      }
    },
    {
      "cell_type": "code",
      "source": [
        "# scaler"
      ],
      "metadata": {
        "id": "GPyk322tVp11"
      },
      "execution_count": null,
      "outputs": []
    },
    {
      "cell_type": "markdown",
      "source": [
        "## Logistic Regression"
      ],
      "metadata": {
        "id": "YyxfM9QkYh9e"
      }
    },
    {
      "cell_type": "code",
      "source": [
        "# logistic regression\n"
      ],
      "metadata": {
        "id": "PlqiQGNBWL9g"
      },
      "execution_count": null,
      "outputs": []
    },
    {
      "cell_type": "code",
      "source": [
        "# precision recall\n",
        "\n",
        "# print('Confusion Matrix')\n",
        "# print(confusion_matrix(y_test, predictions))\n",
        "# print()\n",
        "# print('Here is what the numbers represent')\n",
        "# print('''\n",
        "#                  predicted\n",
        "#                    |  0  |  1\n",
        "#            --------------------\n",
        "#            class 0 | TN  |  FP\n",
        "#   actual   --------------------\n",
        "#            class 1 | FN  |  TP\n",
        "# ''')"
      ],
      "metadata": {
        "id": "cu1xnhOOWvIm"
      },
      "execution_count": null,
      "outputs": []
    },
    {
      "cell_type": "code",
      "source": [
        "# is y_train (target) balanced\n"
      ],
      "metadata": {
        "id": "uGHANTwyYFie"
      },
      "execution_count": null,
      "outputs": []
    },
    {
      "cell_type": "code",
      "source": [
        "# new logistic regression with class weights"
      ],
      "metadata": {
        "id": "dxD0kugoYMl7"
      },
      "execution_count": null,
      "outputs": []
    },
    {
      "cell_type": "markdown",
      "source": [
        "## Random Forest"
      ],
      "metadata": {
        "id": "l-W3LeDfYey8"
      }
    },
    {
      "cell_type": "code",
      "source": [
        "# random forest\n"
      ],
      "metadata": {
        "id": "Yed1dVQLXTDF"
      },
      "execution_count": null,
      "outputs": []
    },
    {
      "cell_type": "markdown",
      "metadata": {
        "id": "5661ca0c"
      },
      "source": [
        "## Feature Selection"
      ]
    },
    {
      "cell_type": "markdown",
      "metadata": {
        "id": "e1164555"
      },
      "source": [
        "### Variance Inflation Factor\n",
        "\n",
        "* Measures how much one predictor is influenced, or inflated, by the presence, or correlation, of another predictor\n",
        "* Quick measure of the contribution of a predictor to the standard error, the standard deviation of a sample, in regression\n",
        "\n",
        "https://www.statisticshowto.com/variance-inflation-factor/"
      ]
    },
    {
      "cell_type": "code",
      "execution_count": null,
      "metadata": {
        "id": "94d57d4f"
      },
      "outputs": [],
      "source": [
        "# vif\n"
      ]
    },
    {
      "cell_type": "markdown",
      "metadata": {
        "id": "7fb255ca"
      },
      "source": [
        "### Mutual Information\n",
        "\n",
        "* Measures the mutual dependence on two variables\n",
        "* Persons r is linear where as MI measures non-linear relationships\n",
        "* How much information can be extracted from one variable by observing another variable"
      ]
    },
    {
      "cell_type": "code",
      "execution_count": null,
      "metadata": {
        "id": "a918e010"
      },
      "outputs": [],
      "source": [
        "# obtain the mutual information values and select features\n"
      ]
    },
    {
      "cell_type": "markdown",
      "metadata": {
        "id": "480100db"
      },
      "source": [
        "### Variance Threshold\n",
        "\n",
        "* Feature selector that removes all low-variance features\n",
        "\n",
        "https://scikit-learn.org/stable/modules/generated/sklearn.feature_selection.VarianceThreshold.html"
      ]
    },
    {
      "cell_type": "code",
      "execution_count": null,
      "metadata": {
        "id": "d77df700"
      },
      "outputs": [],
      "source": [
        "# variance threshold"
      ]
    },
    {
      "cell_type": "markdown",
      "metadata": {
        "id": "0d19f8ff"
      },
      "source": [
        "### Select K Best\n",
        "\n",
        "* Select features according to the k highest scores\n",
        "* Chi-squared stats of non-negative features for classification tasks\n",
        "\n",
        "https://scikit-learn.org/stable/modules/generated/sklearn.feature_selection.SelectKBest.html"
      ]
    },
    {
      "cell_type": "code",
      "execution_count": null,
      "metadata": {
        "id": "b97187cf"
      },
      "outputs": [],
      "source": [
        "# select k best"
      ]
    },
    {
      "cell_type": "markdown",
      "metadata": {
        "id": "4cde02b4"
      },
      "source": [
        "### Select From Model\n",
        "\n",
        "* Meta-transformer for selecting features based on importance weights\n",
        "* Feature weight importance\n",
        "* Uses estimators such as AdaBoost, Logistic Regression, RandomForest\n",
        "\n",
        "https://scikit-learn.org/stable/modules/generated/sklearn.feature_selection.SelectFromModel.html"
      ]
    },
    {
      "cell_type": "code",
      "execution_count": null,
      "metadata": {
        "id": "e1b76449"
      },
      "outputs": [],
      "source": [
        "# select from model"
      ]
    },
    {
      "cell_type": "markdown",
      "metadata": {
        "id": "90bf6ccb"
      },
      "source": [
        "### Recursive Feature Elimination\n",
        "\n",
        "\n",
        "* Feature ranking with recursive feature elimination\n",
        "* Given an external estimator that assigns weights to features (e.g., the coefficients of a linear model), the goal of recursive feature elimination (RFE) is to select features by recursively considering smaller and smaller sets of features\n",
        "\n",
        "https://scikit-learn.org/stable/modules/generated/sklearn.feature_selection.RFE.html"
      ]
    },
    {
      "cell_type": "code",
      "execution_count": null,
      "metadata": {
        "id": "5fe7e857"
      },
      "outputs": [],
      "source": [
        "# ref\n"
      ]
    }
  ]
}