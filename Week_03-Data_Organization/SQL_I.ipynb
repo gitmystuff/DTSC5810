{
  "cells": [
    {
      "cell_type": "markdown",
      "metadata": {
        "id": "view-in-github",
        "colab_type": "text"
      },
      "source": [
        "<a href=\"https://colab.research.google.com/github/gitmystuff/DTSC5810/blob/main/Week_03-Data_Organization/SQL_I.ipynb\" target=\"_parent\"><img src=\"https://colab.research.google.com/assets/colab-badge.svg\" alt=\"Open In Colab\"/></a>"
      ]
    },
    {
      "cell_type": "markdown",
      "source": [
        "# SQL I"
      ],
      "metadata": {
        "id": "MNeBEoHVe5NL"
      },
      "id": "MNeBEoHVe5NL"
    },
    {
      "cell_type": "markdown",
      "source": [
        "## Database\n",
        "\n",
        "In computing, a database is an organized collection of data or a type of data store based on the use of a database management system (DBMS), the software that interacts with end users, applications, and the database itself to capture and analyze the data. The DBMS additionally encompasses the core facilities provided to administer the database. The sum total of the database, the DBMS and the associated applications can be referred to as a database system. Often the term \"database\" is also used loosely to refer to any of the DBMS, the database system or an application associated with the database.\n",
        "\n",
        "https://en.wikipedia.org/wiki/Database\n"
      ],
      "metadata": {
        "id": "P-g86LRQe1_L"
      },
      "id": "P-g86LRQe1_L"
    },
    {
      "cell_type": "markdown",
      "id": "62190f2f",
      "metadata": {
        "id": "62190f2f"
      },
      "source": [
        "## SQL\n",
        "\n",
        "SQL, Structured Query Language, is a domain-specific language used in programming and designed for managing data held in a relational database management system (RDBMS), or for stream processing in a relational data stream management system (RDSMS). It is particularly useful in handling structured data, i.e. data incorporating relations among entities and variables.\n",
        "\n",
        "The SQL language is subdivided into several language elements, including:\n",
        "\n",
        "* Clauses, which are constituent components of statements and queries. (In some cases, these are optional.)[17]\n",
        "* Expressions, which can produce either scalar values, or tables consisting of columns and rows of data\n",
        "* Predicates, which specify conditions that can be evaluated to SQL three-valued logic (3VL) (true/false/unknown) or Boolean truth values and are used to limit the effects of statements and queries, or to change program flow.\n",
        "* Queries, which retrieve the data based on specific criteria. This is an important element of SQL.\n",
        "* Statements, which may have a persistent effect on schemata and data, or may control transactions, program flow, connections, sessions, or diagnostics.\n",
        "* SQL statements also include the semicolon (\";\") statement terminator. Though not required on every platform, it is defined as a standard part of the SQL grammar.\n",
        "* Insignificant whitespace is generally ignored in SQL statements and queries, making it easier to format SQL code for readability.\n",
        "<br /><br />\n",
        "\n",
        "<img src='https://wikimedia.org/api/rest_v1/media/math/render/svg/b83ad563285f7b0ebb325226d91f25ca0bffa7cd' alt='example of sql language elements'/>\n",
        "\n",
        "https://en.wikipedia.org/wiki/SQL\n",
        "\n",
        "A NoSQL (originally referring to \"non-SQL\" or \"non-relational\", \"not only sql\") database provides a mechanism for storage and retrieval of data that is modeled in means other than the tabular relations used in relational databases. Such databases have existed since the late 1960s, but the name \"NoSQL\" was only coined in the early 21st century, triggered by the needs of Web 2.0 companies. NoSQL databases are increasingly used in big data and real-time web applications. NoSQL systems are also sometimes called Not only SQL to emphasize that they may support SQL-like query languages or sit alongside SQL databases in polyglot-persistent architectures.\n",
        "\n",
        "Motivations for this approach include simplicity of design, simpler \"horizontal\" scaling to clusters of machines (which is a problem for relational databases), finer control over availability and limiting the object-relational impedance mismatch. The data structures used by NoSQL databases (e.g. key–value pair, wide column, graph, or document) are different from those used by default in relational databases, making some operations faster in NoSQL. The particular suitability of a given NoSQL database depends on the problem it must solve. Sometimes the data structures used by NoSQL databases are also viewed as \"more flexible\" than relational database tables.\n",
        "\n",
        "Many NoSQL stores compromise consistency (in the sense of the CAP theorem) in favor of availability, partition tolerance, and speed. Barriers to the greater adoption of NoSQL stores include the use of low-level query languages (instead of SQL, for instance), lack of ability to perform ad hoc joins across tables, lack of standardized interfaces, and huge previous investments in existing relational databases. Most NoSQL stores lack true ACID transactions, although a few databases have made them central to their designs.\n",
        "\n",
        "https://en.wikipedia.org/wiki/NoSQL\n",
        "\n",
        "Relational to NoSQL at Enterprise Scale: Lessons from Amazon: https://thenewstack.io/relational-to-nosql-at-enterprise-scale-lessons-from-amazon/\n",
        "\n",
        "* https://www.analyticsvidhya.com/blog/2022/06/an-introduction-to-joins-in-mysql/\n",
        "* https://towardsdatascience.com/how-to-run-sql-queries-from-a-jupyter-notebook-aaa18e59e7bc\n",
        "* https://www.digitalocean.com/community/tutorials/how-to-use-the-sqlite3-module-in-python-3"
      ]
    },
    {
      "cell_type": "markdown",
      "source": [
        "## SQL Terms\n",
        "\n",
        "* https://www.w3schools.com/sql/default.asp\n",
        "* CRUD\n",
        "* Primary key\n",
        "* Foreign key\n",
        "* Data types: https://www.w3schools.com/sql/sql_datatypes.asp"
      ],
      "metadata": {
        "id": "4Xeb9qNiF6Bf"
      },
      "id": "4Xeb9qNiF6Bf"
    },
    {
      "cell_type": "markdown",
      "source": [
        "## SQL Alchemy\n",
        "\n",
        "* https://www.sqlalchemy.org/"
      ],
      "metadata": {
        "id": "1goYm-yXHvz4"
      },
      "id": "1goYm-yXHvz4"
    },
    {
      "cell_type": "markdown",
      "source": [
        "## Magic\n",
        "\n",
        "* https://jakevdp.github.io/PythonDataScienceHandbook/01.03-magic-commands.html"
      ],
      "metadata": {
        "id": "_F9lkd5oLStf"
      },
      "id": "_F9lkd5oLStf"
    },
    {
      "cell_type": "markdown",
      "source": [
        "<pre>\n",
        "%load_ext sql\n",
        "%sql sqlite://\n",
        "</pre>"
      ],
      "metadata": {
        "id": "wIP3VJQcZb6e"
      },
      "id": "wIP3VJQcZb6e"
    },
    {
      "cell_type": "code",
      "execution_count": null,
      "id": "b2a71307",
      "metadata": {
        "id": "b2a71307"
      },
      "outputs": [],
      "source": [
        "# load sql using line magic\n",
        "%load_ext sql\n",
        "%sql sqlite://"
      ]
    },
    {
      "cell_type": "markdown",
      "source": [
        "<pre>\n",
        "%%sql\n",
        "CREATE TABLE aTable\n",
        "(\n",
        "    pkey     INTEGER PRIMARY KEY,\n",
        "    name     varchar(24)\n",
        ");\n",
        "\n",
        "CREATE TABLE bTable\n",
        "(\n",
        "    pkey     INTEGER PRIMARY KEY,\n",
        "    name     varchar(24)\n",
        ");\n",
        "\n",
        "</pre>"
      ],
      "metadata": {
        "id": "b2ZTmPJ6ZmSe"
      },
      "id": "b2ZTmPJ6ZmSe"
    },
    {
      "cell_type": "code",
      "execution_count": null,
      "id": "618fca65",
      "metadata": {
        "id": "618fca65",
        "colab": {
          "base_uri": "https://localhost:8080/"
        },
        "outputId": "16b10eab-1fad-424f-8472-0dde8a4b3eb1"
      },
      "outputs": [
        {
          "output_type": "stream",
          "name": "stdout",
          "text": [
            " * sqlite://\n",
            "Done.\n",
            "Done.\n"
          ]
        },
        {
          "output_type": "execute_result",
          "data": {
            "text/plain": [
              "[]"
            ]
          },
          "metadata": {},
          "execution_count": 2
        }
      ],
      "source": [
        "# create tables cell magic\n",
        "%%sql\n",
        "CREATE TABLE aTable\n",
        "(\n",
        "  pkey INTEGER PRIMARY KEY,\n",
        "  name varchar(24)\n",
        ");\n",
        "\n",
        "CREATE TABLE bTable\n",
        "(\n",
        "  pkey INTEGER PRIMARY KEY,\n",
        "  name varchar(24)\n",
        ");"
      ]
    },
    {
      "cell_type": "markdown",
      "source": [
        "<pre>\n",
        "%%sql\n",
        "INSERT INTO aTable (name)\n",
        "VALUES ('Bugs Bunny'),\n",
        "       ('Popeye'),\n",
        "       ('Daffy Duck'),\n",
        "       ('Mickey Mouse'),\n",
        "       ('Minnie Mouse'),\n",
        "       ('Tweety');\n",
        "\n",
        "INSERT INTO bTable(name)\n",
        "VALUES ('Bugs Bunny'),\n",
        "       ('Charlie Brown'),\n",
        "       ('Daffy Duck'),\n",
        "       ('Homer Simpson'),\n",
        "       ('Marge Simpson'),\n",
        "       ('Tweety');\n",
        "</pre>"
      ],
      "metadata": {
        "id": "0OulF2hZZ-XW"
      },
      "id": "0OulF2hZZ-XW"
    },
    {
      "cell_type": "code",
      "source": [
        "# populate tables\n",
        "%%sql\n",
        "INSERT INTO aTable (name)\n",
        "VALUES ('Bugs Bunny'),\n",
        "       ('Popeye'),\n",
        "       ('Daffy Duck'),\n",
        "       ('Mickey Mouse'),\n",
        "       ('Minnie Mouse'),\n",
        "       ('Tweety');\n",
        "\n",
        "INSERT INTO bTable(name)\n",
        "VALUES ('Bugs Bunny'),\n",
        "       ('Charlie Brown'),\n",
        "       ('Daffy Duck'),\n",
        "       ('Homer Simpson'),\n",
        "       ('Marge Simpson'),\n",
        "       ('Tweety');"
      ],
      "metadata": {
        "id": "qUMk0FZCaCaR",
        "colab": {
          "base_uri": "https://localhost:8080/"
        },
        "outputId": "9c27c3f0-0871-4f85-e8f4-c6f60959d611"
      },
      "id": "qUMk0FZCaCaR",
      "execution_count": null,
      "outputs": [
        {
          "output_type": "stream",
          "name": "stdout",
          "text": [
            " * sqlite://\n",
            "6 rows affected.\n",
            "6 rows affected.\n"
          ]
        },
        {
          "output_type": "execute_result",
          "data": {
            "text/plain": [
              "[]"
            ]
          },
          "metadata": {},
          "execution_count": 3
        }
      ]
    },
    {
      "cell_type": "markdown",
      "source": [
        "<pre>\n",
        "%%sql\n",
        "SELECT * FROM sqlite_master;\n",
        "</pre>"
      ],
      "metadata": {
        "id": "9VB73BSNaJ54"
      },
      "id": "9VB73BSNaJ54"
    },
    {
      "cell_type": "code",
      "execution_count": null,
      "id": "724d3ada",
      "metadata": {
        "id": "724d3ada",
        "colab": {
          "base_uri": "https://localhost:8080/",
          "height": 256
        },
        "outputId": "f2d12548-f556-4db5-80f6-a533980eb502"
      },
      "outputs": [
        {
          "output_type": "stream",
          "name": "stdout",
          "text": [
            " * sqlite://\n",
            "Done.\n"
          ]
        },
        {
          "output_type": "execute_result",
          "data": {
            "text/plain": [
              "[('table', 'aTable', 'aTable', 2, 'CREATE TABLE aTable\\n(\\n  pkey INTEGER PRIMARY KEY,\\n  name varchar(24)\\n)'),\n",
              " ('table', 'bTable', 'bTable', 3, 'CREATE TABLE bTable\\n(\\n  pkey INTEGER PRIMARY KEY,\\n  name varchar(24)\\n)')]"
            ],
            "text/html": [
              "<table>\n",
              "    <thead>\n",
              "        <tr>\n",
              "            <th>type</th>\n",
              "            <th>name</th>\n",
              "            <th>tbl_name</th>\n",
              "            <th>rootpage</th>\n",
              "            <th>sql</th>\n",
              "        </tr>\n",
              "    </thead>\n",
              "    <tbody>\n",
              "        <tr>\n",
              "            <td>table</td>\n",
              "            <td>aTable</td>\n",
              "            <td>aTable</td>\n",
              "            <td>2</td>\n",
              "            <td>CREATE TABLE aTable<br>(<br>  pkey INTEGER PRIMARY KEY,<br>  name varchar(24)<br>)</td>\n",
              "        </tr>\n",
              "        <tr>\n",
              "            <td>table</td>\n",
              "            <td>bTable</td>\n",
              "            <td>bTable</td>\n",
              "            <td>3</td>\n",
              "            <td>CREATE TABLE bTable<br>(<br>  pkey INTEGER PRIMARY KEY,<br>  name varchar(24)<br>)</td>\n",
              "        </tr>\n",
              "    </tbody>\n",
              "</table>"
            ]
          },
          "metadata": {},
          "execution_count": 4
        }
      ],
      "source": [
        "# show sqlite master\n",
        "%%sql\n",
        "SELECT * FROM sqlite_master;"
      ]
    },
    {
      "cell_type": "markdown",
      "source": [
        "<pre>\n",
        "%%sql\n",
        "SELECT * FROM aTable;\n",
        "</pre>"
      ],
      "metadata": {
        "id": "LKwsDTNEaWJN"
      },
      "id": "LKwsDTNEaWJN"
    },
    {
      "cell_type": "code",
      "source": [
        "# select all from aTable\n",
        "%%sql\n",
        "SELECT * FROM aTable;"
      ],
      "metadata": {
        "id": "KEdaAzIZGuOA",
        "colab": {
          "base_uri": "https://localhost:8080/",
          "height": 203
        },
        "outputId": "c1288ca7-cc45-4bb8-ae51-56642c7b9f6d"
      },
      "id": "KEdaAzIZGuOA",
      "execution_count": null,
      "outputs": [
        {
          "output_type": "stream",
          "name": "stdout",
          "text": [
            " * sqlite://\n",
            "Done.\n"
          ]
        },
        {
          "output_type": "execute_result",
          "data": {
            "text/plain": [
              "[(1, 'Bugs Bunny'),\n",
              " (2, 'Popeye'),\n",
              " (3, 'Daffy Duck'),\n",
              " (4, 'Mickey Mouse'),\n",
              " (5, 'Minnie Mouse'),\n",
              " (6, 'Tweety')]"
            ],
            "text/html": [
              "<table>\n",
              "    <thead>\n",
              "        <tr>\n",
              "            <th>pkey</th>\n",
              "            <th>name</th>\n",
              "        </tr>\n",
              "    </thead>\n",
              "    <tbody>\n",
              "        <tr>\n",
              "            <td>1</td>\n",
              "            <td>Bugs Bunny</td>\n",
              "        </tr>\n",
              "        <tr>\n",
              "            <td>2</td>\n",
              "            <td>Popeye</td>\n",
              "        </tr>\n",
              "        <tr>\n",
              "            <td>3</td>\n",
              "            <td>Daffy Duck</td>\n",
              "        </tr>\n",
              "        <tr>\n",
              "            <td>4</td>\n",
              "            <td>Mickey Mouse</td>\n",
              "        </tr>\n",
              "        <tr>\n",
              "            <td>5</td>\n",
              "            <td>Minnie Mouse</td>\n",
              "        </tr>\n",
              "        <tr>\n",
              "            <td>6</td>\n",
              "            <td>Tweety</td>\n",
              "        </tr>\n",
              "    </tbody>\n",
              "</table>"
            ]
          },
          "metadata": {},
          "execution_count": 5
        }
      ]
    },
    {
      "cell_type": "markdown",
      "source": [
        "<pre>\n",
        "%%sql\n",
        "SELECT * FROM bTable WHERE pkey = 1;\n",
        "</pre>"
      ],
      "metadata": {
        "id": "7OBroDHUan-5"
      },
      "id": "7OBroDHUan-5"
    },
    {
      "cell_type": "code",
      "source": [
        "# select * from bTable where pkey = 1\n",
        "%%sql\n",
        "SELECT * FROM bTable WHERE pkey = 1;"
      ],
      "metadata": {
        "id": "P77EZRLLG8Rc",
        "colab": {
          "base_uri": "https://localhost:8080/",
          "height": 96
        },
        "outputId": "b02d923d-abeb-4fe0-c943-0e40c26a3a29"
      },
      "id": "P77EZRLLG8Rc",
      "execution_count": null,
      "outputs": [
        {
          "output_type": "stream",
          "name": "stdout",
          "text": [
            " * sqlite://\n",
            "Done.\n"
          ]
        },
        {
          "output_type": "execute_result",
          "data": {
            "text/plain": [
              "[(1, 'Bugs Bunny')]"
            ],
            "text/html": [
              "<table>\n",
              "    <thead>\n",
              "        <tr>\n",
              "            <th>pkey</th>\n",
              "            <th>name</th>\n",
              "        </tr>\n",
              "    </thead>\n",
              "    <tbody>\n",
              "        <tr>\n",
              "            <td>1</td>\n",
              "            <td>Bugs Bunny</td>\n",
              "        </tr>\n",
              "    </tbody>\n",
              "</table>"
            ]
          },
          "metadata": {},
          "execution_count": 6
        }
      ]
    },
    {
      "cell_type": "markdown",
      "id": "d29e58ba",
      "metadata": {
        "id": "d29e58ba"
      },
      "source": [
        "## JOINS\n",
        "\n",
        "* https://www.w3schools.com/sql/sql_join.asp\n",
        "* RIGHT and FULL OUTER JOINs are not currently supported in sqlite 3"
      ]
    },
    {
      "cell_type": "markdown",
      "source": [
        "<pre>\n",
        "%%sql\n",
        "SELECT * FROM aTable JOIN bTable USING (pkey);\n",
        "</pre>"
      ],
      "metadata": {
        "id": "1fxfB0zSa__C"
      },
      "id": "1fxfB0zSa__C"
    },
    {
      "cell_type": "code",
      "execution_count": null,
      "id": "f6921c35",
      "metadata": {
        "id": "f6921c35",
        "colab": {
          "base_uri": "https://localhost:8080/",
          "height": 203
        },
        "outputId": "b9b0d0e5-73eb-4ecf-b029-82549422e9ad"
      },
      "outputs": [
        {
          "output_type": "stream",
          "name": "stdout",
          "text": [
            " * sqlite://\n",
            "Done.\n"
          ]
        },
        {
          "output_type": "execute_result",
          "data": {
            "text/plain": [
              "[(1, 'Bugs Bunny', 'Bugs Bunny'),\n",
              " (2, 'Popeye', 'Charlie Brown'),\n",
              " (3, 'Daffy Duck', 'Daffy Duck'),\n",
              " (4, 'Mickey Mouse', 'Homer Simpson'),\n",
              " (5, 'Minnie Mouse', 'Marge Simpson'),\n",
              " (6, 'Tweety', 'Tweety')]"
            ],
            "text/html": [
              "<table>\n",
              "    <thead>\n",
              "        <tr>\n",
              "            <th>pkey</th>\n",
              "            <th>name</th>\n",
              "            <th>name_1</th>\n",
              "        </tr>\n",
              "    </thead>\n",
              "    <tbody>\n",
              "        <tr>\n",
              "            <td>1</td>\n",
              "            <td>Bugs Bunny</td>\n",
              "            <td>Bugs Bunny</td>\n",
              "        </tr>\n",
              "        <tr>\n",
              "            <td>2</td>\n",
              "            <td>Popeye</td>\n",
              "            <td>Charlie Brown</td>\n",
              "        </tr>\n",
              "        <tr>\n",
              "            <td>3</td>\n",
              "            <td>Daffy Duck</td>\n",
              "            <td>Daffy Duck</td>\n",
              "        </tr>\n",
              "        <tr>\n",
              "            <td>4</td>\n",
              "            <td>Mickey Mouse</td>\n",
              "            <td>Homer Simpson</td>\n",
              "        </tr>\n",
              "        <tr>\n",
              "            <td>5</td>\n",
              "            <td>Minnie Mouse</td>\n",
              "            <td>Marge Simpson</td>\n",
              "        </tr>\n",
              "        <tr>\n",
              "            <td>6</td>\n",
              "            <td>Tweety</td>\n",
              "            <td>Tweety</td>\n",
              "        </tr>\n",
              "    </tbody>\n",
              "</table>"
            ]
          },
          "metadata": {},
          "execution_count": 7
        }
      ],
      "source": [
        "# join aTable with bTable using pkey)\n",
        "%%sql\n",
        "SELECT * FROM aTable JOIN bTable USING (pkey);"
      ]
    },
    {
      "cell_type": "markdown",
      "source": [
        "https://www.analyticsvidhya.com/blog/2024/01/role-of-underscore-in-python/\n",
        "\n",
        "<pre>\n",
        "result = _\n",
        "df = result.DataFrame()\n",
        "df.columns = ['pkey', 'aTable', 'bTable']\n",
        "df.head()\n",
        "</pre>"
      ],
      "metadata": {
        "id": "ulWbRljjbUNL"
      },
      "id": "ulWbRljjbUNL"
    },
    {
      "cell_type": "code",
      "execution_count": null,
      "id": "c9bf1a98",
      "metadata": {
        "id": "c9bf1a98",
        "colab": {
          "base_uri": "https://localhost:8080/",
          "height": 206
        },
        "outputId": "203b7afc-f3db-488a-c02c-8c860a1af8c7"
      },
      "outputs": [
        {
          "output_type": "execute_result",
          "data": {
            "text/plain": [
              "   pkey        aTable         bTable\n",
              "0     1    Bugs Bunny     Bugs Bunny\n",
              "1     2        Popeye  Charlie Brown\n",
              "2     3    Daffy Duck     Daffy Duck\n",
              "3     4  Mickey Mouse  Homer Simpson\n",
              "4     5  Minnie Mouse  Marge Simpson"
            ],
            "text/html": [
              "\n",
              "  <div id=\"df-3f3d95e2-ae65-4716-b289-3bd74aed0f7e\" class=\"colab-df-container\">\n",
              "    <div>\n",
              "<style scoped>\n",
              "    .dataframe tbody tr th:only-of-type {\n",
              "        vertical-align: middle;\n",
              "    }\n",
              "\n",
              "    .dataframe tbody tr th {\n",
              "        vertical-align: top;\n",
              "    }\n",
              "\n",
              "    .dataframe thead th {\n",
              "        text-align: right;\n",
              "    }\n",
              "</style>\n",
              "<table border=\"1\" class=\"dataframe\">\n",
              "  <thead>\n",
              "    <tr style=\"text-align: right;\">\n",
              "      <th></th>\n",
              "      <th>pkey</th>\n",
              "      <th>aTable</th>\n",
              "      <th>bTable</th>\n",
              "    </tr>\n",
              "  </thead>\n",
              "  <tbody>\n",
              "    <tr>\n",
              "      <th>0</th>\n",
              "      <td>1</td>\n",
              "      <td>Bugs Bunny</td>\n",
              "      <td>Bugs Bunny</td>\n",
              "    </tr>\n",
              "    <tr>\n",
              "      <th>1</th>\n",
              "      <td>2</td>\n",
              "      <td>Popeye</td>\n",
              "      <td>Charlie Brown</td>\n",
              "    </tr>\n",
              "    <tr>\n",
              "      <th>2</th>\n",
              "      <td>3</td>\n",
              "      <td>Daffy Duck</td>\n",
              "      <td>Daffy Duck</td>\n",
              "    </tr>\n",
              "    <tr>\n",
              "      <th>3</th>\n",
              "      <td>4</td>\n",
              "      <td>Mickey Mouse</td>\n",
              "      <td>Homer Simpson</td>\n",
              "    </tr>\n",
              "    <tr>\n",
              "      <th>4</th>\n",
              "      <td>5</td>\n",
              "      <td>Minnie Mouse</td>\n",
              "      <td>Marge Simpson</td>\n",
              "    </tr>\n",
              "  </tbody>\n",
              "</table>\n",
              "</div>\n",
              "    <div class=\"colab-df-buttons\">\n",
              "\n",
              "  <div class=\"colab-df-container\">\n",
              "    <button class=\"colab-df-convert\" onclick=\"convertToInteractive('df-3f3d95e2-ae65-4716-b289-3bd74aed0f7e')\"\n",
              "            title=\"Convert this dataframe to an interactive table.\"\n",
              "            style=\"display:none;\">\n",
              "\n",
              "  <svg xmlns=\"http://www.w3.org/2000/svg\" height=\"24px\" viewBox=\"0 -960 960 960\">\n",
              "    <path d=\"M120-120v-720h720v720H120Zm60-500h600v-160H180v160Zm220 220h160v-160H400v160Zm0 220h160v-160H400v160ZM180-400h160v-160H180v160Zm440 0h160v-160H620v160ZM180-180h160v-160H180v160Zm440 0h160v-160H620v160Z\"/>\n",
              "  </svg>\n",
              "    </button>\n",
              "\n",
              "  <style>\n",
              "    .colab-df-container {\n",
              "      display:flex;\n",
              "      gap: 12px;\n",
              "    }\n",
              "\n",
              "    .colab-df-convert {\n",
              "      background-color: #E8F0FE;\n",
              "      border: none;\n",
              "      border-radius: 50%;\n",
              "      cursor: pointer;\n",
              "      display: none;\n",
              "      fill: #1967D2;\n",
              "      height: 32px;\n",
              "      padding: 0 0 0 0;\n",
              "      width: 32px;\n",
              "    }\n",
              "\n",
              "    .colab-df-convert:hover {\n",
              "      background-color: #E2EBFA;\n",
              "      box-shadow: 0px 1px 2px rgba(60, 64, 67, 0.3), 0px 1px 3px 1px rgba(60, 64, 67, 0.15);\n",
              "      fill: #174EA6;\n",
              "    }\n",
              "\n",
              "    .colab-df-buttons div {\n",
              "      margin-bottom: 4px;\n",
              "    }\n",
              "\n",
              "    [theme=dark] .colab-df-convert {\n",
              "      background-color: #3B4455;\n",
              "      fill: #D2E3FC;\n",
              "    }\n",
              "\n",
              "    [theme=dark] .colab-df-convert:hover {\n",
              "      background-color: #434B5C;\n",
              "      box-shadow: 0px 1px 3px 1px rgba(0, 0, 0, 0.15);\n",
              "      filter: drop-shadow(0px 1px 2px rgba(0, 0, 0, 0.3));\n",
              "      fill: #FFFFFF;\n",
              "    }\n",
              "  </style>\n",
              "\n",
              "    <script>\n",
              "      const buttonEl =\n",
              "        document.querySelector('#df-3f3d95e2-ae65-4716-b289-3bd74aed0f7e button.colab-df-convert');\n",
              "      buttonEl.style.display =\n",
              "        google.colab.kernel.accessAllowed ? 'block' : 'none';\n",
              "\n",
              "      async function convertToInteractive(key) {\n",
              "        const element = document.querySelector('#df-3f3d95e2-ae65-4716-b289-3bd74aed0f7e');\n",
              "        const dataTable =\n",
              "          await google.colab.kernel.invokeFunction('convertToInteractive',\n",
              "                                                    [key], {});\n",
              "        if (!dataTable) return;\n",
              "\n",
              "        const docLinkHtml = 'Like what you see? Visit the ' +\n",
              "          '<a target=\"_blank\" href=https://colab.research.google.com/notebooks/data_table.ipynb>data table notebook</a>'\n",
              "          + ' to learn more about interactive tables.';\n",
              "        element.innerHTML = '';\n",
              "        dataTable['output_type'] = 'display_data';\n",
              "        await google.colab.output.renderOutput(dataTable, element);\n",
              "        const docLink = document.createElement('div');\n",
              "        docLink.innerHTML = docLinkHtml;\n",
              "        element.appendChild(docLink);\n",
              "      }\n",
              "    </script>\n",
              "  </div>\n",
              "\n",
              "\n",
              "<div id=\"df-3181316b-9845-480b-b8f7-0ef69887a970\">\n",
              "  <button class=\"colab-df-quickchart\" onclick=\"quickchart('df-3181316b-9845-480b-b8f7-0ef69887a970')\"\n",
              "            title=\"Suggest charts\"\n",
              "            style=\"display:none;\">\n",
              "\n",
              "<svg xmlns=\"http://www.w3.org/2000/svg\" height=\"24px\"viewBox=\"0 0 24 24\"\n",
              "     width=\"24px\">\n",
              "    <g>\n",
              "        <path d=\"M19 3H5c-1.1 0-2 .9-2 2v14c0 1.1.9 2 2 2h14c1.1 0 2-.9 2-2V5c0-1.1-.9-2-2-2zM9 17H7v-7h2v7zm4 0h-2V7h2v10zm4 0h-2v-4h2v4z\"/>\n",
              "    </g>\n",
              "</svg>\n",
              "  </button>\n",
              "\n",
              "<style>\n",
              "  .colab-df-quickchart {\n",
              "      --bg-color: #E8F0FE;\n",
              "      --fill-color: #1967D2;\n",
              "      --hover-bg-color: #E2EBFA;\n",
              "      --hover-fill-color: #174EA6;\n",
              "      --disabled-fill-color: #AAA;\n",
              "      --disabled-bg-color: #DDD;\n",
              "  }\n",
              "\n",
              "  [theme=dark] .colab-df-quickchart {\n",
              "      --bg-color: #3B4455;\n",
              "      --fill-color: #D2E3FC;\n",
              "      --hover-bg-color: #434B5C;\n",
              "      --hover-fill-color: #FFFFFF;\n",
              "      --disabled-bg-color: #3B4455;\n",
              "      --disabled-fill-color: #666;\n",
              "  }\n",
              "\n",
              "  .colab-df-quickchart {\n",
              "    background-color: var(--bg-color);\n",
              "    border: none;\n",
              "    border-radius: 50%;\n",
              "    cursor: pointer;\n",
              "    display: none;\n",
              "    fill: var(--fill-color);\n",
              "    height: 32px;\n",
              "    padding: 0;\n",
              "    width: 32px;\n",
              "  }\n",
              "\n",
              "  .colab-df-quickchart:hover {\n",
              "    background-color: var(--hover-bg-color);\n",
              "    box-shadow: 0 1px 2px rgba(60, 64, 67, 0.3), 0 1px 3px 1px rgba(60, 64, 67, 0.15);\n",
              "    fill: var(--button-hover-fill-color);\n",
              "  }\n",
              "\n",
              "  .colab-df-quickchart-complete:disabled,\n",
              "  .colab-df-quickchart-complete:disabled:hover {\n",
              "    background-color: var(--disabled-bg-color);\n",
              "    fill: var(--disabled-fill-color);\n",
              "    box-shadow: none;\n",
              "  }\n",
              "\n",
              "  .colab-df-spinner {\n",
              "    border: 2px solid var(--fill-color);\n",
              "    border-color: transparent;\n",
              "    border-bottom-color: var(--fill-color);\n",
              "    animation:\n",
              "      spin 1s steps(1) infinite;\n",
              "  }\n",
              "\n",
              "  @keyframes spin {\n",
              "    0% {\n",
              "      border-color: transparent;\n",
              "      border-bottom-color: var(--fill-color);\n",
              "      border-left-color: var(--fill-color);\n",
              "    }\n",
              "    20% {\n",
              "      border-color: transparent;\n",
              "      border-left-color: var(--fill-color);\n",
              "      border-top-color: var(--fill-color);\n",
              "    }\n",
              "    30% {\n",
              "      border-color: transparent;\n",
              "      border-left-color: var(--fill-color);\n",
              "      border-top-color: var(--fill-color);\n",
              "      border-right-color: var(--fill-color);\n",
              "    }\n",
              "    40% {\n",
              "      border-color: transparent;\n",
              "      border-right-color: var(--fill-color);\n",
              "      border-top-color: var(--fill-color);\n",
              "    }\n",
              "    60% {\n",
              "      border-color: transparent;\n",
              "      border-right-color: var(--fill-color);\n",
              "    }\n",
              "    80% {\n",
              "      border-color: transparent;\n",
              "      border-right-color: var(--fill-color);\n",
              "      border-bottom-color: var(--fill-color);\n",
              "    }\n",
              "    90% {\n",
              "      border-color: transparent;\n",
              "      border-bottom-color: var(--fill-color);\n",
              "    }\n",
              "  }\n",
              "</style>\n",
              "\n",
              "  <script>\n",
              "    async function quickchart(key) {\n",
              "      const quickchartButtonEl =\n",
              "        document.querySelector('#' + key + ' button');\n",
              "      quickchartButtonEl.disabled = true;  // To prevent multiple clicks.\n",
              "      quickchartButtonEl.classList.add('colab-df-spinner');\n",
              "      try {\n",
              "        const charts = await google.colab.kernel.invokeFunction(\n",
              "            'suggestCharts', [key], {});\n",
              "      } catch (error) {\n",
              "        console.error('Error during call to suggestCharts:', error);\n",
              "      }\n",
              "      quickchartButtonEl.classList.remove('colab-df-spinner');\n",
              "      quickchartButtonEl.classList.add('colab-df-quickchart-complete');\n",
              "    }\n",
              "    (() => {\n",
              "      let quickchartButtonEl =\n",
              "        document.querySelector('#df-3181316b-9845-480b-b8f7-0ef69887a970 button');\n",
              "      quickchartButtonEl.style.display =\n",
              "        google.colab.kernel.accessAllowed ? 'block' : 'none';\n",
              "    })();\n",
              "  </script>\n",
              "</div>\n",
              "\n",
              "    </div>\n",
              "  </div>\n"
            ],
            "application/vnd.google.colaboratory.intrinsic+json": {
              "type": "dataframe",
              "variable_name": "df",
              "summary": "{\n  \"name\": \"df\",\n  \"rows\": 6,\n  \"fields\": [\n    {\n      \"column\": \"pkey\",\n      \"properties\": {\n        \"dtype\": \"number\",\n        \"std\": 1,\n        \"min\": 1,\n        \"max\": 6,\n        \"num_unique_values\": 6,\n        \"samples\": [\n          1,\n          2,\n          6\n        ],\n        \"semantic_type\": \"\",\n        \"description\": \"\"\n      }\n    },\n    {\n      \"column\": \"aTable\",\n      \"properties\": {\n        \"dtype\": \"string\",\n        \"num_unique_values\": 6,\n        \"samples\": [\n          \"Bugs Bunny\",\n          \"Popeye\",\n          \"Tweety\"\n        ],\n        \"semantic_type\": \"\",\n        \"description\": \"\"\n      }\n    },\n    {\n      \"column\": \"bTable\",\n      \"properties\": {\n        \"dtype\": \"string\",\n        \"num_unique_values\": 6,\n        \"samples\": [\n          \"Bugs Bunny\",\n          \"Charlie Brown\",\n          \"Tweety\"\n        ],\n        \"semantic_type\": \"\",\n        \"description\": \"\"\n      }\n    }\n  ]\n}"
            }
          },
          "metadata": {},
          "execution_count": 8
        }
      ],
      "source": [
        "# save output from previous cell and create a dataframe\n",
        "result = _\n",
        "df = result.DataFrame()\n",
        "df.columns = ['pkey', 'aTable', 'bTable']\n",
        "df.head()"
      ]
    },
    {
      "cell_type": "markdown",
      "id": "920a4090",
      "metadata": {
        "id": "920a4090"
      },
      "source": [
        "## LEFT JOIN\n",
        "\n",
        "Return all records from aTable and values that match from bTable. If no match, return null (None)\n",
        "\n",
        "<pre>\n",
        "%%sql\n",
        "SELECT * FROM aTable\n",
        "LEFT JOIN bTable\n",
        "ON aTable.name = bTable.name;\n",
        "</pre>"
      ]
    },
    {
      "cell_type": "code",
      "execution_count": null,
      "id": "87f68321",
      "metadata": {
        "id": "87f68321",
        "colab": {
          "base_uri": "https://localhost:8080/",
          "height": 203
        },
        "outputId": "3429a573-d2fd-4c80-9421-10dd616e3323"
      },
      "outputs": [
        {
          "output_type": "stream",
          "name": "stdout",
          "text": [
            " * sqlite://\n",
            "Done.\n"
          ]
        },
        {
          "output_type": "execute_result",
          "data": {
            "text/plain": [
              "[(1, 'Bugs Bunny', 1, 'Bugs Bunny'),\n",
              " (2, 'Popeye', None, None),\n",
              " (3, 'Daffy Duck', 3, 'Daffy Duck'),\n",
              " (4, 'Mickey Mouse', None, None),\n",
              " (5, 'Minnie Mouse', None, None),\n",
              " (6, 'Tweety', 6, 'Tweety')]"
            ],
            "text/html": [
              "<table>\n",
              "    <thead>\n",
              "        <tr>\n",
              "            <th>pkey</th>\n",
              "            <th>name</th>\n",
              "            <th>pkey_1</th>\n",
              "            <th>name_1</th>\n",
              "        </tr>\n",
              "    </thead>\n",
              "    <tbody>\n",
              "        <tr>\n",
              "            <td>1</td>\n",
              "            <td>Bugs Bunny</td>\n",
              "            <td>1</td>\n",
              "            <td>Bugs Bunny</td>\n",
              "        </tr>\n",
              "        <tr>\n",
              "            <td>2</td>\n",
              "            <td>Popeye</td>\n",
              "            <td>None</td>\n",
              "            <td>None</td>\n",
              "        </tr>\n",
              "        <tr>\n",
              "            <td>3</td>\n",
              "            <td>Daffy Duck</td>\n",
              "            <td>3</td>\n",
              "            <td>Daffy Duck</td>\n",
              "        </tr>\n",
              "        <tr>\n",
              "            <td>4</td>\n",
              "            <td>Mickey Mouse</td>\n",
              "            <td>None</td>\n",
              "            <td>None</td>\n",
              "        </tr>\n",
              "        <tr>\n",
              "            <td>5</td>\n",
              "            <td>Minnie Mouse</td>\n",
              "            <td>None</td>\n",
              "            <td>None</td>\n",
              "        </tr>\n",
              "        <tr>\n",
              "            <td>6</td>\n",
              "            <td>Tweety</td>\n",
              "            <td>6</td>\n",
              "            <td>Tweety</td>\n",
              "        </tr>\n",
              "    </tbody>\n",
              "</table>"
            ]
          },
          "metadata": {},
          "execution_count": 9
        }
      ],
      "source": [
        "# left join\n",
        "%%sql\n",
        "SELECT * FROM aTable\n",
        "LEFT JOIN bTable\n",
        "ON aTable.name = bTable.name;"
      ]
    },
    {
      "cell_type": "markdown",
      "id": "3f68c88f",
      "metadata": {
        "id": "3f68c88f"
      },
      "source": [
        "## LEFT JOIN WHERE\n",
        "\n",
        "Return records from aTable and bTable based on some where condition\n",
        "\n",
        "<pre>\n",
        "%%sql\n",
        "SELECT * FROM aTable\n",
        "LEFT JOIN bTable\n",
        "ON aTable.name = bTable.name\n",
        "WHERE bTable.pkey IS not null;\n",
        "</pre>"
      ]
    },
    {
      "cell_type": "code",
      "execution_count": null,
      "id": "1eb7f7e3",
      "metadata": {
        "id": "1eb7f7e3",
        "colab": {
          "base_uri": "https://localhost:8080/",
          "height": 139
        },
        "outputId": "4cd0195a-55c6-41ba-93eb-66e30063c5ea"
      },
      "outputs": [
        {
          "output_type": "stream",
          "name": "stdout",
          "text": [
            " * sqlite://\n",
            "Done.\n"
          ]
        },
        {
          "output_type": "execute_result",
          "data": {
            "text/plain": [
              "[(1, 'Bugs Bunny', 1, 'Bugs Bunny'),\n",
              " (3, 'Daffy Duck', 3, 'Daffy Duck'),\n",
              " (6, 'Tweety', 6, 'Tweety')]"
            ],
            "text/html": [
              "<table>\n",
              "    <thead>\n",
              "        <tr>\n",
              "            <th>pkey</th>\n",
              "            <th>name</th>\n",
              "            <th>pkey_1</th>\n",
              "            <th>name_1</th>\n",
              "        </tr>\n",
              "    </thead>\n",
              "    <tbody>\n",
              "        <tr>\n",
              "            <td>1</td>\n",
              "            <td>Bugs Bunny</td>\n",
              "            <td>1</td>\n",
              "            <td>Bugs Bunny</td>\n",
              "        </tr>\n",
              "        <tr>\n",
              "            <td>3</td>\n",
              "            <td>Daffy Duck</td>\n",
              "            <td>3</td>\n",
              "            <td>Daffy Duck</td>\n",
              "        </tr>\n",
              "        <tr>\n",
              "            <td>6</td>\n",
              "            <td>Tweety</td>\n",
              "            <td>6</td>\n",
              "            <td>Tweety</td>\n",
              "        </tr>\n",
              "    </tbody>\n",
              "</table>"
            ]
          },
          "metadata": {},
          "execution_count": 11
        }
      ],
      "source": [
        "# left join where\n",
        "%%sql\n",
        "SELECT * FROM aTable\n",
        "LEFT JOIN bTable\n",
        "ON aTable.name = bTable.name\n",
        "WHERE bTable.pkey is not null;"
      ]
    },
    {
      "cell_type": "markdown",
      "id": "f669bdc0",
      "metadata": {
        "id": "f669bdc0"
      },
      "source": [
        "## INNER JOIN\n",
        "\n",
        "Returns the set of records that match in both aTable and bTable\n",
        "\n",
        "<pre>\n",
        "%%sql\n",
        "SELECT * FROM aTable\n",
        "INNER JOIN bTable\n",
        "ON aTable.name = bTable.name;\n",
        "</pre>"
      ]
    },
    {
      "cell_type": "code",
      "execution_count": null,
      "id": "645f8ce1",
      "metadata": {
        "id": "645f8ce1",
        "colab": {
          "base_uri": "https://localhost:8080/",
          "height": 139
        },
        "outputId": "cac683f1-9fa0-48de-aa62-ff5b04b059ee"
      },
      "outputs": [
        {
          "output_type": "stream",
          "name": "stdout",
          "text": [
            " * sqlite://\n",
            "Done.\n"
          ]
        },
        {
          "output_type": "execute_result",
          "data": {
            "text/plain": [
              "[(1, 'Bugs Bunny', 1, 'Bugs Bunny'),\n",
              " (3, 'Daffy Duck', 3, 'Daffy Duck'),\n",
              " (6, 'Tweety', 6, 'Tweety')]"
            ],
            "text/html": [
              "<table>\n",
              "    <thead>\n",
              "        <tr>\n",
              "            <th>pkey</th>\n",
              "            <th>name</th>\n",
              "            <th>pkey_1</th>\n",
              "            <th>name_1</th>\n",
              "        </tr>\n",
              "    </thead>\n",
              "    <tbody>\n",
              "        <tr>\n",
              "            <td>1</td>\n",
              "            <td>Bugs Bunny</td>\n",
              "            <td>1</td>\n",
              "            <td>Bugs Bunny</td>\n",
              "        </tr>\n",
              "        <tr>\n",
              "            <td>3</td>\n",
              "            <td>Daffy Duck</td>\n",
              "            <td>3</td>\n",
              "            <td>Daffy Duck</td>\n",
              "        </tr>\n",
              "        <tr>\n",
              "            <td>6</td>\n",
              "            <td>Tweety</td>\n",
              "            <td>6</td>\n",
              "            <td>Tweety</td>\n",
              "        </tr>\n",
              "    </tbody>\n",
              "</table>"
            ]
          },
          "metadata": {},
          "execution_count": 12
        }
      ],
      "source": [
        "# inner join\n",
        "%%sql\n",
        "SELECT * FROM aTable\n",
        "INNER JOIN bTable\n",
        "ON aTable.name = bTable.name;"
      ]
    },
    {
      "cell_type": "markdown",
      "id": "1323cd9d",
      "metadata": {
        "id": "1323cd9d"
      },
      "source": [
        "## Using Aliases\n",
        "\n",
        "<pre>\n",
        "%%sql\n",
        "SELECT a.pkey, a.name FROM aTable a, btable b WHERE a.name = b.name;\n",
        "</pre>"
      ]
    },
    {
      "cell_type": "code",
      "execution_count": null,
      "id": "8a4f8d30",
      "metadata": {
        "id": "8a4f8d30",
        "colab": {
          "base_uri": "https://localhost:8080/",
          "height": 139
        },
        "outputId": "43d598c8-fb2d-4a30-a1d0-f0d356b4001f"
      },
      "outputs": [
        {
          "output_type": "stream",
          "name": "stdout",
          "text": [
            " * sqlite://\n",
            "Done.\n"
          ]
        },
        {
          "output_type": "execute_result",
          "data": {
            "text/plain": [
              "[(1, 'Bugs Bunny', 'Bugs Bunny'),\n",
              " (3, 'Daffy Duck', 'Daffy Duck'),\n",
              " (6, 'Tweety', 'Tweety')]"
            ],
            "text/html": [
              "<table>\n",
              "    <thead>\n",
              "        <tr>\n",
              "            <th>pkey</th>\n",
              "            <th>aName</th>\n",
              "            <th>bName</th>\n",
              "        </tr>\n",
              "    </thead>\n",
              "    <tbody>\n",
              "        <tr>\n",
              "            <td>1</td>\n",
              "            <td>Bugs Bunny</td>\n",
              "            <td>Bugs Bunny</td>\n",
              "        </tr>\n",
              "        <tr>\n",
              "            <td>3</td>\n",
              "            <td>Daffy Duck</td>\n",
              "            <td>Daffy Duck</td>\n",
              "        </tr>\n",
              "        <tr>\n",
              "            <td>6</td>\n",
              "            <td>Tweety</td>\n",
              "            <td>Tweety</td>\n",
              "        </tr>\n",
              "    </tbody>\n",
              "</table>"
            ]
          },
          "metadata": {},
          "execution_count": 14
        }
      ],
      "source": [
        "# use alias\n",
        "%%sql\n",
        "SELECT a.pkey, a.name as aName, b.name as bName FROM aTable a, bTable b WHERE a.name = b.name;"
      ]
    },
    {
      "cell_type": "markdown",
      "source": [
        "<pre>\n",
        "%%sql\n",
        "SELECT a.pkey, a.name FROM aTable a, btable b WHERE a.pkey = b.pkey and b.pkey = 1;\n",
        "</pre>"
      ],
      "metadata": {
        "id": "JG11R_JNcWn-"
      },
      "id": "JG11R_JNcWn-"
    },
    {
      "cell_type": "code",
      "execution_count": null,
      "id": "6a6e0c7e",
      "metadata": {
        "id": "6a6e0c7e",
        "colab": {
          "base_uri": "https://localhost:8080/",
          "height": 96
        },
        "outputId": "d4172c54-23dd-404e-a042-aacb8c74fbe7"
      },
      "outputs": [
        {
          "output_type": "stream",
          "name": "stdout",
          "text": [
            " * sqlite://\n",
            "Done.\n"
          ]
        },
        {
          "output_type": "execute_result",
          "data": {
            "text/plain": [
              "[(1, 'Bugs Bunny')]"
            ],
            "text/html": [
              "<table>\n",
              "    <thead>\n",
              "        <tr>\n",
              "            <th>pkey</th>\n",
              "            <th>name</th>\n",
              "        </tr>\n",
              "    </thead>\n",
              "    <tbody>\n",
              "        <tr>\n",
              "            <td>1</td>\n",
              "            <td>Bugs Bunny</td>\n",
              "        </tr>\n",
              "    </tbody>\n",
              "</table>"
            ]
          },
          "metadata": {},
          "execution_count": 16
        }
      ],
      "source": [
        "# select with alias where\n",
        "%%sql\n",
        "select a.pkey, a.name\n",
        "from aTable a, bTable b\n",
        "where a.pkey = b.pkey\n",
        "and b.pkey = 1;"
      ]
    },
    {
      "cell_type": "markdown",
      "source": [
        "## SQLite 3"
      ],
      "metadata": {
        "id": "Xro5BTYDO2vy"
      },
      "id": "Xro5BTYDO2vy"
    },
    {
      "cell_type": "code",
      "execution_count": null,
      "id": "c10ff68f",
      "metadata": {
        "id": "c10ff68f"
      },
      "outputs": [],
      "source": [
        "import sqlite3\n",
        "\n",
        "connection = sqlite3.connect('looneylms.db') # sqlite will create looneylms.db if it doesn't exist,\n",
        "                                             # a .db file now exists\n",
        "cursor = connection.cursor()"
      ]
    },
    {
      "cell_type": "code",
      "execution_count": null,
      "id": "70958a29",
      "metadata": {
        "id": "70958a29"
      },
      "outputs": [],
      "source": [
        "# multiline strings in Python can be sorrounded with ''' Multi line text '''\n",
        "query = '''\n",
        "CREATE TABLE IF NOT EXISTS people (\n",
        "    id INTEGER PRIMARY KEY,\n",
        "    firstname TEXT,\n",
        "    lastname TEXT,\n",
        "    year INTEGER\n",
        ")\n",
        "'''\n",
        "cursor.execute(query)"
      ]
    },
    {
      "cell_type": "code",
      "execution_count": null,
      "id": "d35beb25",
      "metadata": {
        "id": "d35beb25"
      },
      "outputs": [],
      "source": [
        "# populate people table\n",
        "cursor.execute(\"INSERT INTO people(firstname, lastname, year) VALUES ('Bugs', 'Bunny', 1)\")\n",
        "cursor.execute(\"INSERT INTO people(firstname, lastname, year) VALUES ('Fifi', 'La Fume', 3)\")\n",
        "cursor.execute(\"INSERT INTO people(firstname, lastname, year) VALUES ('Daffy', 'Duck', 2)\")\n",
        "cursor.execute(\"INSERT INTO people(firstname, lastname, year) VALUES ('Foghorn', 'Leghorn', 1)\")\n",
        "cursor.execute(\"INSERT INTO people(firstname, lastname, year) VALUES ('Tweety', 'Bird', 4)\")\n",
        "cursor.execute(\"INSERT INTO people(firstname, lastname, year) VALUES ('Porky', 'Pig', 4)\")"
      ]
    },
    {
      "cell_type": "code",
      "execution_count": null,
      "id": "3882f9e7",
      "metadata": {
        "id": "3882f9e7"
      },
      "outputs": [],
      "source": [
        "rows = cursor.execute(\"SELECT * FROM people\").fetchall()\n",
        "print(rows)"
      ]
    },
    {
      "cell_type": "code",
      "execution_count": null,
      "id": "4e8e480d",
      "metadata": {
        "id": "4e8e480d"
      },
      "outputs": [],
      "source": [
        "query = '''\n",
        "CREATE TABLE IF NOT EXISTS quizzes (\n",
        "    id INTEGER PRIMARY KEY,\n",
        "    quizname TEXT,\n",
        "    description TEXT\n",
        ")\n",
        "'''\n",
        "cursor.execute(query)"
      ]
    },
    {
      "cell_type": "code",
      "execution_count": null,
      "id": "986ed5e1",
      "metadata": {
        "id": "986ed5e1"
      },
      "outputs": [],
      "source": [
        "cursor.execute(\"INSERT INTO quizzes(quizname, description) VALUES ('Looney', 'quiz about laughing')\")\n",
        "cursor.execute(\"INSERT INTO quizzes(quizname, description) VALUES ('Tune', 'quiz about tunes')\")"
      ]
    },
    {
      "cell_type": "code",
      "execution_count": null,
      "id": "ee689b39",
      "metadata": {
        "id": "ee689b39"
      },
      "outputs": [],
      "source": [
        "rows = cursor.execute(\"SELECT * FROM quizzes\").fetchall()\n",
        "print(rows)"
      ]
    },
    {
      "cell_type": "code",
      "execution_count": null,
      "id": "ff30dc4f",
      "metadata": {
        "id": "ff30dc4f"
      },
      "outputs": [],
      "source": [
        "query = '''\n",
        "CREATE TABLE IF NOT EXISTS quiz_details (\n",
        "    id INTEGER PRIMARY KEY,\n",
        "    quizzes_id INTEGER,\n",
        "    items INTEGER,\n",
        "    FOREIGN KEY (quizzes_id)\n",
        "      REFERENCES quizzes (id)\n",
        "         ON DELETE NO ACTION\n",
        "         ON UPDATE CASCADE\n",
        ")\n",
        "'''\n",
        "cursor.execute(query)"
      ]
    },
    {
      "cell_type": "code",
      "execution_count": null,
      "id": "bb74e7a9",
      "metadata": {
        "id": "bb74e7a9"
      },
      "outputs": [],
      "source": [
        "cursor.execute(\"INSERT INTO quiz_details(quizzes_id, items) VALUES (1, 10)\")\n",
        "cursor.execute(\"INSERT INTO quiz_details(quizzes_id, items) VALUES (2, 10)\")"
      ]
    },
    {
      "cell_type": "code",
      "execution_count": null,
      "id": "48fd3927",
      "metadata": {
        "id": "48fd3927"
      },
      "outputs": [],
      "source": [
        "rows = cursor.execute(\"SELECT * FROM quiz_details\").fetchall()\n",
        "print(rows)"
      ]
    },
    {
      "cell_type": "code",
      "execution_count": null,
      "id": "2c96e5e9",
      "metadata": {
        "id": "2c96e5e9"
      },
      "outputs": [],
      "source": [
        "query = '''\n",
        "CREATE TABLE IF NOT EXISTS quiz_results (\n",
        "    id INTEGER PRIMARY KEY,\n",
        "    quizzes_id INTEGER,\n",
        "    people_id INTEGER,\n",
        "    score INTEGER,\n",
        "    FOREIGN KEY (people_id)\n",
        "      REFERENCES people (id)\n",
        "         ON DELETE NO ACTION\n",
        "         ON UPDATE CASCADE,\n",
        "    FOREIGN KEY (quizzes_id)\n",
        "      REFERENCES quizzes (id)\n",
        "         ON DELETE NO ACTION\n",
        "         ON UPDATE CASCADE\n",
        ")\n",
        "'''\n",
        "cursor.execute(query)"
      ]
    },
    {
      "cell_type": "code",
      "execution_count": null,
      "id": "ccee6f24",
      "metadata": {
        "id": "ccee6f24"
      },
      "outputs": [],
      "source": [
        "cursor.execute(\"INSERT INTO quiz_results(quizzes_id, people_id, score) VALUES (1, 3, 7)\")\n",
        "cursor.execute(\"INSERT INTO quiz_results(quizzes_id, people_id, score) VALUES (2, 5, 8)\")\n",
        "cursor.execute(\"INSERT INTO quiz_results(quizzes_id, people_id, score) VALUES (2, 1, 9)\")\n",
        "cursor.execute(\"INSERT INTO quiz_results(quizzes_id, people_id, score) VALUES (1, 4, 8)\")\n",
        "cursor.execute(\"INSERT INTO quiz_results(quizzes_id, people_id, score) VALUES (2, 3, 7)\")\n",
        "cursor.execute(\"INSERT INTO quiz_results(quizzes_id, people_id, score) VALUES (1, 2, 8)\")"
      ]
    },
    {
      "cell_type": "code",
      "execution_count": null,
      "id": "1dadffc5",
      "metadata": {
        "id": "1dadffc5"
      },
      "outputs": [],
      "source": [
        "rows = cursor.execute(\"SELECT * FROM quiz_results\").fetchall()\n",
        "print(rows)"
      ]
    },
    {
      "cell_type": "code",
      "execution_count": null,
      "id": "c4771eeb",
      "metadata": {
        "id": "c4771eeb"
      },
      "outputs": [],
      "source": [
        "query = '''\n",
        "UPDATE people\n",
        "SET id = 7\n",
        "WHERE firstname = 'Daffy';\n",
        "'''\n",
        "cursor.execute(query)\n",
        "rows = cursor.execute(\"SELECT * FROM people\").fetchall()\n",
        "print(rows)"
      ]
    },
    {
      "cell_type": "code",
      "execution_count": null,
      "id": "d1e3591e",
      "metadata": {
        "id": "d1e3591e"
      },
      "outputs": [],
      "source": [
        "cursor.execute(query)\n",
        "rows = cursor.execute(\"SELECT * FROM quiz_results\").fetchall()\n",
        "print(rows)"
      ]
    },
    {
      "cell_type": "markdown",
      "id": "fd5603e9",
      "metadata": {
        "id": "fd5603e9"
      },
      "source": [
        "## Views"
      ]
    },
    {
      "cell_type": "code",
      "execution_count": null,
      "id": "6500833b",
      "metadata": {
        "id": "6500833b"
      },
      "outputs": [],
      "source": [
        "query = '''\n",
        "SELECT\n",
        "    quizzes.quizname as quiz,\n",
        "    people.firstname as firstname,\n",
        "    people.lastname as lastname,\n",
        "    quiz_results.score as score,\n",
        "    people.year as year\n",
        "FROM\n",
        "    quiz_results\n",
        "INNER JOIN people ON people.id = quiz_results.people_id\n",
        "INNER JOIN quizzes ON quizzes.id = quiz_results.quizzes_id\n",
        "ORDER BY quizzes.id;\n",
        "'''\n",
        "results = cursor.execute(query).fetchall()\n",
        "for r in results:\n",
        "    print(r)"
      ]
    },
    {
      "cell_type": "code",
      "execution_count": null,
      "id": "05906aa3",
      "metadata": {
        "id": "05906aa3"
      },
      "outputs": [],
      "source": [
        "query = '''\n",
        "CREATE VIEW quiz_takers\n",
        "AS\n",
        "SELECT\n",
        "    quizzes.quizname as quiz,\n",
        "    people.firstname as firstname,\n",
        "    people.lastname as lastname,\n",
        "    quiz_results.score as score,\n",
        "    people.year as year\n",
        "FROM\n",
        "    quiz_results\n",
        "INNER JOIN people ON people.id = quiz_results.people_id\n",
        "INNER JOIN quizzes ON quizzes.id = quiz_results.quizzes_id\n",
        "ORDER BY quizzes.id;\n",
        "'''\n",
        "cursor.execute(query)"
      ]
    },
    {
      "cell_type": "code",
      "execution_count": null,
      "id": "4a5ba6e6",
      "metadata": {
        "id": "4a5ba6e6"
      },
      "outputs": [],
      "source": [
        "rows = cursor.execute(\"SELECT * FROM quiz_takers\").fetchall()\n",
        "for r in rows:\n",
        "    print(r)"
      ]
    },
    {
      "cell_type": "markdown",
      "id": "0b5d301d",
      "metadata": {
        "id": "0b5d301d"
      },
      "source": [
        "## Using Pandas"
      ]
    },
    {
      "cell_type": "code",
      "execution_count": null,
      "id": "6eb400be",
      "metadata": {
        "id": "6eb400be"
      },
      "outputs": [],
      "source": [
        "# https://datacarpentry.org/python-ecology-lesson/09-working-with-sql/index.html\n",
        "import pandas as pd\n",
        "\n",
        "df = pd.read_sql_query(\"SELECT * FROM quiz_takers\", connection)\n",
        "print(df.head())"
      ]
    },
    {
      "cell_type": "code",
      "execution_count": null,
      "id": "1a341351",
      "metadata": {
        "id": "1a341351"
      },
      "outputs": [],
      "source": [
        "from contextlib import closing\n",
        "\n",
        "with closing(sqlite3.connect(\"looneylms.db\")) as connection:\n",
        "    with closing(connection.cursor()) as cursor:\n",
        "        rows = cursor.execute(\"SELECT 1\").fetchall()\n",
        "        print(rows)"
      ]
    },
    {
      "cell_type": "markdown",
      "id": "03d4add0",
      "metadata": {
        "id": "03d4add0"
      },
      "source": [
        "Start completely over\n",
        "\n",
        "* Kernel Restart and clear output\n",
        "* Delete looneylms.db\n",
        "* Kernel Restart and run all"
      ]
    },
    {
      "cell_type": "markdown",
      "id": "c6b2bafc",
      "metadata": {
        "id": "c6b2bafc"
      },
      "source": [
        "## SQLAlchemy\n",
        "\n",
        "* SQLAlchemy provides a nice “Pythonic” way of interacting with databases. So rather than dealing with the differences between specific dialects of traditional SQL such as MySQL or PostgreSQL or Oracle, you can leverage the Pythonic framework of SQLAlchemy to streamline your workflow and more efficiently query your data.\n",
        "\n",
        "https://towardsdatascience.com/sqlalchemy-python-tutorial-79a577141a91\n",
        "\n",
        "## ORM\n",
        "\n",
        "* ORM (Object Relational Mapping) is a programming technique for converting data between incompatible type systems in object-oriented programming languages. Usually, the type system used in an Object Oriented (OO) language like Python contains non-scalar types. These cannot be expressed as primitive types such as integers and strings. Hence, the OO programmer has to convert objects in scalar data to interact with backend database. However, data types in most of the database products such as Oracle, MySQL, etc., are primary. In an ORM system, each class maps to a table in the underlying database. Instead of writing tedious database interfacing code yourself, an ORM takes care of these issues for you while you can focus on programming the logics of the system.\n",
        "\n",
        "https://www.tutorialspoint.com/sqlalchemy/sqlalchemy_introduction.htm"
      ]
    },
    {
      "cell_type": "code",
      "execution_count": null,
      "id": "d3461a5c",
      "metadata": {
        "id": "d3461a5c"
      },
      "outputs": [],
      "source": [
        "# pip install sqlalchemy"
      ]
    },
    {
      "cell_type": "code",
      "execution_count": null,
      "id": "ad6921a8",
      "metadata": {
        "id": "ad6921a8"
      },
      "outputs": [],
      "source": [
        "# how to connect to different databases https://www.tutorialspoint.com/sqlalchemy/sqlalchemy_core_connecting_to_database.htm\n",
        "import pandas as pd\n",
        "import sqlalchemy as db\n",
        "from sqlalchemy.sql import select\n",
        "\n",
        "print(db.__version__)\n",
        "\n",
        "engine = db.create_engine('sqlite:///looneyalchemy.db') # creates a new database\n",
        "connection = engine.connect()\n",
        "metadata = db.MetaData()\n",
        "\n",
        "# define people table\n",
        "people = db.Table('people', metadata,\n",
        "              db.Column('Id', db.Integer(), primary_key=True),\n",
        "              db.Column('firstname', db.String(255)),\n",
        "              db.Column('lastname', db.String(255)),\n",
        "              db.Column('year', db.Integer())\n",
        "              )\n",
        "\n",
        "# create table\n",
        "metadata.create_all(engine)\n",
        "\n",
        "# insert data\n",
        "query = db.insert(people).values(Id=1, firstname='Bugs', lastname='Bunny', year=4).prefix_with(\"OR IGNORE\")\n",
        "connection.execute(query)\n",
        "\n",
        "query = db.insert(people).prefix_with(\"OR IGNORE\")\n",
        "values_list = [{'Id':'2', 'firstname': 'Tweety', 'lastname': 'Bird', 'year': 3},\n",
        "               {'Id':'3', 'firstname': 'Daffy', 'lastname': 'Duck', 'year': 4}]\n",
        "connection.execute(query, values_list)\n",
        "\n",
        "\n",
        "metadata = db.MetaData()\n",
        "people = db.Table('people', metadata, autoload=True, autoload_with=engine)\n",
        "\n",
        "print('column keys:', people.columns.keys())\n",
        "print()\n",
        "print(repr(metadata.tables['people']))\n",
        "\n",
        "# select * from people\n",
        "query = db.select([people])\n",
        "result = connection.execute(query)\n",
        "rows = result.fetchall()\n",
        "df = pd.DataFrame(rows)\n",
        "df.columns = people.columns.keys()\n",
        "print()\n",
        "print(df.head())"
      ]
    }
  ],
  "metadata": {
    "kernelspec": {
      "display_name": "Python 3 (ipykernel)",
      "language": "python",
      "name": "python3"
    },
    "language_info": {
      "codemirror_mode": {
        "name": "ipython",
        "version": 3
      },
      "file_extension": ".py",
      "mimetype": "text/x-python",
      "name": "python",
      "nbconvert_exporter": "python",
      "pygments_lexer": "ipython3",
      "version": "3.9.7"
    },
    "colab": {
      "provenance": [],
      "include_colab_link": true
    }
  },
  "nbformat": 4,
  "nbformat_minor": 5
}