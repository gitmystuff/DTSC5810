{
  "cells": [
    {
      "cell_type": "markdown",
      "metadata": {
        "id": "view-in-github",
        "colab_type": "text"
      },
      "source": [
        "<a href=\"https://colab.research.google.com/github/gitmystuff/DTSC5810/blob/main/Week_07-Predictive_Analytics/Using_Models_and_Pipelines.ipynb\" target=\"_parent\"><img src=\"https://colab.research.google.com/assets/colab-badge.svg\" alt=\"Open In Colab\"/></a>"
      ]
    },
    {
      "cell_type": "markdown",
      "id": "1447dd83",
      "metadata": {
        "id": "1447dd83"
      },
      "source": [
        "# Using Models and Pipelines\n",
        "\n",
        "https://aws.amazon.com/compare/the-difference-between-linear-regression-and-logistic-regression/\n",
        "\n"
      ]
    },
    {
      "cell_type": "markdown",
      "source": [
        "## Linear Regression\n",
        "\n",
        "$y = \\beta_0 + \\beta_1 x_1 + \\beta_2 x_2 ... + \\beta_n x_n + \\epsilon$\n",
        "\n",
        "where:\n",
        "* y = dependent variable\n",
        "* x = explanatory  variable\n",
        "* $\\beta_0$ = intercept\n",
        "* $\\beta_n$ = slope coefficients\n",
        "* $\\epsilon$ = the model's error term"
      ],
      "metadata": {
        "id": "G6zJqW0UDgLb"
      },
      "id": "G6zJqW0UDgLb"
    },
    {
      "cell_type": "code",
      "execution_count": 1,
      "id": "1521fe97",
      "metadata": {
        "id": "1521fe97",
        "outputId": "99d97edc-d8aa-47c8-bba1-546e814e134a",
        "colab": {
          "base_uri": "https://localhost:8080/",
          "height": 442
        }
      },
      "outputs": [
        {
          "output_type": "stream",
          "name": "stdout",
          "text": [
            "(200, 4)\n",
            "<class 'pandas.core.frame.DataFrame'>\n",
            "RangeIndex: 200 entries, 0 to 199\n",
            "Data columns (total 4 columns):\n",
            " #   Column     Non-Null Count  Dtype  \n",
            "---  ------     --------------  -----  \n",
            " 0   TV         200 non-null    float64\n",
            " 1   radio      200 non-null    float64\n",
            " 2   newspaper  200 non-null    float64\n",
            " 3   sales      200 non-null    float64\n",
            "dtypes: float64(4)\n",
            "memory usage: 6.4 KB\n",
            "None\n"
          ]
        },
        {
          "output_type": "execute_result",
          "data": {
            "text/plain": [
              "      TV  radio  newspaper  sales\n",
              "0  230.1   37.8       69.2   22.1\n",
              "1   44.5   39.3       45.1   10.4\n",
              "2   17.2   45.9       69.3    9.3\n",
              "3  151.5   41.3       58.5   18.5\n",
              "4  180.8   10.8       58.4   12.9"
            ],
            "text/html": [
              "\n",
              "  <div id=\"df-77c0469c-e20f-4f97-a266-8d596fdf740b\" class=\"colab-df-container\">\n",
              "    <div>\n",
              "<style scoped>\n",
              "    .dataframe tbody tr th:only-of-type {\n",
              "        vertical-align: middle;\n",
              "    }\n",
              "\n",
              "    .dataframe tbody tr th {\n",
              "        vertical-align: top;\n",
              "    }\n",
              "\n",
              "    .dataframe thead th {\n",
              "        text-align: right;\n",
              "    }\n",
              "</style>\n",
              "<table border=\"1\" class=\"dataframe\">\n",
              "  <thead>\n",
              "    <tr style=\"text-align: right;\">\n",
              "      <th></th>\n",
              "      <th>TV</th>\n",
              "      <th>radio</th>\n",
              "      <th>newspaper</th>\n",
              "      <th>sales</th>\n",
              "    </tr>\n",
              "  </thead>\n",
              "  <tbody>\n",
              "    <tr>\n",
              "      <th>0</th>\n",
              "      <td>230.1</td>\n",
              "      <td>37.8</td>\n",
              "      <td>69.2</td>\n",
              "      <td>22.1</td>\n",
              "    </tr>\n",
              "    <tr>\n",
              "      <th>1</th>\n",
              "      <td>44.5</td>\n",
              "      <td>39.3</td>\n",
              "      <td>45.1</td>\n",
              "      <td>10.4</td>\n",
              "    </tr>\n",
              "    <tr>\n",
              "      <th>2</th>\n",
              "      <td>17.2</td>\n",
              "      <td>45.9</td>\n",
              "      <td>69.3</td>\n",
              "      <td>9.3</td>\n",
              "    </tr>\n",
              "    <tr>\n",
              "      <th>3</th>\n",
              "      <td>151.5</td>\n",
              "      <td>41.3</td>\n",
              "      <td>58.5</td>\n",
              "      <td>18.5</td>\n",
              "    </tr>\n",
              "    <tr>\n",
              "      <th>4</th>\n",
              "      <td>180.8</td>\n",
              "      <td>10.8</td>\n",
              "      <td>58.4</td>\n",
              "      <td>12.9</td>\n",
              "    </tr>\n",
              "  </tbody>\n",
              "</table>\n",
              "</div>\n",
              "    <div class=\"colab-df-buttons\">\n",
              "\n",
              "  <div class=\"colab-df-container\">\n",
              "    <button class=\"colab-df-convert\" onclick=\"convertToInteractive('df-77c0469c-e20f-4f97-a266-8d596fdf740b')\"\n",
              "            title=\"Convert this dataframe to an interactive table.\"\n",
              "            style=\"display:none;\">\n",
              "\n",
              "  <svg xmlns=\"http://www.w3.org/2000/svg\" height=\"24px\" viewBox=\"0 -960 960 960\">\n",
              "    <path d=\"M120-120v-720h720v720H120Zm60-500h600v-160H180v160Zm220 220h160v-160H400v160Zm0 220h160v-160H400v160ZM180-400h160v-160H180v160Zm440 0h160v-160H620v160ZM180-180h160v-160H180v160Zm440 0h160v-160H620v160Z\"/>\n",
              "  </svg>\n",
              "    </button>\n",
              "\n",
              "  <style>\n",
              "    .colab-df-container {\n",
              "      display:flex;\n",
              "      gap: 12px;\n",
              "    }\n",
              "\n",
              "    .colab-df-convert {\n",
              "      background-color: #E8F0FE;\n",
              "      border: none;\n",
              "      border-radius: 50%;\n",
              "      cursor: pointer;\n",
              "      display: none;\n",
              "      fill: #1967D2;\n",
              "      height: 32px;\n",
              "      padding: 0 0 0 0;\n",
              "      width: 32px;\n",
              "    }\n",
              "\n",
              "    .colab-df-convert:hover {\n",
              "      background-color: #E2EBFA;\n",
              "      box-shadow: 0px 1px 2px rgba(60, 64, 67, 0.3), 0px 1px 3px 1px rgba(60, 64, 67, 0.15);\n",
              "      fill: #174EA6;\n",
              "    }\n",
              "\n",
              "    .colab-df-buttons div {\n",
              "      margin-bottom: 4px;\n",
              "    }\n",
              "\n",
              "    [theme=dark] .colab-df-convert {\n",
              "      background-color: #3B4455;\n",
              "      fill: #D2E3FC;\n",
              "    }\n",
              "\n",
              "    [theme=dark] .colab-df-convert:hover {\n",
              "      background-color: #434B5C;\n",
              "      box-shadow: 0px 1px 3px 1px rgba(0, 0, 0, 0.15);\n",
              "      filter: drop-shadow(0px 1px 2px rgba(0, 0, 0, 0.3));\n",
              "      fill: #FFFFFF;\n",
              "    }\n",
              "  </style>\n",
              "\n",
              "    <script>\n",
              "      const buttonEl =\n",
              "        document.querySelector('#df-77c0469c-e20f-4f97-a266-8d596fdf740b button.colab-df-convert');\n",
              "      buttonEl.style.display =\n",
              "        google.colab.kernel.accessAllowed ? 'block' : 'none';\n",
              "\n",
              "      async function convertToInteractive(key) {\n",
              "        const element = document.querySelector('#df-77c0469c-e20f-4f97-a266-8d596fdf740b');\n",
              "        const dataTable =\n",
              "          await google.colab.kernel.invokeFunction('convertToInteractive',\n",
              "                                                    [key], {});\n",
              "        if (!dataTable) return;\n",
              "\n",
              "        const docLinkHtml = 'Like what you see? Visit the ' +\n",
              "          '<a target=\"_blank\" href=https://colab.research.google.com/notebooks/data_table.ipynb>data table notebook</a>'\n",
              "          + ' to learn more about interactive tables.';\n",
              "        element.innerHTML = '';\n",
              "        dataTable['output_type'] = 'display_data';\n",
              "        await google.colab.output.renderOutput(dataTable, element);\n",
              "        const docLink = document.createElement('div');\n",
              "        docLink.innerHTML = docLinkHtml;\n",
              "        element.appendChild(docLink);\n",
              "      }\n",
              "    </script>\n",
              "  </div>\n",
              "\n",
              "\n",
              "<div id=\"df-ed568317-c0ee-429a-9cbf-92d4bb224fa3\">\n",
              "  <button class=\"colab-df-quickchart\" onclick=\"quickchart('df-ed568317-c0ee-429a-9cbf-92d4bb224fa3')\"\n",
              "            title=\"Suggest charts\"\n",
              "            style=\"display:none;\">\n",
              "\n",
              "<svg xmlns=\"http://www.w3.org/2000/svg\" height=\"24px\"viewBox=\"0 0 24 24\"\n",
              "     width=\"24px\">\n",
              "    <g>\n",
              "        <path d=\"M19 3H5c-1.1 0-2 .9-2 2v14c0 1.1.9 2 2 2h14c1.1 0 2-.9 2-2V5c0-1.1-.9-2-2-2zM9 17H7v-7h2v7zm4 0h-2V7h2v10zm4 0h-2v-4h2v4z\"/>\n",
              "    </g>\n",
              "</svg>\n",
              "  </button>\n",
              "\n",
              "<style>\n",
              "  .colab-df-quickchart {\n",
              "      --bg-color: #E8F0FE;\n",
              "      --fill-color: #1967D2;\n",
              "      --hover-bg-color: #E2EBFA;\n",
              "      --hover-fill-color: #174EA6;\n",
              "      --disabled-fill-color: #AAA;\n",
              "      --disabled-bg-color: #DDD;\n",
              "  }\n",
              "\n",
              "  [theme=dark] .colab-df-quickchart {\n",
              "      --bg-color: #3B4455;\n",
              "      --fill-color: #D2E3FC;\n",
              "      --hover-bg-color: #434B5C;\n",
              "      --hover-fill-color: #FFFFFF;\n",
              "      --disabled-bg-color: #3B4455;\n",
              "      --disabled-fill-color: #666;\n",
              "  }\n",
              "\n",
              "  .colab-df-quickchart {\n",
              "    background-color: var(--bg-color);\n",
              "    border: none;\n",
              "    border-radius: 50%;\n",
              "    cursor: pointer;\n",
              "    display: none;\n",
              "    fill: var(--fill-color);\n",
              "    height: 32px;\n",
              "    padding: 0;\n",
              "    width: 32px;\n",
              "  }\n",
              "\n",
              "  .colab-df-quickchart:hover {\n",
              "    background-color: var(--hover-bg-color);\n",
              "    box-shadow: 0 1px 2px rgba(60, 64, 67, 0.3), 0 1px 3px 1px rgba(60, 64, 67, 0.15);\n",
              "    fill: var(--button-hover-fill-color);\n",
              "  }\n",
              "\n",
              "  .colab-df-quickchart-complete:disabled,\n",
              "  .colab-df-quickchart-complete:disabled:hover {\n",
              "    background-color: var(--disabled-bg-color);\n",
              "    fill: var(--disabled-fill-color);\n",
              "    box-shadow: none;\n",
              "  }\n",
              "\n",
              "  .colab-df-spinner {\n",
              "    border: 2px solid var(--fill-color);\n",
              "    border-color: transparent;\n",
              "    border-bottom-color: var(--fill-color);\n",
              "    animation:\n",
              "      spin 1s steps(1) infinite;\n",
              "  }\n",
              "\n",
              "  @keyframes spin {\n",
              "    0% {\n",
              "      border-color: transparent;\n",
              "      border-bottom-color: var(--fill-color);\n",
              "      border-left-color: var(--fill-color);\n",
              "    }\n",
              "    20% {\n",
              "      border-color: transparent;\n",
              "      border-left-color: var(--fill-color);\n",
              "      border-top-color: var(--fill-color);\n",
              "    }\n",
              "    30% {\n",
              "      border-color: transparent;\n",
              "      border-left-color: var(--fill-color);\n",
              "      border-top-color: var(--fill-color);\n",
              "      border-right-color: var(--fill-color);\n",
              "    }\n",
              "    40% {\n",
              "      border-color: transparent;\n",
              "      border-right-color: var(--fill-color);\n",
              "      border-top-color: var(--fill-color);\n",
              "    }\n",
              "    60% {\n",
              "      border-color: transparent;\n",
              "      border-right-color: var(--fill-color);\n",
              "    }\n",
              "    80% {\n",
              "      border-color: transparent;\n",
              "      border-right-color: var(--fill-color);\n",
              "      border-bottom-color: var(--fill-color);\n",
              "    }\n",
              "    90% {\n",
              "      border-color: transparent;\n",
              "      border-bottom-color: var(--fill-color);\n",
              "    }\n",
              "  }\n",
              "</style>\n",
              "\n",
              "  <script>\n",
              "    async function quickchart(key) {\n",
              "      const quickchartButtonEl =\n",
              "        document.querySelector('#' + key + ' button');\n",
              "      quickchartButtonEl.disabled = true;  // To prevent multiple clicks.\n",
              "      quickchartButtonEl.classList.add('colab-df-spinner');\n",
              "      try {\n",
              "        const charts = await google.colab.kernel.invokeFunction(\n",
              "            'suggestCharts', [key], {});\n",
              "      } catch (error) {\n",
              "        console.error('Error during call to suggestCharts:', error);\n",
              "      }\n",
              "      quickchartButtonEl.classList.remove('colab-df-spinner');\n",
              "      quickchartButtonEl.classList.add('colab-df-quickchart-complete');\n",
              "    }\n",
              "    (() => {\n",
              "      let quickchartButtonEl =\n",
              "        document.querySelector('#df-ed568317-c0ee-429a-9cbf-92d4bb224fa3 button');\n",
              "      quickchartButtonEl.style.display =\n",
              "        google.colab.kernel.accessAllowed ? 'block' : 'none';\n",
              "    })();\n",
              "  </script>\n",
              "</div>\n",
              "\n",
              "    </div>\n",
              "  </div>\n"
            ],
            "application/vnd.google.colaboratory.intrinsic+json": {
              "type": "dataframe",
              "variable_name": "df",
              "summary": "{\n  \"name\": \"df\",\n  \"rows\": 200,\n  \"fields\": [\n    {\n      \"column\": \"TV\",\n      \"properties\": {\n        \"dtype\": \"number\",\n        \"std\": 85.85423631490808,\n        \"min\": 0.7,\n        \"max\": 296.4,\n        \"num_unique_values\": 190,\n        \"samples\": [\n          287.6,\n          286.0,\n          78.2\n        ],\n        \"semantic_type\": \"\",\n        \"description\": \"\"\n      }\n    },\n    {\n      \"column\": \"radio\",\n      \"properties\": {\n        \"dtype\": \"number\",\n        \"std\": 14.846809176168724,\n        \"min\": 0.0,\n        \"max\": 49.6,\n        \"num_unique_values\": 167,\n        \"samples\": [\n          8.2,\n          36.9,\n          44.5\n        ],\n        \"semantic_type\": \"\",\n        \"description\": \"\"\n      }\n    },\n    {\n      \"column\": \"newspaper\",\n      \"properties\": {\n        \"dtype\": \"number\",\n        \"std\": 21.778620838522826,\n        \"min\": 0.3,\n        \"max\": 114.0,\n        \"num_unique_values\": 172,\n        \"samples\": [\n          22.3,\n          5.7,\n          17.0\n        ],\n        \"semantic_type\": \"\",\n        \"description\": \"\"\n      }\n    },\n    {\n      \"column\": \"sales\",\n      \"properties\": {\n        \"dtype\": \"number\",\n        \"std\": 5.217456565710478,\n        \"min\": 1.6,\n        \"max\": 27.0,\n        \"num_unique_values\": 121,\n        \"samples\": [\n          11.4,\n          21.2,\n          12.9\n        ],\n        \"semantic_type\": \"\",\n        \"description\": \"\"\n      }\n    }\n  ]\n}"
            }
          },
          "metadata": {},
          "execution_count": 1
        }
      ],
      "source": [
        "# get the data\n",
        "import pandas as pd\n",
        "\n",
        "url = 'https://raw.githubusercontent.com/gitmystuff/Datasets/main/Advertising.csv'\n",
        "df = pd.read_csv(url, usecols=['TV', 'radio', 'newspaper', 'sales'])\n",
        "print(df.shape)\n",
        "print(df.info())\n",
        "df.head()"
      ]
    },
    {
      "cell_type": "code",
      "execution_count": 2,
      "id": "31595c6f",
      "metadata": {
        "id": "31595c6f",
        "outputId": "45e9faa7-d24a-4278-faf5-29d18f4faf69",
        "colab": {
          "base_uri": "https://localhost:8080/",
          "height": 300
        }
      },
      "outputs": [
        {
          "output_type": "execute_result",
          "data": {
            "text/plain": [
              "               TV       radio   newspaper       sales\n",
              "count  200.000000  200.000000  200.000000  200.000000\n",
              "mean   147.042500   23.264000   30.554000   14.022500\n",
              "std     85.854236   14.846809   21.778621    5.217457\n",
              "min      0.700000    0.000000    0.300000    1.600000\n",
              "25%     74.375000    9.975000   12.750000   10.375000\n",
              "50%    149.750000   22.900000   25.750000   12.900000\n",
              "75%    218.825000   36.525000   45.100000   17.400000\n",
              "max    296.400000   49.600000  114.000000   27.000000"
            ],
            "text/html": [
              "\n",
              "  <div id=\"df-2b249606-e6f0-43ca-81f6-506c447fa034\" class=\"colab-df-container\">\n",
              "    <div>\n",
              "<style scoped>\n",
              "    .dataframe tbody tr th:only-of-type {\n",
              "        vertical-align: middle;\n",
              "    }\n",
              "\n",
              "    .dataframe tbody tr th {\n",
              "        vertical-align: top;\n",
              "    }\n",
              "\n",
              "    .dataframe thead th {\n",
              "        text-align: right;\n",
              "    }\n",
              "</style>\n",
              "<table border=\"1\" class=\"dataframe\">\n",
              "  <thead>\n",
              "    <tr style=\"text-align: right;\">\n",
              "      <th></th>\n",
              "      <th>TV</th>\n",
              "      <th>radio</th>\n",
              "      <th>newspaper</th>\n",
              "      <th>sales</th>\n",
              "    </tr>\n",
              "  </thead>\n",
              "  <tbody>\n",
              "    <tr>\n",
              "      <th>count</th>\n",
              "      <td>200.000000</td>\n",
              "      <td>200.000000</td>\n",
              "      <td>200.000000</td>\n",
              "      <td>200.000000</td>\n",
              "    </tr>\n",
              "    <tr>\n",
              "      <th>mean</th>\n",
              "      <td>147.042500</td>\n",
              "      <td>23.264000</td>\n",
              "      <td>30.554000</td>\n",
              "      <td>14.022500</td>\n",
              "    </tr>\n",
              "    <tr>\n",
              "      <th>std</th>\n",
              "      <td>85.854236</td>\n",
              "      <td>14.846809</td>\n",
              "      <td>21.778621</td>\n",
              "      <td>5.217457</td>\n",
              "    </tr>\n",
              "    <tr>\n",
              "      <th>min</th>\n",
              "      <td>0.700000</td>\n",
              "      <td>0.000000</td>\n",
              "      <td>0.300000</td>\n",
              "      <td>1.600000</td>\n",
              "    </tr>\n",
              "    <tr>\n",
              "      <th>25%</th>\n",
              "      <td>74.375000</td>\n",
              "      <td>9.975000</td>\n",
              "      <td>12.750000</td>\n",
              "      <td>10.375000</td>\n",
              "    </tr>\n",
              "    <tr>\n",
              "      <th>50%</th>\n",
              "      <td>149.750000</td>\n",
              "      <td>22.900000</td>\n",
              "      <td>25.750000</td>\n",
              "      <td>12.900000</td>\n",
              "    </tr>\n",
              "    <tr>\n",
              "      <th>75%</th>\n",
              "      <td>218.825000</td>\n",
              "      <td>36.525000</td>\n",
              "      <td>45.100000</td>\n",
              "      <td>17.400000</td>\n",
              "    </tr>\n",
              "    <tr>\n",
              "      <th>max</th>\n",
              "      <td>296.400000</td>\n",
              "      <td>49.600000</td>\n",
              "      <td>114.000000</td>\n",
              "      <td>27.000000</td>\n",
              "    </tr>\n",
              "  </tbody>\n",
              "</table>\n",
              "</div>\n",
              "    <div class=\"colab-df-buttons\">\n",
              "\n",
              "  <div class=\"colab-df-container\">\n",
              "    <button class=\"colab-df-convert\" onclick=\"convertToInteractive('df-2b249606-e6f0-43ca-81f6-506c447fa034')\"\n",
              "            title=\"Convert this dataframe to an interactive table.\"\n",
              "            style=\"display:none;\">\n",
              "\n",
              "  <svg xmlns=\"http://www.w3.org/2000/svg\" height=\"24px\" viewBox=\"0 -960 960 960\">\n",
              "    <path d=\"M120-120v-720h720v720H120Zm60-500h600v-160H180v160Zm220 220h160v-160H400v160Zm0 220h160v-160H400v160ZM180-400h160v-160H180v160Zm440 0h160v-160H620v160ZM180-180h160v-160H180v160Zm440 0h160v-160H620v160Z\"/>\n",
              "  </svg>\n",
              "    </button>\n",
              "\n",
              "  <style>\n",
              "    .colab-df-container {\n",
              "      display:flex;\n",
              "      gap: 12px;\n",
              "    }\n",
              "\n",
              "    .colab-df-convert {\n",
              "      background-color: #E8F0FE;\n",
              "      border: none;\n",
              "      border-radius: 50%;\n",
              "      cursor: pointer;\n",
              "      display: none;\n",
              "      fill: #1967D2;\n",
              "      height: 32px;\n",
              "      padding: 0 0 0 0;\n",
              "      width: 32px;\n",
              "    }\n",
              "\n",
              "    .colab-df-convert:hover {\n",
              "      background-color: #E2EBFA;\n",
              "      box-shadow: 0px 1px 2px rgba(60, 64, 67, 0.3), 0px 1px 3px 1px rgba(60, 64, 67, 0.15);\n",
              "      fill: #174EA6;\n",
              "    }\n",
              "\n",
              "    .colab-df-buttons div {\n",
              "      margin-bottom: 4px;\n",
              "    }\n",
              "\n",
              "    [theme=dark] .colab-df-convert {\n",
              "      background-color: #3B4455;\n",
              "      fill: #D2E3FC;\n",
              "    }\n",
              "\n",
              "    [theme=dark] .colab-df-convert:hover {\n",
              "      background-color: #434B5C;\n",
              "      box-shadow: 0px 1px 3px 1px rgba(0, 0, 0, 0.15);\n",
              "      filter: drop-shadow(0px 1px 2px rgba(0, 0, 0, 0.3));\n",
              "      fill: #FFFFFF;\n",
              "    }\n",
              "  </style>\n",
              "\n",
              "    <script>\n",
              "      const buttonEl =\n",
              "        document.querySelector('#df-2b249606-e6f0-43ca-81f6-506c447fa034 button.colab-df-convert');\n",
              "      buttonEl.style.display =\n",
              "        google.colab.kernel.accessAllowed ? 'block' : 'none';\n",
              "\n",
              "      async function convertToInteractive(key) {\n",
              "        const element = document.querySelector('#df-2b249606-e6f0-43ca-81f6-506c447fa034');\n",
              "        const dataTable =\n",
              "          await google.colab.kernel.invokeFunction('convertToInteractive',\n",
              "                                                    [key], {});\n",
              "        if (!dataTable) return;\n",
              "\n",
              "        const docLinkHtml = 'Like what you see? Visit the ' +\n",
              "          '<a target=\"_blank\" href=https://colab.research.google.com/notebooks/data_table.ipynb>data table notebook</a>'\n",
              "          + ' to learn more about interactive tables.';\n",
              "        element.innerHTML = '';\n",
              "        dataTable['output_type'] = 'display_data';\n",
              "        await google.colab.output.renderOutput(dataTable, element);\n",
              "        const docLink = document.createElement('div');\n",
              "        docLink.innerHTML = docLinkHtml;\n",
              "        element.appendChild(docLink);\n",
              "      }\n",
              "    </script>\n",
              "  </div>\n",
              "\n",
              "\n",
              "<div id=\"df-80aa98f9-faa5-4549-be3c-0ede4c804049\">\n",
              "  <button class=\"colab-df-quickchart\" onclick=\"quickchart('df-80aa98f9-faa5-4549-be3c-0ede4c804049')\"\n",
              "            title=\"Suggest charts\"\n",
              "            style=\"display:none;\">\n",
              "\n",
              "<svg xmlns=\"http://www.w3.org/2000/svg\" height=\"24px\"viewBox=\"0 0 24 24\"\n",
              "     width=\"24px\">\n",
              "    <g>\n",
              "        <path d=\"M19 3H5c-1.1 0-2 .9-2 2v14c0 1.1.9 2 2 2h14c1.1 0 2-.9 2-2V5c0-1.1-.9-2-2-2zM9 17H7v-7h2v7zm4 0h-2V7h2v10zm4 0h-2v-4h2v4z\"/>\n",
              "    </g>\n",
              "</svg>\n",
              "  </button>\n",
              "\n",
              "<style>\n",
              "  .colab-df-quickchart {\n",
              "      --bg-color: #E8F0FE;\n",
              "      --fill-color: #1967D2;\n",
              "      --hover-bg-color: #E2EBFA;\n",
              "      --hover-fill-color: #174EA6;\n",
              "      --disabled-fill-color: #AAA;\n",
              "      --disabled-bg-color: #DDD;\n",
              "  }\n",
              "\n",
              "  [theme=dark] .colab-df-quickchart {\n",
              "      --bg-color: #3B4455;\n",
              "      --fill-color: #D2E3FC;\n",
              "      --hover-bg-color: #434B5C;\n",
              "      --hover-fill-color: #FFFFFF;\n",
              "      --disabled-bg-color: #3B4455;\n",
              "      --disabled-fill-color: #666;\n",
              "  }\n",
              "\n",
              "  .colab-df-quickchart {\n",
              "    background-color: var(--bg-color);\n",
              "    border: none;\n",
              "    border-radius: 50%;\n",
              "    cursor: pointer;\n",
              "    display: none;\n",
              "    fill: var(--fill-color);\n",
              "    height: 32px;\n",
              "    padding: 0;\n",
              "    width: 32px;\n",
              "  }\n",
              "\n",
              "  .colab-df-quickchart:hover {\n",
              "    background-color: var(--hover-bg-color);\n",
              "    box-shadow: 0 1px 2px rgba(60, 64, 67, 0.3), 0 1px 3px 1px rgba(60, 64, 67, 0.15);\n",
              "    fill: var(--button-hover-fill-color);\n",
              "  }\n",
              "\n",
              "  .colab-df-quickchart-complete:disabled,\n",
              "  .colab-df-quickchart-complete:disabled:hover {\n",
              "    background-color: var(--disabled-bg-color);\n",
              "    fill: var(--disabled-fill-color);\n",
              "    box-shadow: none;\n",
              "  }\n",
              "\n",
              "  .colab-df-spinner {\n",
              "    border: 2px solid var(--fill-color);\n",
              "    border-color: transparent;\n",
              "    border-bottom-color: var(--fill-color);\n",
              "    animation:\n",
              "      spin 1s steps(1) infinite;\n",
              "  }\n",
              "\n",
              "  @keyframes spin {\n",
              "    0% {\n",
              "      border-color: transparent;\n",
              "      border-bottom-color: var(--fill-color);\n",
              "      border-left-color: var(--fill-color);\n",
              "    }\n",
              "    20% {\n",
              "      border-color: transparent;\n",
              "      border-left-color: var(--fill-color);\n",
              "      border-top-color: var(--fill-color);\n",
              "    }\n",
              "    30% {\n",
              "      border-color: transparent;\n",
              "      border-left-color: var(--fill-color);\n",
              "      border-top-color: var(--fill-color);\n",
              "      border-right-color: var(--fill-color);\n",
              "    }\n",
              "    40% {\n",
              "      border-color: transparent;\n",
              "      border-right-color: var(--fill-color);\n",
              "      border-top-color: var(--fill-color);\n",
              "    }\n",
              "    60% {\n",
              "      border-color: transparent;\n",
              "      border-right-color: var(--fill-color);\n",
              "    }\n",
              "    80% {\n",
              "      border-color: transparent;\n",
              "      border-right-color: var(--fill-color);\n",
              "      border-bottom-color: var(--fill-color);\n",
              "    }\n",
              "    90% {\n",
              "      border-color: transparent;\n",
              "      border-bottom-color: var(--fill-color);\n",
              "    }\n",
              "  }\n",
              "</style>\n",
              "\n",
              "  <script>\n",
              "    async function quickchart(key) {\n",
              "      const quickchartButtonEl =\n",
              "        document.querySelector('#' + key + ' button');\n",
              "      quickchartButtonEl.disabled = true;  // To prevent multiple clicks.\n",
              "      quickchartButtonEl.classList.add('colab-df-spinner');\n",
              "      try {\n",
              "        const charts = await google.colab.kernel.invokeFunction(\n",
              "            'suggestCharts', [key], {});\n",
              "      } catch (error) {\n",
              "        console.error('Error during call to suggestCharts:', error);\n",
              "      }\n",
              "      quickchartButtonEl.classList.remove('colab-df-spinner');\n",
              "      quickchartButtonEl.classList.add('colab-df-quickchart-complete');\n",
              "    }\n",
              "    (() => {\n",
              "      let quickchartButtonEl =\n",
              "        document.querySelector('#df-80aa98f9-faa5-4549-be3c-0ede4c804049 button');\n",
              "      quickchartButtonEl.style.display =\n",
              "        google.colab.kernel.accessAllowed ? 'block' : 'none';\n",
              "    })();\n",
              "  </script>\n",
              "</div>\n",
              "\n",
              "    </div>\n",
              "  </div>\n"
            ],
            "application/vnd.google.colaboratory.intrinsic+json": {
              "type": "dataframe",
              "summary": "{\n  \"name\": \"df\",\n  \"rows\": 8,\n  \"fields\": [\n    {\n      \"column\": \"TV\",\n      \"properties\": {\n        \"dtype\": \"number\",\n        \"std\": 93.12930693433862,\n        \"min\": 0.7,\n        \"max\": 296.4,\n        \"num_unique_values\": 8,\n        \"samples\": [\n          147.0425,\n          149.75,\n          200.0\n        ],\n        \"semantic_type\": \"\",\n        \"description\": \"\"\n      }\n    },\n    {\n      \"column\": \"radio\",\n      \"properties\": {\n        \"dtype\": \"number\",\n        \"std\": 64.62946191825954,\n        \"min\": 0.0,\n        \"max\": 200.0,\n        \"num_unique_values\": 8,\n        \"samples\": [\n          23.264000000000006,\n          22.9,\n          200.0\n        ],\n        \"semantic_type\": \"\",\n        \"description\": \"\"\n      }\n    },\n    {\n      \"column\": \"newspaper\",\n      \"properties\": {\n        \"dtype\": \"number\",\n        \"std\": 67.53295876114069,\n        \"min\": 0.3,\n        \"max\": 200.0,\n        \"num_unique_values\": 8,\n        \"samples\": [\n          30.553999999999995,\n          25.75,\n          200.0\n        ],\n        \"semantic_type\": \"\",\n        \"description\": \"\"\n      }\n    },\n    {\n      \"column\": \"sales\",\n      \"properties\": {\n        \"dtype\": \"number\",\n        \"std\": 66.68380930502316,\n        \"min\": 1.6,\n        \"max\": 200.0,\n        \"num_unique_values\": 8,\n        \"samples\": [\n          14.0225,\n          12.9,\n          200.0\n        ],\n        \"semantic_type\": \"\",\n        \"description\": \"\"\n      }\n    }\n  ]\n}"
            }
          },
          "metadata": {},
          "execution_count": 2
        }
      ],
      "source": [
        "# describe data\n",
        "df.describe()"
      ]
    },
    {
      "cell_type": "markdown",
      "source": [
        "### Assumptions\n",
        "\n",
        "* There is a linear regression relation between Y and X\n",
        "* The error terms (residuals) are normally distributed\n",
        "* The variance of the error terms is constant over all X values (homoscedasticity)\n",
        "* The error terms are independent"
      ],
      "metadata": {
        "id": "zA57bgtbGBJ3"
      },
      "id": "zA57bgtbGBJ3"
    },
    {
      "cell_type": "markdown",
      "source": [
        "### Shapes"
      ],
      "metadata": {
        "id": "0iHfZPE-FNQf"
      },
      "id": "0iHfZPE-FNQf"
    },
    {
      "cell_type": "code",
      "execution_count": 3,
      "id": "94acbf3e",
      "metadata": {
        "id": "94acbf3e",
        "outputId": "4918fbf6-7cf7-4fcb-dbea-9ddd9bab3ce7",
        "colab": {
          "base_uri": "https://localhost:8080/",
          "height": 487
        }
      },
      "outputs": [
        {
          "output_type": "display_data",
          "data": {
            "text/plain": [
              "<Figure size 640x480 with 4 Axes>"
            ],
            "image/png": "[encoded data removed]"
          },
          "metadata": {}
        }
      ],
      "source": [
        "# using pandas and matplotlib\n",
        "import matplotlib.pyplot as plt\n",
        "\n",
        "df.hist()\n",
        "plt.tight_layout()"
      ]
    },
    {
      "cell_type": "markdown",
      "source": [
        "### Train Test Split"
      ],
      "metadata": {
        "id": "Edp5FqmLFUbk"
      },
      "id": "Edp5FqmLFUbk"
    },
    {
      "cell_type": "code",
      "execution_count": 4,
      "id": "c6532dbd",
      "metadata": {
        "id": "c6532dbd",
        "outputId": "1c443b69-a90c-4ae6-d7af-492d8d01c663",
        "colab": {
          "base_uri": "https://localhost:8080/"
        }
      },
      "outputs": [
        {
          "output_type": "stream",
          "name": "stdout",
          "text": [
            "(160, 3)\n",
            "(40, 3)\n"
          ]
        }
      ],
      "source": [
        "# train test split\n",
        "from sklearn.model_selection import train_test_split\n",
        "\n",
        "X_train, X_test, y_train, y_test = train_test_split(df.drop(['sales'], axis=1),\n",
        "                                                    df['sales'],\n",
        "                                                    test_size=0.20,\n",
        "                                                    random_state=42)\n",
        "print(X_train.shape)\n",
        "print(X_test.shape)"
      ]
    },
    {
      "cell_type": "markdown",
      "source": [
        "### The Model"
      ],
      "metadata": {
        "id": "LrYuWUfsFXoV"
      },
      "id": "LrYuWUfsFXoV"
    },
    {
      "cell_type": "code",
      "execution_count": 5,
      "id": "5dfdc477",
      "metadata": {
        "id": "5dfdc477",
        "outputId": "aa117a40-4a0f-4416-e6cc-952ec9b9ed6b",
        "colab": {
          "base_uri": "https://localhost:8080/"
        }
      },
      "outputs": [
        {
          "output_type": "stream",
          "name": "stdout",
          "text": [
            "R-Squared: 0.899438024100912\n"
          ]
        }
      ],
      "source": [
        "# build, train (fit), predict, evaluate the model\n",
        "from sklearn.linear_model import LinearRegression\n",
        "from sklearn.metrics import r2_score\n",
        "\n",
        "model = LinearRegression()\n",
        "model.fit(X_train.values, y_train)\n",
        "predictions = model.predict(X_test.values)\n",
        "print(f'R-Squared: {r2_score(y_test, predictions)}')"
      ]
    },
    {
      "cell_type": "markdown",
      "source": [
        "### Ordinary Least Squares"
      ],
      "metadata": {
        "id": "o5cjpIj4OWTb"
      },
      "id": "o5cjpIj4OWTb"
    },
    {
      "cell_type": "code",
      "execution_count": 6,
      "metadata": {
        "id": "d8171516",
        "outputId": "06c37b8b-523a-443b-e826-3bcc39725662",
        "colab": {
          "base_uri": "https://localhost:8080/",
          "height": 486
        }
      },
      "outputs": [
        {
          "output_type": "execute_result",
          "data": {
            "text/plain": [
              "<class 'statsmodels.iolib.summary.Summary'>\n",
              "\"\"\"\n",
              "                            OLS Regression Results                            \n",
              "==============================================================================\n",
              "Dep. Variable:                  sales   R-squared:                       0.896\n",
              "Model:                            OLS   Adj. R-squared:                  0.894\n",
              "Method:                 Least Squares   F-statistic:                     446.6\n",
              "Date:                Sat, 29 Jun 2024   Prob (F-statistic):           2.53e-76\n",
              "Time:                        18:30:16   Log-Likelihood:                -306.64\n",
              "No. Observations:                 160   AIC:                             621.3\n",
              "Df Residuals:                     156   BIC:                             633.6\n",
              "Df Model:                           3                                         \n",
              "Covariance Type:            nonrobust                                         \n",
              "==============================================================================\n",
              "                 coef    std err          t      P>|t|      [0.025      0.975]\n",
              "------------------------------------------------------------------------------\n",
              "const          2.9791      0.354      8.427      0.000       2.281       3.677\n",
              "TV             0.0447      0.002     28.544      0.000       0.042       0.048\n",
              "radio          0.1892      0.010     19.518      0.000       0.170       0.208\n",
              "newspaper      0.0028      0.007      0.392      0.696      -0.011       0.017\n",
              "==============================================================================\n",
              "Omnibus:                       67.697   Durbin-Watson:                   2.161\n",
              "Prob(Omnibus):                  0.000   Jarque-Bera (JB):              240.326\n",
              "Skew:                          -1.627   Prob(JB):                     6.52e-53\n",
              "Kurtosis:                       8.046   Cond. No.                         471.\n",
              "==============================================================================\n",
              "\n",
              "Notes:\n",
              "[1] Standard Errors assume that the covariance matrix of the errors is correctly specified.\n",
              "\"\"\""
            ],
            "text/html": [
              "<table class=\"simpletable\">\n",
              "<caption>OLS Regression Results</caption>\n",
              "<tr>\n",
              "  <th>Dep. Variable:</th>          <td>sales</td>      <th>  R-squared:         </th> <td>   0.896</td>\n",
              "</tr>\n",
              "<tr>\n",
              "  <th>Model:</th>                   <td>OLS</td>       <th>  Adj. R-squared:    </th> <td>   0.894</td>\n",
              "</tr>\n",
              "<tr>\n",
              "  <th>Method:</th>             <td>Least Squares</td>  <th>  F-statistic:       </th> <td>   446.6</td>\n",
              "</tr>\n",
              "<tr>\n",
              "  <th>Date:</th>             <td>Sat, 29 Jun 2024</td> <th>  Prob (F-statistic):</th> <td>2.53e-76</td>\n",
              "</tr>\n",
              "<tr>\n",
              "  <th>Time:</th>                 <td>18:30:16</td>     <th>  Log-Likelihood:    </th> <td> -306.64</td>\n",
              "</tr>\n",
              "<tr>\n",
              "  <th>No. Observations:</th>      <td>   160</td>      <th>  AIC:               </th> <td>   621.3</td>\n",
              "</tr>\n",
              "<tr>\n",
              "  <th>Df Residuals:</th>          <td>   156</td>      <th>  BIC:               </th> <td>   633.6</td>\n",
              "</tr>\n",
              "<tr>\n",
              "  <th>Df Model:</th>              <td>     3</td>      <th>                     </th>     <td> </td>   \n",
              "</tr>\n",
              "<tr>\n",
              "  <th>Covariance Type:</th>      <td>nonrobust</td>    <th>                     </th>     <td> </td>   \n",
              "</tr>\n",
              "</table>\n",
              "<table class=\"simpletable\">\n",
              "<tr>\n",
              "      <td></td>         <th>coef</th>     <th>std err</th>      <th>t</th>      <th>P>|t|</th>  <th>[0.025</th>    <th>0.975]</th>  \n",
              "</tr>\n",
              "<tr>\n",
              "  <th>const</th>     <td>    2.9791</td> <td>    0.354</td> <td>    8.427</td> <td> 0.000</td> <td>    2.281</td> <td>    3.677</td>\n",
              "</tr>\n",
              "<tr>\n",
              "  <th>TV</th>        <td>    0.0447</td> <td>    0.002</td> <td>   28.544</td> <td> 0.000</td> <td>    0.042</td> <td>    0.048</td>\n",
              "</tr>\n",
              "<tr>\n",
              "  <th>radio</th>     <td>    0.1892</td> <td>    0.010</td> <td>   19.518</td> <td> 0.000</td> <td>    0.170</td> <td>    0.208</td>\n",
              "</tr>\n",
              "<tr>\n",
              "  <th>newspaper</th> <td>    0.0028</td> <td>    0.007</td> <td>    0.392</td> <td> 0.696</td> <td>   -0.011</td> <td>    0.017</td>\n",
              "</tr>\n",
              "</table>\n",
              "<table class=\"simpletable\">\n",
              "<tr>\n",
              "  <th>Omnibus:</th>       <td>67.697</td> <th>  Durbin-Watson:     </th> <td>   2.161</td>\n",
              "</tr>\n",
              "<tr>\n",
              "  <th>Prob(Omnibus):</th> <td> 0.000</td> <th>  Jarque-Bera (JB):  </th> <td> 240.326</td>\n",
              "</tr>\n",
              "<tr>\n",
              "  <th>Skew:</th>          <td>-1.627</td> <th>  Prob(JB):          </th> <td>6.52e-53</td>\n",
              "</tr>\n",
              "<tr>\n",
              "  <th>Kurtosis:</th>      <td> 8.046</td> <th>  Cond. No.          </th> <td>    471.</td>\n",
              "</tr>\n",
              "</table><br/><br/>Notes:<br/>[1] Standard Errors assume that the covariance matrix of the errors is correctly specified."
            ],
            "text/latex": "\\begin{center}\n\\begin{tabular}{lclc}\n\\toprule\n\\textbf{Dep. Variable:}    &      sales       & \\textbf{  R-squared:         } &     0.896   \\\\\n\\textbf{Model:}            &       OLS        & \\textbf{  Adj. R-squared:    } &     0.894   \\\\\n\\textbf{Method:}           &  Least Squares   & \\textbf{  F-statistic:       } &     446.6   \\\\\n\\textbf{Date:}             & Sat, 29 Jun 2024 & \\textbf{  Prob (F-statistic):} &  2.53e-76   \\\\\n\\textbf{Time:}             &     18:30:16     & \\textbf{  Log-Likelihood:    } &   -306.64   \\\\\n\\textbf{No. Observations:} &         160      & \\textbf{  AIC:               } &     621.3   \\\\\n\\textbf{Df Residuals:}     &         156      & \\textbf{  BIC:               } &     633.6   \\\\\n\\textbf{Df Model:}         &           3      & \\textbf{                     } &             \\\\\n\\textbf{Covariance Type:}  &    nonrobust     & \\textbf{                     } &             \\\\\n\\bottomrule\n\\end{tabular}\n\\begin{tabular}{lcccccc}\n                   & \\textbf{coef} & \\textbf{std err} & \\textbf{t} & \\textbf{P$> |$t$|$} & \\textbf{[0.025} & \\textbf{0.975]}  \\\\\n\\midrule\n\\textbf{const}     &       2.9791  &        0.354     &     8.427  &         0.000        &        2.281    &        3.677     \\\\\n\\textbf{TV}        &       0.0447  &        0.002     &    28.544  &         0.000        &        0.042    &        0.048     \\\\\n\\textbf{radio}     &       0.1892  &        0.010     &    19.518  &         0.000        &        0.170    &        0.208     \\\\\n\\textbf{newspaper} &       0.0028  &        0.007     &     0.392  &         0.696        &       -0.011    &        0.017     \\\\\n\\bottomrule\n\\end{tabular}\n\\begin{tabular}{lclc}\n\\textbf{Omnibus:}       & 67.697 & \\textbf{  Durbin-Watson:     } &    2.161  \\\\\n\\textbf{Prob(Omnibus):} &  0.000 & \\textbf{  Jarque-Bera (JB):  } &  240.326  \\\\\n\\textbf{Skew:}          & -1.627 & \\textbf{  Prob(JB):          } & 6.52e-53  \\\\\n\\textbf{Kurtosis:}      &  8.046 & \\textbf{  Cond. No.          } &     471.  \\\\\n\\bottomrule\n\\end{tabular}\n%\\caption{OLS Regression Results}\n\\end{center}\n\nNotes: \\newline\n [1] Standard Errors assume that the covariance matrix of the errors is correctly specified."
          },
          "metadata": {},
          "execution_count": 6
        }
      ],
      "source": [
        "# add constant and build model\n",
        "import statsmodels.api as sm\n",
        "import statsmodels.formula.api as smf\n",
        "\n",
        "X_train.insert(0, 'const', 1)\n",
        "model = sm.OLS(y_train, X_train).fit()\n",
        "model.summary()"
      ],
      "id": "d8171516"
    },
    {
      "cell_type": "code",
      "execution_count": 7,
      "metadata": {
        "id": "f6546860",
        "outputId": "a36ed2a1-d053-4bf7-c256-7ccd3e4e89ef",
        "colab": {
          "base_uri": "https://localhost:8080/"
        }
      },
      "outputs": [
        {
          "output_type": "stream",
          "name": "stdout",
          "text": [
            "const        2.979067\n",
            "TV           0.044730\n",
            "radio        0.189195\n",
            "newspaper    0.002761\n",
            "dtype: float64\n"
          ]
        }
      ],
      "source": [
        "# view the coefficients and intercept\n",
        "print(model.params)"
      ],
      "id": "f6546860"
    },
    {
      "cell_type": "markdown",
      "source": [
        "### Confidence Intervals"
      ],
      "metadata": {
        "id": "Qrajzl22FP0w"
      },
      "id": "Qrajzl22FP0w"
    },
    {
      "cell_type": "code",
      "execution_count": 8,
      "id": "c9bacb5c",
      "metadata": {
        "id": "c9bacb5c",
        "outputId": "1c3b2ae1-23c0-4bf1-daa4-de264c5724ee",
        "colab": {
          "base_uri": "https://localhost:8080/",
          "height": 531
        }
      },
      "outputs": [
        {
          "output_type": "execute_result",
          "data": {
            "text/plain": [
              "(-100.0, 400.0)"
            ]
          },
          "metadata": {},
          "execution_count": 8
        },
        {
          "output_type": "display_data",
          "data": {
            "text/plain": [
              "<Figure size 400x500 with 1 Axes>"
            ],
            "image/png": "[encoded data removed]"
          },
          "metadata": {}
        }
      ],
      "source": [
        "# scatterplot example with seaborn (sns)\n",
        "import seaborn as sns\n",
        "\n",
        "sns.pairplot(data=pd.concat([X_train, y_train], axis=1),\n",
        "             x_vars=X_train[['TV']].columns,\n",
        "             y_vars='sales',\n",
        "             kind='reg',\n",
        "             height=5,\n",
        "             aspect=0.8,\n",
        "             plot_kws={'line_kws':{'color':'red'}, 'scatter_kws': {'alpha': 0.2}});\n",
        "\n",
        "plt.plot(380, 24, 'go')\n",
        "plt.xlim(-100, 400)"
      ]
    },
    {
      "cell_type": "markdown",
      "source": [
        "### Prediction Intervals"
      ],
      "metadata": {
        "id": "AmJorR9BHdwz"
      },
      "id": "AmJorR9BHdwz"
    },
    {
      "cell_type": "code",
      "source": [
        "import matplotlib.pyplot as plt\n",
        "import seaborn as sns\n",
        "import statsmodels.api as sm\n",
        "\n",
        "intervals_model = sm.OLS(y_train, X_train['TV']).fit()\n",
        "predictions = intervals_model.get_prediction(X_test['TV']).summary_frame()\n",
        "\n",
        "sns.regplot(data=pd.concat([X_train, y_train], axis=1),\n",
        "            x='TV',\n",
        "            y='sales',\n",
        "            scatter_kws={'color': 'blue', 'alpha': 0.5},\n",
        "            label='observed',\n",
        "            line_kws={'label': 'regression'},\n",
        "            color='red')\n",
        "\n",
        "plt.plot(X_test['TV'], predictions['obs_ci_upper'], label='prediction', color='green')\n",
        "plt.plot(X_test['TV'], predictions['obs_ci_lower'], color='green')\n",
        "plt.legend();"
      ],
      "metadata": {
        "colab": {
          "base_uri": "https://localhost:8080/",
          "height": 449
        },
        "id": "6AlJALcYHgC3",
        "outputId": "b040fce3-cb89-4b39-9f0d-97aea7b58b8c"
      },
      "id": "6AlJALcYHgC3",
      "execution_count": 9,
      "outputs": [
        {
          "output_type": "display_data",
          "data": {
            "text/plain": [
              "<Figure size 640x480 with 1 Axes>"
            ],
            "image/png": "[encoded data removed]"
          },
          "metadata": {}
        }
      ]
    },
    {
      "cell_type": "code",
      "execution_count": 10,
      "id": "96c65d48",
      "metadata": {
        "id": "96c65d48",
        "outputId": "999fcdfa-5cd9-4898-ba53-7f599711df1a",
        "colab": {
          "base_uri": "https://localhost:8080/"
        }
      },
      "outputs": [
        {
          "output_type": "execute_result",
          "data": {
            "text/plain": [
              "array([15.0118875])"
            ]
          },
          "metadata": {},
          "execution_count": 10
        }
      ],
      "source": [
        "# make a prediction\n",
        "import numpy as np\n",
        "from sklearn.linear_model import LinearRegression\n",
        "from sklearn.model_selection import train_test_split\n",
        "\n",
        "X_train, X_test, y_train, y_test = train_test_split(df.drop(['sales'], axis=1),\n",
        "                                                    df['sales'],\n",
        "                                                    test_size=0.20,\n",
        "                                                    random_state=42)\n",
        "\n",
        "\n",
        "model = LinearRegression()\n",
        "model.fit(X_train.values, y_train)\n",
        "\n",
        "tv = 232.1\n",
        "radio = 8.6\n",
        "newspaper = 8.7\n",
        "model.predict(np.array([tv, radio, newspaper]).reshape(1, -1))"
      ]
    },
    {
      "cell_type": "code",
      "execution_count": 11,
      "id": "9a5a8cf5",
      "metadata": {
        "id": "9a5a8cf5",
        "outputId": "5bc412c7-e50c-4175-f817-34754db235ed",
        "colab": {
          "base_uri": "https://localhost:8080/"
        }
      },
      "outputs": [
        {
          "output_type": "stream",
          "name": "stdout",
          "text": [
            "intercept 2.979067338122629\n"
          ]
        },
        {
          "output_type": "execute_result",
          "data": {
            "text/plain": [
              "[('TV', 0.044729517468716326),\n",
              " ('radio', 0.18919505423437652),\n",
              " ('newspaper', 0.0027611143413671935)]"
            ]
          },
          "metadata": {},
          "execution_count": 11
        }
      ],
      "source": [
        "# what are our coefficients?\n",
        "print('intercept', model.intercept_)\n",
        "list(zip(X_train, model.coef_))"
      ]
    },
    {
      "cell_type": "markdown",
      "metadata": {
        "id": "62af8e5d"
      },
      "source": [
        "### Practical Application\n",
        "\n",
        "y = intercept + coef_0(TV) + coef_1(radio) + coef_2(newspaper)"
      ],
      "id": "62af8e5d"
    },
    {
      "cell_type": "markdown",
      "metadata": {
        "id": "ac281c5a"
      },
      "source": [
        "**Interpreting a coefficient**: \\$1000 dollars on radio advertising would be associated with an increase of sales by 0.19 * 1000, or 190 units, given spending stays the same."
      ],
      "id": "ac281c5a"
    },
    {
      "cell_type": "markdown",
      "metadata": {
        "id": "cc0f2928"
      },
      "source": [
        "If we want to see an increase of 20 units in sales, given a unit is one million dollars, and we are spending \\\\$37,800 on radio advertising, how much would we need to spend on TV advertising? Note: our sales has been scaled to match units of TV and radio spending, given TV and radio units are $1000 each.\n",
        "\n",
        "Consider this equation:\n",
        "\n",
        "$\n",
        "y = \\beta_0 + \\beta_1(X_1) + \\beta_2(X_2)\n",
        "$\n",
        "\n",
        "To see an increase of 20 units in sales knowing that we are spending \\\\$37,800 on radio advertising, what do we need to spend on TV?"
      ],
      "id": "cc0f2928"
    },
    {
      "cell_type": "code",
      "execution_count": 13,
      "metadata": {
        "id": "f8b45f1c",
        "outputId": "40531d78-6488-424f-e2db-44f0776d548a",
        "colab": {
          "base_uri": "https://localhost:8080/"
        }
      },
      "outputs": [
        {
          "output_type": "stream",
          "name": "stdout",
          "text": [
            "20 = 2.98 +( 0.04 * X1) + (0.19 * 37.8)\n"
          ]
        }
      ],
      "source": [
        "# Solve for X1\n",
        "X_train.insert(0, 'const', 1)\n",
        "model = sm.OLS(y_train, X_train).fit()\n",
        "# model.summary()\n",
        "intercept = model.params['const']\n",
        "B1 = model.params['TV']\n",
        "B2 = model.params['radio']\n",
        "X2 = 37.8\n",
        "print(f'20 = {intercept:0.2f} +( {B1:0.2f} * X1) + ({B2:0.2f} * {X2})')"
      ],
      "id": "f8b45f1c"
    },
    {
      "cell_type": "markdown",
      "metadata": {
        "id": "sLBYVKpU_8v-"
      },
      "source": [
        "### Matrix Multiplication\n",
        "\n",
        "* $y_i = \\theta^TX_i + \\epsilon_i$\n",
        "* $h_\\theta(x) = \\theta_0 + \\theta_1x_1$\n",
        "* $\\theta = (X^T * X)^{-1} * X^T * y$\n",
        "* Dot product - https://en.wikipedia.org/wiki/Dot_product\n",
        "* Inverse - https://www.mathsisfun.com/algebra/matrix-inverse.html\n",
        "* To multiply an m×n matrix by an n×p matrix, the ns must be the same,\n",
        "and the result is an m×p matrix."
      ],
      "id": "sLBYVKpU_8v-"
    },
    {
      "cell_type": "code",
      "execution_count": 14,
      "metadata": {
        "colab": {
          "base_uri": "https://localhost:8080/"
        },
        "id": "zE5rbneAASfA",
        "outputId": "314dc391-5158-4adf-aa02-efb3668c0246"
      },
      "outputs": [
        {
          "output_type": "stream",
          "name": "stdout",
          "text": [
            "StatsModel\n",
            "const        2.979067\n",
            "TV           0.044730\n",
            "radio        0.189195\n",
            "newspaper    0.002761\n",
            "dtype: float64\n",
            "\n",
            "Numpy Linear Algebra\n",
            "weights =  [2.97906734e+00 4.47295175e-02 1.89195054e-01 2.76111434e-03]\n"
          ]
        },
        {
          "output_type": "execute_result",
          "data": {
            "text/plain": [
              "array([2.97906734e+00, 4.47295175e-02, 1.89195054e-01, 2.76111434e-03])"
            ]
          },
          "metadata": {},
          "execution_count": 14
        }
      ],
      "source": [
        "import numpy as np\n",
        "import pandas as pd\n",
        "import statsmodels.api as sm\n",
        "\n",
        "X = X_train\n",
        "y = y_train\n",
        "\n",
        "model = sm.OLS(y, X).fit()\n",
        "print('StatsModel')\n",
        "print(model.params)\n",
        "print()\n",
        "print('Numpy Linear Algebra')\n",
        "print('weights = ', np.linalg.inv(X.T.dot(X)).dot(X.T).dot(y))\n",
        "np.matmul(np.linalg.inv(np.matmul(X.values.T, X.values)), np.matmul(X.values.T, y))"
      ],
      "id": "zE5rbneAASfA"
    },
    {
      "cell_type": "markdown",
      "source": [
        "## Logistic Regression\n",
        "\n"
      ],
      "metadata": {
        "id": "vOsbmKFQR6Bv"
      },
      "id": "vOsbmKFQR6Bv"
    },
    {
      "cell_type": "code",
      "source": [
        "# create and train the model\n",
        "import pandas as pd\n",
        "import matplotlib.pyplot as plt\n",
        "from sklearn.linear_model import LinearRegression\n",
        "from sklearn.datasets import make_regression\n",
        "from sklearn.model_selection import train_test_split\n",
        "from sklearn.preprocessing import StandardScaler\n",
        "\n",
        "X, y = make_regression(n_samples=50, n_features=1, noise=10)\n",
        "df = pd.DataFrame(data=X, columns=['x'])\n",
        "df['y'] = y\n",
        "\n",
        "scaler = StandardScaler()\n",
        "df[['x', 'y']] = scaler.fit_transform(df[['x', 'y']])\n",
        "\n",
        "\n",
        "# decision threshold = .5\n",
        "df['class'] = df['y'].apply(lambda x: 0 if x <= 0 else 1)\n",
        "\n",
        "X_train, X_test, y_train, y_test = train_test_split(df.drop(['y'], axis=1), df['y'], test_size=.2, random_state=42)\n",
        "\n",
        "model = LinearRegression()\n",
        "model.fit(X_train, y_train)\n",
        "\n",
        "# test set prediction results\n",
        "predictions = model.predict(X_test)\n",
        "print('\\nx, y scatter plot with line of best fit as per our line equation')\n",
        "print(f'y = {model.intercept_} + {model.coef_[0]}X')\n",
        "\n",
        "plt.scatter(X_train['x'], y_train, label='data')\n",
        "plt.plot(X_train['x'], model.intercept_ + model.coef_[0] * X_train['x'], color='red', label='fitted line')\n",
        "# plt.axhline(0.5, color='green', linestyle='dashed', label='threshold')\n",
        "plt.legend();"
      ],
      "metadata": {
        "colab": {
          "base_uri": "https://localhost:8080/",
          "height": 484
        },
        "id": "Q2I9xKEySOvy",
        "outputId": "385429d2-7b52-4938-f4fc-b37792e4842d"
      },
      "id": "Q2I9xKEySOvy",
      "execution_count": 16,
      "outputs": [
        {
          "output_type": "stream",
          "name": "stdout",
          "text": [
            "\n",
            "x, y scatter plot with line of best fit as per our line equation\n",
            "y = -0.01854199043372308 + 0.9843792152472937X\n"
          ]
        },
        {
          "output_type": "display_data",
          "data": {
            "text/plain": [
              "<Figure size 640x480 with 1 Axes>"
            ],
            "image/png": "[encoded data removed]"
          },
          "metadata": {}
        }
      ]
    },
    {
      "cell_type": "code",
      "source": [
        "# does a line of best fit over a binary dependent variable make sense?\n",
        "plt.scatter(X_train['x'], X_train['class'], label='data')\n",
        "plt.plot(X_train['x'], model.intercept_ + model.coef_[0] * X_train['x'], color='red', label='fitted line')\n",
        "plt.axhline(.5, color='green', linestyle='dashed', label='threshold')\n",
        "# plt.axvline(0, color='gray', label='y=0')\n",
        "plt.legend();"
      ],
      "metadata": {
        "colab": {
          "base_uri": "https://localhost:8080/",
          "height": 430
        },
        "id": "n82dVErnTRh8",
        "outputId": "ee05e853-f0a6-475e-c65f-434e92a605cd"
      },
      "id": "n82dVErnTRh8",
      "execution_count": 18,
      "outputs": [
        {
          "output_type": "display_data",
          "data": {
            "text/plain": [
              "<Figure size 640x480 with 1 Axes>"
            ],
            "image/png": "[encoded data removed]"
          },
          "metadata": {}
        }
      ]
    },
    {
      "cell_type": "markdown",
      "source": [
        "### The Sigmoid\n",
        "\n",
        "Sigmoid curves are common in statistics as cumulative distribution functions (which go from 0 to 1), such as the integrals of the logistic density, the normal density, and Student's t probability density functions. The logistic sigmoid function is invertible, and its inverse is the logit function.\n",
        "\n",
        "https://en.wikipedia.org/wiki/Sigmoid_function\n",
        "\n",
        "Sigmoidal growth is a modification of exponential growth in which the percent change gets smaller as the population approaches the carrying capacity.\n",
        "\n",
        "http://matcmath.org/textbooks/quantitativereasoning/sigmoidal-growth/"
      ],
      "metadata": {
        "id": "9lSq94pNTjr5"
      },
      "id": "9lSq94pNTjr5"
    },
    {
      "cell_type": "code",
      "source": [
        "# what we'd really like\n",
        "import numpy as np\n",
        "import matplotlib.pyplot as plt\n",
        "import scipy.stats as stats\n",
        "\n",
        "x = np.linspace(-2, 2, 100)\n",
        "s = .3 # scale parameter\n",
        "print('\\nAn S curve that is bound by 1 and 0')\n",
        "plt.scatter(X_train['x'], X_train['class'], label='data')\n",
        "plt.plot(x, 1 / (1 + np.exp(-(np.mean(x)/s + (1/s)*x))), color='red', label='sigmoid')\n",
        "plt.axhline(.5, color='green', linestyle='dashed', label='threshold')\n",
        "plt.axvline(0, color='gray', alpha=0.5)\n",
        "plt.legend()\n",
        "plt.show()"
      ],
      "metadata": {
        "colab": {
          "base_uri": "https://localhost:8080/",
          "height": 466
        },
        "id": "nQvOwVhXTkzH",
        "outputId": "75a98d4f-0d0b-43b2-8164-732dd871491b"
      },
      "id": "nQvOwVhXTkzH",
      "execution_count": 19,
      "outputs": [
        {
          "output_type": "stream",
          "name": "stdout",
          "text": [
            "\n",
            "An S curve that is bound by 1 and 0\n"
          ]
        },
        {
          "output_type": "display_data",
          "data": {
            "text/plain": [
              "<Figure size 640x480 with 1 Axes>"
            ],
            "image/png": "[encoded data removed]"
          },
          "metadata": {}
        }
      ]
    },
    {
      "cell_type": "markdown",
      "source": [
        "### Odds\n",
        "\n",
        "$\\large{\\frac{p}{1 - p}} = \\beta_0 + \\beta_1 X$\n",
        "\n",
        "Odds are positive so we have a range of 0, $+ \\infty$ so we use log"
      ],
      "metadata": {
        "id": "euQwOnNtSZMi"
      },
      "id": "euQwOnNtSZMi"
    },
    {
      "cell_type": "markdown",
      "source": [
        "### Log Odds\n",
        "\n",
        "We use the log of odds so that we can get to $(-\\infty, +\\infty)$\n",
        "\n",
        "$\\large{log(\\frac{p}{1 - p}}) = \\beta_0 + \\beta_1 X$\n",
        "\n",
        "Now our range is unrestricted $- \\infty, + \\infty$ where the odds for and odds against meet at 0 with potential symmetrical range 0 to infinity."
      ],
      "metadata": {
        "id": "xT4ONw8dSdQf"
      },
      "id": "xT4ONw8dSdQf"
    },
    {
      "cell_type": "markdown",
      "source": [
        "### Logistic Model\n",
        "\n",
        "In statistics, the logistic model (or logit model) is a statistical model that models the probability of an event taking place by having the log-odds for the event be a linear combination of one or more independent variables. In regression analysis, logistic regression (or logit regression) is estimating the parameters of a logistic model (the coefficients in the linear combination).\n",
        "\n",
        "* $p = \\large{\\frac{1}{1 + e^{-(\\beta_0 + \\beta_1x)}}}$"
      ],
      "metadata": {
        "id": "aa7-VlWQSlbj"
      },
      "id": "aa7-VlWQSlbj"
    },
    {
      "cell_type": "code",
      "source": [
        "# Create dataset\n",
        "import pandas as pd\n",
        "from sklearn.datasets import make_classification\n",
        "\n",
        "n = 1000 # number of observations\n",
        "f = 2 # number of features\n",
        "inform = 2 # number of meaningful features\n",
        "\n",
        "# unpack X and y\n",
        "features, binary_class = make_classification(n_samples=n, n_features=f,\n",
        "                                             n_informative=inform, n_redundant=0,\n",
        "                                             n_clusters_per_class=1, random_state=42)\n",
        "\n",
        "# Create a dataframe of the features and add the binary class (label, output)\n",
        "df = pd.DataFrame(features)\n",
        "df.columns = ['Feature_1', 'Feature_2']\n",
        "df['Class'] = binary_class\n",
        "df.head()"
      ],
      "metadata": {
        "colab": {
          "base_uri": "https://localhost:8080/",
          "height": 206
        },
        "id": "tqgOtMHUS5Kn",
        "outputId": "07b61251-9083-4812-ab38-0412dfdf46c9"
      },
      "id": "tqgOtMHUS5Kn",
      "execution_count": 20,
      "outputs": [
        {
          "output_type": "execute_result",
          "data": {
            "text/plain": [
              "   Feature_1  Feature_2  Class\n",
              "0   0.601034   1.535353      1\n",
              "1   0.755945  -1.172352      0\n",
              "2   1.354479  -0.948528      0\n",
              "3   3.103090   0.233485      0\n",
              "4   0.753178   0.787514      1"
            ],
            "text/html": [
              "\n",
              "  <div id=\"df-30089f18-ba4c-49df-a408-c97f18f8c30e\" class=\"colab-df-container\">\n",
              "    <div>\n",
              "<style scoped>\n",
              "    .dataframe tbody tr th:only-of-type {\n",
              "        vertical-align: middle;\n",
              "    }\n",
              "\n",
              "    .dataframe tbody tr th {\n",
              "        vertical-align: top;\n",
              "    }\n",
              "\n",
              "    .dataframe thead th {\n",
              "        text-align: right;\n",
              "    }\n",
              "</style>\n",
              "<table border=\"1\" class=\"dataframe\">\n",
              "  <thead>\n",
              "    <tr style=\"text-align: right;\">\n",
              "      <th></th>\n",
              "      <th>Feature_1</th>\n",
              "      <th>Feature_2</th>\n",
              "      <th>Class</th>\n",
              "    </tr>\n",
              "  </thead>\n",
              "  <tbody>\n",
              "    <tr>\n",
              "      <th>0</th>\n",
              "      <td>0.601034</td>\n",
              "      <td>1.535353</td>\n",
              "      <td>1</td>\n",
              "    </tr>\n",
              "    <tr>\n",
              "      <th>1</th>\n",
              "      <td>0.755945</td>\n",
              "      <td>-1.172352</td>\n",
              "      <td>0</td>\n",
              "    </tr>\n",
              "    <tr>\n",
              "      <th>2</th>\n",
              "      <td>1.354479</td>\n",
              "      <td>-0.948528</td>\n",
              "      <td>0</td>\n",
              "    </tr>\n",
              "    <tr>\n",
              "      <th>3</th>\n",
              "      <td>3.103090</td>\n",
              "      <td>0.233485</td>\n",
              "      <td>0</td>\n",
              "    </tr>\n",
              "    <tr>\n",
              "      <th>4</th>\n",
              "      <td>0.753178</td>\n",
              "      <td>0.787514</td>\n",
              "      <td>1</td>\n",
              "    </tr>\n",
              "  </tbody>\n",
              "</table>\n",
              "</div>\n",
              "    <div class=\"colab-df-buttons\">\n",
              "\n",
              "  <div class=\"colab-df-container\">\n",
              "    <button class=\"colab-df-convert\" onclick=\"convertToInteractive('df-30089f18-ba4c-49df-a408-c97f18f8c30e')\"\n",
              "            title=\"Convert this dataframe to an interactive table.\"\n",
              "            style=\"display:none;\">\n",
              "\n",
              "  <svg xmlns=\"http://www.w3.org/2000/svg\" height=\"24px\" viewBox=\"0 -960 960 960\">\n",
              "    <path d=\"M120-120v-720h720v720H120Zm60-500h600v-160H180v160Zm220 220h160v-160H400v160Zm0 220h160v-160H400v160ZM180-400h160v-160H180v160Zm440 0h160v-160H620v160ZM180-180h160v-160H180v160Zm440 0h160v-160H620v160Z\"/>\n",
              "  </svg>\n",
              "    </button>\n",
              "\n",
              "  <style>\n",
              "    .colab-df-container {\n",
              "      display:flex;\n",
              "      gap: 12px;\n",
              "    }\n",
              "\n",
              "    .colab-df-convert {\n",
              "      background-color: #E8F0FE;\n",
              "      border: none;\n",
              "      border-radius: 50%;\n",
              "      cursor: pointer;\n",
              "      display: none;\n",
              "      fill: #1967D2;\n",
              "      height: 32px;\n",
              "      padding: 0 0 0 0;\n",
              "      width: 32px;\n",
              "    }\n",
              "\n",
              "    .colab-df-convert:hover {\n",
              "      background-color: #E2EBFA;\n",
              "      box-shadow: 0px 1px 2px rgba(60, 64, 67, 0.3), 0px 1px 3px 1px rgba(60, 64, 67, 0.15);\n",
              "      fill: #174EA6;\n",
              "    }\n",
              "\n",
              "    .colab-df-buttons div {\n",
              "      margin-bottom: 4px;\n",
              "    }\n",
              "\n",
              "    [theme=dark] .colab-df-convert {\n",
              "      background-color: #3B4455;\n",
              "      fill: #D2E3FC;\n",
              "    }\n",
              "\n",
              "    [theme=dark] .colab-df-convert:hover {\n",
              "      background-color: #434B5C;\n",
              "      box-shadow: 0px 1px 3px 1px rgba(0, 0, 0, 0.15);\n",
              "      filter: drop-shadow(0px 1px 2px rgba(0, 0, 0, 0.3));\n",
              "      fill: #FFFFFF;\n",
              "    }\n",
              "  </style>\n",
              "\n",
              "    <script>\n",
              "      const buttonEl =\n",
              "        document.querySelector('#df-30089f18-ba4c-49df-a408-c97f18f8c30e button.colab-df-convert');\n",
              "      buttonEl.style.display =\n",
              "        google.colab.kernel.accessAllowed ? 'block' : 'none';\n",
              "\n",
              "      async function convertToInteractive(key) {\n",
              "        const element = document.querySelector('#df-30089f18-ba4c-49df-a408-c97f18f8c30e');\n",
              "        const dataTable =\n",
              "          await google.colab.kernel.invokeFunction('convertToInteractive',\n",
              "                                                    [key], {});\n",
              "        if (!dataTable) return;\n",
              "\n",
              "        const docLinkHtml = 'Like what you see? Visit the ' +\n",
              "          '<a target=\"_blank\" href=https://colab.research.google.com/notebooks/data_table.ipynb>data table notebook</a>'\n",
              "          + ' to learn more about interactive tables.';\n",
              "        element.innerHTML = '';\n",
              "        dataTable['output_type'] = 'display_data';\n",
              "        await google.colab.output.renderOutput(dataTable, element);\n",
              "        const docLink = document.createElement('div');\n",
              "        docLink.innerHTML = docLinkHtml;\n",
              "        element.appendChild(docLink);\n",
              "      }\n",
              "    </script>\n",
              "  </div>\n",
              "\n",
              "\n",
              "<div id=\"df-74b418a6-fcb2-4044-b052-0bf53906613e\">\n",
              "  <button class=\"colab-df-quickchart\" onclick=\"quickchart('df-74b418a6-fcb2-4044-b052-0bf53906613e')\"\n",
              "            title=\"Suggest charts\"\n",
              "            style=\"display:none;\">\n",
              "\n",
              "<svg xmlns=\"http://www.w3.org/2000/svg\" height=\"24px\"viewBox=\"0 0 24 24\"\n",
              "     width=\"24px\">\n",
              "    <g>\n",
              "        <path d=\"M19 3H5c-1.1 0-2 .9-2 2v14c0 1.1.9 2 2 2h14c1.1 0 2-.9 2-2V5c0-1.1-.9-2-2-2zM9 17H7v-7h2v7zm4 0h-2V7h2v10zm4 0h-2v-4h2v4z\"/>\n",
              "    </g>\n",
              "</svg>\n",
              "  </button>\n",
              "\n",
              "<style>\n",
              "  .colab-df-quickchart {\n",
              "      --bg-color: #E8F0FE;\n",
              "      --fill-color: #1967D2;\n",
              "      --hover-bg-color: #E2EBFA;\n",
              "      --hover-fill-color: #174EA6;\n",
              "      --disabled-fill-color: #AAA;\n",
              "      --disabled-bg-color: #DDD;\n",
              "  }\n",
              "\n",
              "  [theme=dark] .colab-df-quickchart {\n",
              "      --bg-color: #3B4455;\n",
              "      --fill-color: #D2E3FC;\n",
              "      --hover-bg-color: #434B5C;\n",
              "      --hover-fill-color: #FFFFFF;\n",
              "      --disabled-bg-color: #3B4455;\n",
              "      --disabled-fill-color: #666;\n",
              "  }\n",
              "\n",
              "  .colab-df-quickchart {\n",
              "    background-color: var(--bg-color);\n",
              "    border: none;\n",
              "    border-radius: 50%;\n",
              "    cursor: pointer;\n",
              "    display: none;\n",
              "    fill: var(--fill-color);\n",
              "    height: 32px;\n",
              "    padding: 0;\n",
              "    width: 32px;\n",
              "  }\n",
              "\n",
              "  .colab-df-quickchart:hover {\n",
              "    background-color: var(--hover-bg-color);\n",
              "    box-shadow: 0 1px 2px rgba(60, 64, 67, 0.3), 0 1px 3px 1px rgba(60, 64, 67, 0.15);\n",
              "    fill: var(--button-hover-fill-color);\n",
              "  }\n",
              "\n",
              "  .colab-df-quickchart-complete:disabled,\n",
              "  .colab-df-quickchart-complete:disabled:hover {\n",
              "    background-color: var(--disabled-bg-color);\n",
              "    fill: var(--disabled-fill-color);\n",
              "    box-shadow: none;\n",
              "  }\n",
              "\n",
              "  .colab-df-spinner {\n",
              "    border: 2px solid var(--fill-color);\n",
              "    border-color: transparent;\n",
              "    border-bottom-color: var(--fill-color);\n",
              "    animation:\n",
              "      spin 1s steps(1) infinite;\n",
              "  }\n",
              "\n",
              "  @keyframes spin {\n",
              "    0% {\n",
              "      border-color: transparent;\n",
              "      border-bottom-color: var(--fill-color);\n",
              "      border-left-color: var(--fill-color);\n",
              "    }\n",
              "    20% {\n",
              "      border-color: transparent;\n",
              "      border-left-color: var(--fill-color);\n",
              "      border-top-color: var(--fill-color);\n",
              "    }\n",
              "    30% {\n",
              "      border-color: transparent;\n",
              "      border-left-color: var(--fill-color);\n",
              "      border-top-color: var(--fill-color);\n",
              "      border-right-color: var(--fill-color);\n",
              "    }\n",
              "    40% {\n",
              "      border-color: transparent;\n",
              "      border-right-color: var(--fill-color);\n",
              "      border-top-color: var(--fill-color);\n",
              "    }\n",
              "    60% {\n",
              "      border-color: transparent;\n",
              "      border-right-color: var(--fill-color);\n",
              "    }\n",
              "    80% {\n",
              "      border-color: transparent;\n",
              "      border-right-color: var(--fill-color);\n",
              "      border-bottom-color: var(--fill-color);\n",
              "    }\n",
              "    90% {\n",
              "      border-color: transparent;\n",
              "      border-bottom-color: var(--fill-color);\n",
              "    }\n",
              "  }\n",
              "</style>\n",
              "\n",
              "  <script>\n",
              "    async function quickchart(key) {\n",
              "      const quickchartButtonEl =\n",
              "        document.querySelector('#' + key + ' button');\n",
              "      quickchartButtonEl.disabled = true;  // To prevent multiple clicks.\n",
              "      quickchartButtonEl.classList.add('colab-df-spinner');\n",
              "      try {\n",
              "        const charts = await google.colab.kernel.invokeFunction(\n",
              "            'suggestCharts', [key], {});\n",
              "      } catch (error) {\n",
              "        console.error('Error during call to suggestCharts:', error);\n",
              "      }\n",
              "      quickchartButtonEl.classList.remove('colab-df-spinner');\n",
              "      quickchartButtonEl.classList.add('colab-df-quickchart-complete');\n",
              "    }\n",
              "    (() => {\n",
              "      let quickchartButtonEl =\n",
              "        document.querySelector('#df-74b418a6-fcb2-4044-b052-0bf53906613e button');\n",
              "      quickchartButtonEl.style.display =\n",
              "        google.colab.kernel.accessAllowed ? 'block' : 'none';\n",
              "    })();\n",
              "  </script>\n",
              "</div>\n",
              "\n",
              "    </div>\n",
              "  </div>\n"
            ],
            "application/vnd.google.colaboratory.intrinsic+json": {
              "type": "dataframe",
              "variable_name": "df",
              "summary": "{\n  \"name\": \"df\",\n  \"rows\": 1000,\n  \"fields\": [\n    {\n      \"column\": \"Feature_1\",\n      \"properties\": {\n        \"dtype\": \"number\",\n        \"std\": 1.0714569315977736,\n        \"min\": -2.472717702217064,\n        \"max\": 4.138715401007325,\n        \"num_unique_values\": 1000,\n        \"samples\": [\n          1.1992559530937783,\n          -0.754406799818248,\n          0.9684204319145272\n        ],\n        \"semantic_type\": \"\",\n        \"description\": \"\"\n      }\n    },\n    {\n      \"column\": \"Feature_2\",\n      \"properties\": {\n        \"dtype\": \"number\",\n        \"std\": 1.2253779533983864,\n        \"min\": -2.850971449868199,\n        \"max\": 3.3428640695115917,\n        \"num_unique_values\": 1000,\n        \"samples\": [\n          0.5298011758785475,\n          -1.9574384670977232,\n          -0.5409698353978326\n        ],\n        \"semantic_type\": \"\",\n        \"description\": \"\"\n      }\n    },\n    {\n      \"column\": \"Class\",\n      \"properties\": {\n        \"dtype\": \"number\",\n        \"std\": 0,\n        \"min\": 0,\n        \"max\": 1,\n        \"num_unique_values\": 2,\n        \"samples\": [\n          0,\n          1\n        ],\n        \"semantic_type\": \"\",\n        \"description\": \"\"\n      }\n    }\n  ]\n}"
            }
          },
          "metadata": {},
          "execution_count": 20
        }
      ]
    },
    {
      "cell_type": "code",
      "source": [
        "# get our parameters\n",
        "from statsmodels.formula.api import logit\n",
        "\n",
        "model = logit(formula='Class ~ Feature_1 + Feature_2', data=df).fit()\n",
        "model.summary()"
      ],
      "metadata": {
        "colab": {
          "base_uri": "https://localhost:8080/",
          "height": 322
        },
        "id": "o94WaE3HSvj0",
        "outputId": "7e2f5f8d-7e61-428c-f6d0-772b70bb2162"
      },
      "id": "o94WaE3HSvj0",
      "execution_count": 21,
      "outputs": [
        {
          "output_type": "stream",
          "name": "stdout",
          "text": [
            "Optimization terminated successfully.\n",
            "         Current function value: 0.242088\n",
            "         Iterations 8\n"
          ]
        },
        {
          "output_type": "execute_result",
          "data": {
            "text/plain": [
              "<class 'statsmodels.iolib.summary.Summary'>\n",
              "\"\"\"\n",
              "                           Logit Regression Results                           \n",
              "==============================================================================\n",
              "Dep. Variable:                  Class   No. Observations:                 1000\n",
              "Model:                          Logit   Df Residuals:                      997\n",
              "Method:                           MLE   Df Model:                            2\n",
              "Date:                Sat, 29 Jun 2024   Pseudo R-squ.:                  0.6507\n",
              "Time:                        18:43:05   Log-Likelihood:                -242.09\n",
              "converged:                       True   LL-Null:                       -693.15\n",
              "Covariance Type:            nonrobust   LLR p-value:                1.283e-196\n",
              "==============================================================================\n",
              "                 coef    std err          z      P>|z|      [0.025      0.975]\n",
              "------------------------------------------------------------------------------\n",
              "Intercept      1.1197      0.365      3.070      0.002       0.405       1.834\n",
              "Feature_1     -0.4561      0.171     -2.673      0.008      -0.790      -0.122\n",
              "Feature_2      3.4780      0.237     14.649      0.000       3.013       3.943\n",
              "==============================================================================\n",
              "\"\"\""
            ],
            "text/html": [
              "<table class=\"simpletable\">\n",
              "<caption>Logit Regression Results</caption>\n",
              "<tr>\n",
              "  <th>Dep. Variable:</th>         <td>Class</td>      <th>  No. Observations:  </th>   <td>  1000</td>  \n",
              "</tr>\n",
              "<tr>\n",
              "  <th>Model:</th>                 <td>Logit</td>      <th>  Df Residuals:      </th>   <td>   997</td>  \n",
              "</tr>\n",
              "<tr>\n",
              "  <th>Method:</th>                 <td>MLE</td>       <th>  Df Model:          </th>   <td>     2</td>  \n",
              "</tr>\n",
              "<tr>\n",
              "  <th>Date:</th>            <td>Sat, 29 Jun 2024</td> <th>  Pseudo R-squ.:     </th>   <td>0.6507</td>  \n",
              "</tr>\n",
              "<tr>\n",
              "  <th>Time:</th>                <td>18:43:05</td>     <th>  Log-Likelihood:    </th>  <td> -242.09</td> \n",
              "</tr>\n",
              "<tr>\n",
              "  <th>converged:</th>             <td>True</td>       <th>  LL-Null:           </th>  <td> -693.15</td> \n",
              "</tr>\n",
              "<tr>\n",
              "  <th>Covariance Type:</th>     <td>nonrobust</td>    <th>  LLR p-value:       </th> <td>1.283e-196</td>\n",
              "</tr>\n",
              "</table>\n",
              "<table class=\"simpletable\">\n",
              "<tr>\n",
              "      <td></td>         <th>coef</th>     <th>std err</th>      <th>z</th>      <th>P>|z|</th>  <th>[0.025</th>    <th>0.975]</th>  \n",
              "</tr>\n",
              "<tr>\n",
              "  <th>Intercept</th> <td>    1.1197</td> <td>    0.365</td> <td>    3.070</td> <td> 0.002</td> <td>    0.405</td> <td>    1.834</td>\n",
              "</tr>\n",
              "<tr>\n",
              "  <th>Feature_1</th> <td>   -0.4561</td> <td>    0.171</td> <td>   -2.673</td> <td> 0.008</td> <td>   -0.790</td> <td>   -0.122</td>\n",
              "</tr>\n",
              "<tr>\n",
              "  <th>Feature_2</th> <td>    3.4780</td> <td>    0.237</td> <td>   14.649</td> <td> 0.000</td> <td>    3.013</td> <td>    3.943</td>\n",
              "</tr>\n",
              "</table>"
            ],
            "text/latex": "\\begin{center}\n\\begin{tabular}{lclc}\n\\toprule\n\\textbf{Dep. Variable:}   &      Class       & \\textbf{  No. Observations:  } &     1000    \\\\\n\\textbf{Model:}           &      Logit       & \\textbf{  Df Residuals:      } &      997    \\\\\n\\textbf{Method:}          &       MLE        & \\textbf{  Df Model:          } &        2    \\\\\n\\textbf{Date:}            & Sat, 29 Jun 2024 & \\textbf{  Pseudo R-squ.:     } &   0.6507    \\\\\n\\textbf{Time:}            &     18:43:05     & \\textbf{  Log-Likelihood:    } &   -242.09   \\\\\n\\textbf{converged:}       &       True       & \\textbf{  LL-Null:           } &   -693.15   \\\\\n\\textbf{Covariance Type:} &    nonrobust     & \\textbf{  LLR p-value:       } & 1.283e-196  \\\\\n\\bottomrule\n\\end{tabular}\n\\begin{tabular}{lcccccc}\n                    & \\textbf{coef} & \\textbf{std err} & \\textbf{z} & \\textbf{P$> |$z$|$} & \\textbf{[0.025} & \\textbf{0.975]}  \\\\\n\\midrule\n\\textbf{Intercept}  &       1.1197  &        0.365     &     3.070  &         0.002        &        0.405    &        1.834     \\\\\n\\textbf{Feature\\_1} &      -0.4561  &        0.171     &    -2.673  &         0.008        &       -0.790    &       -0.122     \\\\\n\\textbf{Feature\\_2} &       3.4780  &        0.237     &    14.649  &         0.000        &        3.013    &        3.943     \\\\\n\\bottomrule\n\\end{tabular}\n%\\caption{Logit Regression Results}\n\\end{center}"
          },
          "metadata": {},
          "execution_count": 21
        }
      ]
    },
    {
      "cell_type": "code",
      "source": [
        "import numpy as np\n",
        "import math\n",
        "\n",
        "print(model.params)\n",
        "def logistic_function(row):\n",
        "    b0 = model.params.Intercept\n",
        "    b1 = model.params.Feature_1\n",
        "    b2 = model.params.Feature_2\n",
        "\n",
        "    x1 = row['Feature_1']\n",
        "    x2 = row['Feature_2']\n",
        "\n",
        "    return 1 / (1 + np.exp(-(b0+(b1*x1)+(b2*x2))))\n",
        "\n",
        "df['p'] = df.apply(logistic_function, axis=1)\n",
        "df['Predicted'] =  df['p'].apply(lambda x: 0 if x < .5 else 1)\n",
        "df['Odds'] = df['p']/(1 - df['p'])\n",
        "df['Log Odds'] = df['Odds'].apply(lambda x: math.log(x))\n",
        "df.head()"
      ],
      "metadata": {
        "colab": {
          "base_uri": "https://localhost:8080/",
          "height": 279
        },
        "id": "8_VB-wGySu31",
        "outputId": "3d55d6b8-1999-491f-be24-215a7181532f"
      },
      "id": "8_VB-wGySu31",
      "execution_count": 23,
      "outputs": [
        {
          "output_type": "stream",
          "name": "stdout",
          "text": [
            "Intercept    1.119669\n",
            "Feature_1   -0.456101\n",
            "Feature_2    3.478029\n",
            "dtype: float64\n"
          ]
        },
        {
          "output_type": "execute_result",
          "data": {
            "text/plain": [
              "   Feature_1  Feature_2  Class         p  Predicted        Odds  Log Odds\n",
              "0   0.601034   1.535353      1  0.997945          1  485.673902  6.185537\n",
              "1   0.755945  -1.172352      0  0.035482          0    0.036788 -3.302593\n",
              "2   1.354479  -0.948528      0  0.057480          0    0.060985 -2.797120\n",
              "3   3.103090   0.233485      0  0.626309          1    1.676007  0.516414\n",
              "4   0.753178   0.787514      1  0.971116          1   33.620678  3.515141"
            ],
            "text/html": [
              "\n",
              "  <div id=\"df-ff4183f1-5d14-4c32-a651-d7accf118383\" class=\"colab-df-container\">\n",
              "    <div>\n",
              "<style scoped>\n",
              "    .dataframe tbody tr th:only-of-type {\n",
              "        vertical-align: middle;\n",
              "    }\n",
              "\n",
              "    .dataframe tbody tr th {\n",
              "        vertical-align: top;\n",
              "    }\n",
              "\n",
              "    .dataframe thead th {\n",
              "        text-align: right;\n",
              "    }\n",
              "</style>\n",
              "<table border=\"1\" class=\"dataframe\">\n",
              "  <thead>\n",
              "    <tr style=\"text-align: right;\">\n",
              "      <th></th>\n",
              "      <th>Feature_1</th>\n",
              "      <th>Feature_2</th>\n",
              "      <th>Class</th>\n",
              "      <th>p</th>\n",
              "      <th>Predicted</th>\n",
              "      <th>Odds</th>\n",
              "      <th>Log Odds</th>\n",
              "    </tr>\n",
              "  </thead>\n",
              "  <tbody>\n",
              "    <tr>\n",
              "      <th>0</th>\n",
              "      <td>0.601034</td>\n",
              "      <td>1.535353</td>\n",
              "      <td>1</td>\n",
              "      <td>0.997945</td>\n",
              "      <td>1</td>\n",
              "      <td>485.673902</td>\n",
              "      <td>6.185537</td>\n",
              "    </tr>\n",
              "    <tr>\n",
              "      <th>1</th>\n",
              "      <td>0.755945</td>\n",
              "      <td>-1.172352</td>\n",
              "      <td>0</td>\n",
              "      <td>0.035482</td>\n",
              "      <td>0</td>\n",
              "      <td>0.036788</td>\n",
              "      <td>-3.302593</td>\n",
              "    </tr>\n",
              "    <tr>\n",
              "      <th>2</th>\n",
              "      <td>1.354479</td>\n",
              "      <td>-0.948528</td>\n",
              "      <td>0</td>\n",
              "      <td>0.057480</td>\n",
              "      <td>0</td>\n",
              "      <td>0.060985</td>\n",
              "      <td>-2.797120</td>\n",
              "    </tr>\n",
              "    <tr>\n",
              "      <th>3</th>\n",
              "      <td>3.103090</td>\n",
              "      <td>0.233485</td>\n",
              "      <td>0</td>\n",
              "      <td>0.626309</td>\n",
              "      <td>1</td>\n",
              "      <td>1.676007</td>\n",
              "      <td>0.516414</td>\n",
              "    </tr>\n",
              "    <tr>\n",
              "      <th>4</th>\n",
              "      <td>0.753178</td>\n",
              "      <td>0.787514</td>\n",
              "      <td>1</td>\n",
              "      <td>0.971116</td>\n",
              "      <td>1</td>\n",
              "      <td>33.620678</td>\n",
              "      <td>3.515141</td>\n",
              "    </tr>\n",
              "  </tbody>\n",
              "</table>\n",
              "</div>\n",
              "    <div class=\"colab-df-buttons\">\n",
              "\n",
              "  <div class=\"colab-df-container\">\n",
              "    <button class=\"colab-df-convert\" onclick=\"convertToInteractive('df-ff4183f1-5d14-4c32-a651-d7accf118383')\"\n",
              "            title=\"Convert this dataframe to an interactive table.\"\n",
              "            style=\"display:none;\">\n",
              "\n",
              "  <svg xmlns=\"http://www.w3.org/2000/svg\" height=\"24px\" viewBox=\"0 -960 960 960\">\n",
              "    <path d=\"M120-120v-720h720v720H120Zm60-500h600v-160H180v160Zm220 220h160v-160H400v160Zm0 220h160v-160H400v160ZM180-400h160v-160H180v160Zm440 0h160v-160H620v160ZM180-180h160v-160H180v160Zm440 0h160v-160H620v160Z\"/>\n",
              "  </svg>\n",
              "    </button>\n",
              "\n",
              "  <style>\n",
              "    .colab-df-container {\n",
              "      display:flex;\n",
              "      gap: 12px;\n",
              "    }\n",
              "\n",
              "    .colab-df-convert {\n",
              "      background-color: #E8F0FE;\n",
              "      border: none;\n",
              "      border-radius: 50%;\n",
              "      cursor: pointer;\n",
              "      display: none;\n",
              "      fill: #1967D2;\n",
              "      height: 32px;\n",
              "      padding: 0 0 0 0;\n",
              "      width: 32px;\n",
              "    }\n",
              "\n",
              "    .colab-df-convert:hover {\n",
              "      background-color: #E2EBFA;\n",
              "      box-shadow: 0px 1px 2px rgba(60, 64, 67, 0.3), 0px 1px 3px 1px rgba(60, 64, 67, 0.15);\n",
              "      fill: #174EA6;\n",
              "    }\n",
              "\n",
              "    .colab-df-buttons div {\n",
              "      margin-bottom: 4px;\n",
              "    }\n",
              "\n",
              "    [theme=dark] .colab-df-convert {\n",
              "      background-color: #3B4455;\n",
              "      fill: #D2E3FC;\n",
              "    }\n",
              "\n",
              "    [theme=dark] .colab-df-convert:hover {\n",
              "      background-color: #434B5C;\n",
              "      box-shadow: 0px 1px 3px 1px rgba(0, 0, 0, 0.15);\n",
              "      filter: drop-shadow(0px 1px 2px rgba(0, 0, 0, 0.3));\n",
              "      fill: #FFFFFF;\n",
              "    }\n",
              "  </style>\n",
              "\n",
              "    <script>\n",
              "      const buttonEl =\n",
              "        document.querySelector('#df-ff4183f1-5d14-4c32-a651-d7accf118383 button.colab-df-convert');\n",
              "      buttonEl.style.display =\n",
              "        google.colab.kernel.accessAllowed ? 'block' : 'none';\n",
              "\n",
              "      async function convertToInteractive(key) {\n",
              "        const element = document.querySelector('#df-ff4183f1-5d14-4c32-a651-d7accf118383');\n",
              "        const dataTable =\n",
              "          await google.colab.kernel.invokeFunction('convertToInteractive',\n",
              "                                                    [key], {});\n",
              "        if (!dataTable) return;\n",
              "\n",
              "        const docLinkHtml = 'Like what you see? Visit the ' +\n",
              "          '<a target=\"_blank\" href=https://colab.research.google.com/notebooks/data_table.ipynb>data table notebook</a>'\n",
              "          + ' to learn more about interactive tables.';\n",
              "        element.innerHTML = '';\n",
              "        dataTable['output_type'] = 'display_data';\n",
              "        await google.colab.output.renderOutput(dataTable, element);\n",
              "        const docLink = document.createElement('div');\n",
              "        docLink.innerHTML = docLinkHtml;\n",
              "        element.appendChild(docLink);\n",
              "      }\n",
              "    </script>\n",
              "  </div>\n",
              "\n",
              "\n",
              "<div id=\"df-686ef0a9-f3da-49c9-a6d0-a1bad3cdc84f\">\n",
              "  <button class=\"colab-df-quickchart\" onclick=\"quickchart('df-686ef0a9-f3da-49c9-a6d0-a1bad3cdc84f')\"\n",
              "            title=\"Suggest charts\"\n",
              "            style=\"display:none;\">\n",
              "\n",
              "<svg xmlns=\"http://www.w3.org/2000/svg\" height=\"24px\"viewBox=\"0 0 24 24\"\n",
              "     width=\"24px\">\n",
              "    <g>\n",
              "        <path d=\"M19 3H5c-1.1 0-2 .9-2 2v14c0 1.1.9 2 2 2h14c1.1 0 2-.9 2-2V5c0-1.1-.9-2-2-2zM9 17H7v-7h2v7zm4 0h-2V7h2v10zm4 0h-2v-4h2v4z\"/>\n",
              "    </g>\n",
              "</svg>\n",
              "  </button>\n",
              "\n",
              "<style>\n",
              "  .colab-df-quickchart {\n",
              "      --bg-color: #E8F0FE;\n",
              "      --fill-color: #1967D2;\n",
              "      --hover-bg-color: #E2EBFA;\n",
              "      --hover-fill-color: #174EA6;\n",
              "      --disabled-fill-color: #AAA;\n",
              "      --disabled-bg-color: #DDD;\n",
              "  }\n",
              "\n",
              "  [theme=dark] .colab-df-quickchart {\n",
              "      --bg-color: #3B4455;\n",
              "      --fill-color: #D2E3FC;\n",
              "      --hover-bg-color: #434B5C;\n",
              "      --hover-fill-color: #FFFFFF;\n",
              "      --disabled-bg-color: #3B4455;\n",
              "      --disabled-fill-color: #666;\n",
              "  }\n",
              "\n",
              "  .colab-df-quickchart {\n",
              "    background-color: var(--bg-color);\n",
              "    border: none;\n",
              "    border-radius: 50%;\n",
              "    cursor: pointer;\n",
              "    display: none;\n",
              "    fill: var(--fill-color);\n",
              "    height: 32px;\n",
              "    padding: 0;\n",
              "    width: 32px;\n",
              "  }\n",
              "\n",
              "  .colab-df-quickchart:hover {\n",
              "    background-color: var(--hover-bg-color);\n",
              "    box-shadow: 0 1px 2px rgba(60, 64, 67, 0.3), 0 1px 3px 1px rgba(60, 64, 67, 0.15);\n",
              "    fill: var(--button-hover-fill-color);\n",
              "  }\n",
              "\n",
              "  .colab-df-quickchart-complete:disabled,\n",
              "  .colab-df-quickchart-complete:disabled:hover {\n",
              "    background-color: var(--disabled-bg-color);\n",
              "    fill: var(--disabled-fill-color);\n",
              "    box-shadow: none;\n",
              "  }\n",
              "\n",
              "  .colab-df-spinner {\n",
              "    border: 2px solid var(--fill-color);\n",
              "    border-color: transparent;\n",
              "    border-bottom-color: var(--fill-color);\n",
              "    animation:\n",
              "      spin 1s steps(1) infinite;\n",
              "  }\n",
              "\n",
              "  @keyframes spin {\n",
              "    0% {\n",
              "      border-color: transparent;\n",
              "      border-bottom-color: var(--fill-color);\n",
              "      border-left-color: var(--fill-color);\n",
              "    }\n",
              "    20% {\n",
              "      border-color: transparent;\n",
              "      border-left-color: var(--fill-color);\n",
              "      border-top-color: var(--fill-color);\n",
              "    }\n",
              "    30% {\n",
              "      border-color: transparent;\n",
              "      border-left-color: var(--fill-color);\n",
              "      border-top-color: var(--fill-color);\n",
              "      border-right-color: var(--fill-color);\n",
              "    }\n",
              "    40% {\n",
              "      border-color: transparent;\n",
              "      border-right-color: var(--fill-color);\n",
              "      border-top-color: var(--fill-color);\n",
              "    }\n",
              "    60% {\n",
              "      border-color: transparent;\n",
              "      border-right-color: var(--fill-color);\n",
              "    }\n",
              "    80% {\n",
              "      border-color: transparent;\n",
              "      border-right-color: var(--fill-color);\n",
              "      border-bottom-color: var(--fill-color);\n",
              "    }\n",
              "    90% {\n",
              "      border-color: transparent;\n",
              "      border-bottom-color: var(--fill-color);\n",
              "    }\n",
              "  }\n",
              "</style>\n",
              "\n",
              "  <script>\n",
              "    async function quickchart(key) {\n",
              "      const quickchartButtonEl =\n",
              "        document.querySelector('#' + key + ' button');\n",
              "      quickchartButtonEl.disabled = true;  // To prevent multiple clicks.\n",
              "      quickchartButtonEl.classList.add('colab-df-spinner');\n",
              "      try {\n",
              "        const charts = await google.colab.kernel.invokeFunction(\n",
              "            'suggestCharts', [key], {});\n",
              "      } catch (error) {\n",
              "        console.error('Error during call to suggestCharts:', error);\n",
              "      }\n",
              "      quickchartButtonEl.classList.remove('colab-df-spinner');\n",
              "      quickchartButtonEl.classList.add('colab-df-quickchart-complete');\n",
              "    }\n",
              "    (() => {\n",
              "      let quickchartButtonEl =\n",
              "        document.querySelector('#df-686ef0a9-f3da-49c9-a6d0-a1bad3cdc84f button');\n",
              "      quickchartButtonEl.style.display =\n",
              "        google.colab.kernel.accessAllowed ? 'block' : 'none';\n",
              "    })();\n",
              "  </script>\n",
              "</div>\n",
              "\n",
              "    </div>\n",
              "  </div>\n"
            ],
            "application/vnd.google.colaboratory.intrinsic+json": {
              "type": "dataframe",
              "variable_name": "df",
              "summary": "{\n  \"name\": \"df\",\n  \"rows\": 1000,\n  \"fields\": [\n    {\n      \"column\": \"Feature_1\",\n      \"properties\": {\n        \"dtype\": \"number\",\n        \"std\": 1.0714569315977736,\n        \"min\": -2.472717702217064,\n        \"max\": 4.138715401007325,\n        \"num_unique_values\": 1000,\n        \"samples\": [\n          1.1992559530937783,\n          -0.754406799818248,\n          0.9684204319145272\n        ],\n        \"semantic_type\": \"\",\n        \"description\": \"\"\n      }\n    },\n    {\n      \"column\": \"Feature_2\",\n      \"properties\": {\n        \"dtype\": \"number\",\n        \"std\": 1.2253779533983864,\n        \"min\": -2.850971449868199,\n        \"max\": 3.3428640695115917,\n        \"num_unique_values\": 1000,\n        \"samples\": [\n          0.5298011758785475,\n          -1.9574384670977232,\n          -0.5409698353978326\n        ],\n        \"semantic_type\": \"\",\n        \"description\": \"\"\n      }\n    },\n    {\n      \"column\": \"Class\",\n      \"properties\": {\n        \"dtype\": \"number\",\n        \"std\": 0,\n        \"min\": 0,\n        \"max\": 1,\n        \"num_unique_values\": 2,\n        \"samples\": [\n          0,\n          1\n        ],\n        \"semantic_type\": \"\",\n        \"description\": \"\"\n      }\n    },\n    {\n      \"column\": \"p\",\n      \"properties\": {\n        \"dtype\": \"number\",\n        \"std\": 0.4201425927559467,\n        \"min\": 0.0004576429544288134,\n        \"max\": 0.9999986779855836,\n        \"num_unique_values\": 1000,\n        \"samples\": [\n          0.9179904302091084,\n          0.004752719358495132\n        ],\n        \"semantic_type\": \"\",\n        \"description\": \"\"\n      }\n    },\n    {\n      \"column\": \"Predicted\",\n      \"properties\": {\n        \"dtype\": \"number\",\n        \"std\": 0,\n        \"min\": 0,\n        \"max\": 1,\n        \"num_unique_values\": 2,\n        \"samples\": [\n          0,\n          1\n        ],\n        \"semantic_type\": \"\",\n        \"description\": \"\"\n      }\n    },\n    {\n      \"column\": \"Odds\",\n      \"properties\": {\n        \"dtype\": \"number\",\n        \"std\": 39433.427775684286,\n        \"min\": 0.0004578524873938369,\n        \"max\": 756420.4032825208,\n        \"num_unique_values\": 1000,\n        \"samples\": [\n          11.19369888843223,\n          0.00477541556851246\n        ],\n        \"semantic_type\": \"\",\n        \"description\": \"\"\n      }\n    },\n    {\n      \"column\": \"Log Odds\",\n      \"properties\": {\n        \"dtype\": \"number\",\n        \"std\": 4.279382463488977,\n        \"min\": -7.688963505655089,\n        \"max\": 13.536352589599524,\n        \"num_unique_values\": 1000,\n        \"samples\": [\n          2.4153510207355877,\n          -5.3442742787813735\n        ],\n        \"semantic_type\": \"\",\n        \"description\": \"\"\n      }\n    }\n  ]\n}"
            }
          },
          "metadata": {},
          "execution_count": 23
        }
      ]
    },
    {
      "cell_type": "code",
      "source": [
        "import matplotlib.pyplot as plt\n",
        "\n",
        "df.plot.scatter(x='Log Odds', y='p', marker='.', s=.5, label='Sigmoid X values', c=df['Log Odds'])\n",
        "plt.axhline(y=.5, color='red', linestyle='dashed', label='Threshold')\n",
        "plt.axvline(x=0, color='green', linestyle='dashed', label='Sigmoid Midpoint')\n",
        "plt.legend()\n",
        "plt.show()"
      ],
      "metadata": {
        "colab": {
          "base_uri": "https://localhost:8080/",
          "height": 449
        },
        "id": "kRwV975ST-lO",
        "outputId": "29e39ebc-a870-4019-f9e9-8e16456bbbce"
      },
      "id": "kRwV975ST-lO",
      "execution_count": 24,
      "outputs": [
        {
          "output_type": "display_data",
          "data": {
            "text/plain": [
              "<Figure size 640x480 with 1 Axes>"
            ],
            "image/png": "[encoded data removed]"
          },
          "metadata": {}
        }
      ]
    },
    {
      "cell_type": "markdown",
      "source": [
        "## Trees\n",
        "\n",
        "Decision trees are able to handle missing values and outliers in the data much better then a logistic regression. A decision tree is not affected by outliers because it splits the data based on the feature values."
      ],
      "metadata": {
        "id": "QBQQ0spNUPkl"
      },
      "id": "QBQQ0spNUPkl"
    },
    {
      "cell_type": "markdown",
      "source": [
        "## Pipelines"
      ],
      "metadata": {
        "id": "NqjjOx1IURq9"
      },
      "id": "NqjjOx1IURq9"
    },
    {
      "cell_type": "code",
      "source": [
        "!git clone https://github.com/gitmystuff/preppy.git"
      ],
      "metadata": {
        "colab": {
          "base_uri": "https://localhost:8080/"
        },
        "id": "iqcEMMj3Vzad",
        "outputId": "69aff008-d8cd-4333-d14a-a2a7d0ab6830"
      },
      "id": "iqcEMMj3Vzad",
      "execution_count": 25,
      "outputs": [
        {
          "output_type": "stream",
          "name": "stdout",
          "text": [
            "Cloning into 'preppy'...\n",
            "remote: Enumerating objects: 52, done.\u001b[K\n",
            "remote: Counting objects: 100% (52/52), done.\u001b[K\n",
            "remote: Compressing objects: 100% (41/41), done.\u001b[K\n",
            "Receiving objects: 100% (52/52), 21.79 KiB | 7.26 MiB/s, done.\n",
            "Resolving deltas: 100% (23/23), done.\n",
            "remote: Total 52 (delta 23), reused 19 (delta 8), pack-reused 0\u001b[K\n"
          ]
        }
      ]
    },
    {
      "cell_type": "code",
      "source": [
        "import pandas as pd\n",
        "from sklearn.linear_model import Lasso\n",
        "from sklearn.pipeline import Pipeline\n",
        "from sklearn.preprocessing import StandardScaler\n",
        "from sklearn.model_selection import train_test_split\n",
        "from sklearn.base import BaseEstimator, TransformerMixin\n",
        "import preppy.utils as utils\n",
        "\n",
        "class DoPreppy(BaseEstimator, TransformerMixin):\n",
        "  def __init__(self):\n",
        "    pass\n",
        "\n",
        "  def fit(self, X, y):\n",
        "    return self\n",
        "\n",
        "  def transform(self, X):\n",
        "\n",
        "    if isinstance(X, np.ndarray):  # Check if X is a NumPy array\n",
        "        X = pd.DataFrame(X)\n",
        "\n",
        "    consts = utils.functions.identify_consts(X)\n",
        "    X.drop(consts, axis=1, inplace=True)\n",
        "    quasi_consts = utils.functions.identify_quasi_consts(X)\n",
        "    X.drop(quasi_consts, axis=1, inplace=True)\n",
        "    duplicate_features = utils.functions.check_col_duplicates(X)\n",
        "    X.drop(duplicate_features, axis=1, inplace=True)\n",
        "    X = utils.functions.handle_missing_values(X)\n",
        "    return X.values\n",
        "\n",
        "url = 'https://raw.githubusercontent.com/gitmystuff/Datasets/main/Advertising.csv'\n",
        "df = pd.read_csv(url, usecols=['TV', 'radio', 'newspaper', 'sales'])\n",
        "\n",
        "X_train, X_test, y_train, y_test = train_test_split(df.drop(['sales'], axis=1),\n",
        "                                                    df['sales'],\n",
        "                                                    test_size=0.20,\n",
        "                                                    random_state=42)\n",
        "\n",
        "\n",
        "pipe = [\n",
        "    ('preppy', DoPreppy()),\n",
        "    ('scalar', StandardScaler()),\n",
        "    ('model', Lasso(alpha=1, fit_intercept=True))\n",
        "]\n",
        "\n",
        "pipe_model = Pipeline(pipe)\n",
        "pipe_model.fit(X_train, y_train)\n",
        "\n",
        "d = {'Feature': X_train.columns, 'Coef': pipe_model['model'].coef_}\n",
        "pipe_df = pd.DataFrame(d)\n",
        "print(pipe_df)\n",
        "print()\n",
        "print(f'Training Score: {pipe_model.score(X_train.values, y_train.values)}')\n",
        "print(f'Test Score: {pipe_model.score(X_test, y_test)}')"
      ],
      "metadata": {
        "colab": {
          "base_uri": "https://localhost:8080/"
        },
        "id": "-jj9s-ARUVsk",
        "outputId": "8f6d32aa-ca1e-4417-d5c5-5cac5ebe2c5c"
      },
      "id": "-jj9s-ARUVsk",
      "execution_count": 32,
      "outputs": [
        {
          "output_type": "stream",
          "name": "stdout",
          "text": [
            "     Feature      Coef\n",
            "0         TV  2.815212\n",
            "1      radio  1.865153\n",
            "2  newspaper  0.000000\n",
            "\n",
            "Training Score: 0.8224279248210367\n",
            "Test Score: 0.8179966490329236\n"
          ]
        }
      ]
    }
  ],
  "metadata": {
    "kernelspec": {
      "display_name": "Python 3 (ipykernel)",
      "language": "python",
      "name": "python3"
    },
    "language_info": {
      "codemirror_mode": {
        "name": "ipython",
        "version": 3
      },
      "file_extension": ".py",
      "mimetype": "text/x-python",
      "name": "python",
      "nbconvert_exporter": "python",
      "pygments_lexer": "ipython3",
      "version": "3.9.7"
    },
    "colab": {
      "provenance": [],
      "toc_visible": true,
      "include_colab_link": true
    }
  },
  "nbformat": 4,
  "nbformat_minor": 5
}