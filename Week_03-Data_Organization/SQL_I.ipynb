{
  "cells": [
    {
      "cell_type": "markdown",
      "metadata": {
        "id": "view-in-github",
        "colab_type": "text"
      },
      "source": [
        "<a href=\"https://colab.research.google.com/github/gitmystuff/DTSC5810/blob/main/Week_03-Data_Organization/SQL_I.ipynb\" target=\"_parent\"><img src=\"https://colab.research.google.com/assets/colab-badge.svg\" alt=\"Open In Colab\"/></a>"
      ]
    },
    {
      "cell_type": "markdown",
      "source": [
        "# SQL I"
      ],
      "metadata": {
        "id": "MNeBEoHVe5NL"
      },
      "id": "MNeBEoHVe5NL"
    },
    {
      "cell_type": "markdown",
      "source": [
        "## Database\n",
        "\n",
        "In computing, a database is an organized collection of data or a type of data store based on the use of a database management system (DBMS), the software that interacts with end users, applications, and the database itself to capture and analyze the data. The DBMS additionally encompasses the core facilities provided to administer the database. The sum total of the database, the DBMS and the associated applications can be referred to as a database system. Often the term \"database\" is also used loosely to refer to any of the DBMS, the database system or an application associated with the database.\n",
        "\n",
        "https://en.wikipedia.org/wiki/Database\n"
      ],
      "metadata": {
        "id": "P-g86LRQe1_L"
      },
      "id": "P-g86LRQe1_L"
    },
    {
      "cell_type": "markdown",
      "id": "62190f2f",
      "metadata": {
        "id": "62190f2f"
      },
      "source": [
        "## SQL\n",
        "\n",
        "SQL, Structured Query Language, is a domain-specific language used in programming and designed for managing data held in a relational database management system (RDBMS), or for stream processing in a relational data stream management system (RDSMS). It is particularly useful in handling structured data, i.e. data incorporating relations among entities and variables.\n",
        "\n",
        "The SQL language is subdivided into several language elements, including:\n",
        "\n",
        "* Clauses, which are constituent components of statements and queries. (In some cases, these are optional.)[17]\n",
        "* Expressions, which can produce either scalar values, or tables consisting of columns and rows of data\n",
        "* Predicates, which specify conditions that can be evaluated to SQL three-valued logic (3VL) (true/false/unknown) or Boolean truth values and are used to limit the effects of statements and queries, or to change program flow.\n",
        "* Queries, which retrieve the data based on specific criteria. This is an important element of SQL.\n",
        "* Statements, which may have a persistent effect on schemata and data, or may control transactions, program flow, connections, sessions, or diagnostics.\n",
        "* SQL statements also include the semicolon (\";\") statement terminator. Though not required on every platform, it is defined as a standard part of the SQL grammar.\n",
        "* Insignificant whitespace is generally ignored in SQL statements and queries, making it easier to format SQL code for readability.\n",
        "<br /><br />\n",
        "\n",
        "<img src='https://wikimedia.org/api/rest_v1/media/math/render/svg/b83ad563285f7b0ebb325226d91f25ca0bffa7cd' alt='example of sql language elements'/>\n",
        "\n",
        "https://en.wikipedia.org/wiki/SQL\n",
        "\n",
        "A NoSQL (originally referring to \"non-SQL\" or \"non-relational\", \"not only sql\") database provides a mechanism for storage and retrieval of data that is modeled in means other than the tabular relations used in relational databases. Such databases have existed since the late 1960s, but the name \"NoSQL\" was only coined in the early 21st century, triggered by the needs of Web 2.0 companies. NoSQL databases are increasingly used in big data and real-time web applications. NoSQL systems are also sometimes called Not only SQL to emphasize that they may support SQL-like query languages or sit alongside SQL databases in polyglot-persistent architectures.\n",
        "\n",
        "Motivations for this approach include simplicity of design, simpler \"horizontal\" scaling to clusters of machines (which is a problem for relational databases), finer control over availability and limiting the object-relational impedance mismatch. The data structures used by NoSQL databases (e.g. key–value pair, wide column, graph, or document) are different from those used by default in relational databases, making some operations faster in NoSQL. The particular suitability of a given NoSQL database depends on the problem it must solve. Sometimes the data structures used by NoSQL databases are also viewed as \"more flexible\" than relational database tables.\n",
        "\n",
        "Many NoSQL stores compromise consistency (in the sense of the CAP theorem) in favor of availability, partition tolerance, and speed. Barriers to the greater adoption of NoSQL stores include the use of low-level query languages (instead of SQL, for instance), lack of ability to perform ad hoc joins across tables, lack of standardized interfaces, and huge previous investments in existing relational databases. Most NoSQL stores lack true ACID transactions, although a few databases have made them central to their designs.\n",
        "\n",
        "https://en.wikipedia.org/wiki/NoSQL\n",
        "\n",
        "Relational to NoSQL at Enterprise Scale: Lessons from Amazon: https://thenewstack.io/relational-to-nosql-at-enterprise-scale-lessons-from-amazon/\n",
        "\n",
        "* https://www.analyticsvidhya.com/blog/2022/06/an-introduction-to-joins-in-mysql/\n",
        "* https://towardsdatascience.com/how-to-run-sql-queries-from-a-jupyter-notebook-aaa18e59e7bc\n",
        "* https://www.digitalocean.com/community/tutorials/how-to-use-the-sqlite3-module-in-python-3"
      ]
    },
    {
      "cell_type": "markdown",
      "source": [
        "## SQL Terms\n",
        "\n",
        "* https://www.w3schools.com/sql/default.asp\n",
        "* CRUD\n",
        "* Primary key\n",
        "* Foreign key\n",
        "* Data types: https://www.w3schools.com/sql/sql_datatypes.asp"
      ],
      "metadata": {
        "id": "4Xeb9qNiF6Bf"
      },
      "id": "4Xeb9qNiF6Bf"
    },
    {
      "cell_type": "markdown",
      "source": [
        "## SQL Alchemy\n",
        "\n",
        "* https://www.sqlalchemy.org/"
      ],
      "metadata": {
        "id": "1goYm-yXHvz4"
      },
      "id": "1goYm-yXHvz4"
    },
    {
      "cell_type": "markdown",
      "source": [
        "## Magic\n",
        "\n",
        "* https://jakevdp.github.io/PythonDataScienceHandbook/01.03-magic-commands.html"
      ],
      "metadata": {
        "id": "_F9lkd5oLStf"
      },
      "id": "_F9lkd5oLStf"
    },
    {
      "cell_type": "markdown",
      "source": [
        "<pre>\n",
        "%load_ext sql\n",
        "%sql sqlite://\n",
        "</pre>"
      ],
      "metadata": {
        "id": "wIP3VJQcZb6e"
      },
      "id": "wIP3VJQcZb6e"
    },
    {
      "cell_type": "code",
      "execution_count": 1,
      "id": "b2a71307",
      "metadata": {
        "id": "b2a71307"
      },
      "outputs": [],
      "source": [
        "# load sql using line magic\n"
      ]
    },
    {
      "cell_type": "markdown",
      "source": [
        "<pre>\n",
        "%%sql\n",
        "CREATE TABLE aTable\n",
        "(\n",
        "    pkey     INTEGER PRIMARY KEY,\n",
        "    name     varchar(24)\n",
        ");\n",
        "\n",
        "CREATE TABLE bTable\n",
        "(\n",
        "    pkey     INTEGER PRIMARY KEY,\n",
        "    name     varchar(24)\n",
        ");\n",
        "\n",
        "</pre>"
      ],
      "metadata": {
        "id": "b2ZTmPJ6ZmSe"
      },
      "id": "b2ZTmPJ6ZmSe"
    },
    {
      "cell_type": "code",
      "execution_count": 2,
      "id": "618fca65",
      "metadata": {
        "id": "618fca65"
      },
      "outputs": [],
      "source": [
        "# create tables cell magic\n"
      ]
    },
    {
      "cell_type": "markdown",
      "source": [
        "<pre>\n",
        "%%sql\n",
        "INSERT INTO aTable (name)\n",
        "VALUES ('Bugs Bunny'),\n",
        "       ('Popeye'),\n",
        "       ('Daffy Duck'),\n",
        "       ('Mickey Mouse'),\n",
        "       ('Minnie Mouse'),\n",
        "       ('Tweety');\n",
        "\n",
        "INSERT INTO bTable(name)\n",
        "VALUES ('Bugs Bunny'),\n",
        "       ('Charlie Brown'),\n",
        "       ('Daffy Duck'),\n",
        "       ('Homer Simpson'),\n",
        "       ('Marge Simpson'),\n",
        "       ('Tweety');\n",
        "</pre>"
      ],
      "metadata": {
        "id": "0OulF2hZZ-XW"
      },
      "id": "0OulF2hZZ-XW"
    },
    {
      "cell_type": "code",
      "source": [
        "# populate tables\n"
      ],
      "metadata": {
        "id": "qUMk0FZCaCaR"
      },
      "id": "qUMk0FZCaCaR",
      "execution_count": 3,
      "outputs": []
    },
    {
      "cell_type": "markdown",
      "source": [
        "<pre>\n",
        "%%sql\n",
        "SELECT * FROM sqlite_master;\n",
        "</pre>"
      ],
      "metadata": {
        "id": "9VB73BSNaJ54"
      },
      "id": "9VB73BSNaJ54"
    },
    {
      "cell_type": "code",
      "execution_count": 4,
      "id": "724d3ada",
      "metadata": {
        "id": "724d3ada"
      },
      "outputs": [],
      "source": [
        "# show sqlite master\n"
      ]
    },
    {
      "cell_type": "markdown",
      "source": [
        "<pre>\n",
        "%%sql\n",
        "SELECT * FROM aTable;\n",
        "</pre>"
      ],
      "metadata": {
        "id": "LKwsDTNEaWJN"
      },
      "id": "LKwsDTNEaWJN"
    },
    {
      "cell_type": "code",
      "source": [
        "# select all from aTable\n"
      ],
      "metadata": {
        "id": "KEdaAzIZGuOA"
      },
      "id": "KEdaAzIZGuOA",
      "execution_count": 5,
      "outputs": []
    },
    {
      "cell_type": "markdown",
      "source": [
        "<pre>\n",
        "%%sql\n",
        "SELECT * FROM bTable WHERE pkey = 1;\n",
        "</pre>"
      ],
      "metadata": {
        "id": "7OBroDHUan-5"
      },
      "id": "7OBroDHUan-5"
    },
    {
      "cell_type": "code",
      "source": [
        "# select * from bTable where pkey = 1\n"
      ],
      "metadata": {
        "id": "P77EZRLLG8Rc"
      },
      "id": "P77EZRLLG8Rc",
      "execution_count": 6,
      "outputs": []
    },
    {
      "cell_type": "markdown",
      "id": "d29e58ba",
      "metadata": {
        "id": "d29e58ba"
      },
      "source": [
        "## JOINS\n",
        "\n",
        "* https://www.w3schools.com/sql/sql_join.asp\n",
        "* RIGHT and FULL OUTER JOINs are not currently supported in sqlite 3"
      ]
    },
    {
      "cell_type": "markdown",
      "source": [
        "<pre>\n",
        "%%sql\n",
        "SELECT * FROM aTable JOIN bTable USING (pkey);\n",
        "</pre>"
      ],
      "metadata": {
        "id": "1fxfB0zSa__C"
      },
      "id": "1fxfB0zSa__C"
    },
    {
      "cell_type": "code",
      "execution_count": 7,
      "id": "f6921c35",
      "metadata": {
        "id": "f6921c35"
      },
      "outputs": [],
      "source": [
        "# join aTable with bTable using pkey)\n"
      ]
    },
    {
      "cell_type": "markdown",
      "source": [
        "https://www.analyticsvidhya.com/blog/2024/01/role-of-underscore-in-python/\n",
        "\n",
        "<pre>\n",
        "result = _\n",
        "df = result.DataFrame()\n",
        "df.columns = ['pkey', 'aTable', 'bTable']\n",
        "df.head()\n",
        "</pre>"
      ],
      "metadata": {
        "id": "ulWbRljjbUNL"
      },
      "id": "ulWbRljjbUNL"
    },
    {
      "cell_type": "code",
      "execution_count": 8,
      "id": "c9bf1a98",
      "metadata": {
        "id": "c9bf1a98"
      },
      "outputs": [],
      "source": [
        "# save output from previous cell and create a dataframe\n"
      ]
    },
    {
      "cell_type": "markdown",
      "id": "920a4090",
      "metadata": {
        "id": "920a4090"
      },
      "source": [
        "## LEFT JOIN\n",
        "\n",
        "Return all records from aTable and values that match from bTable. If no match, return null (None)\n",
        "\n",
        "<pre>\n",
        "%%sql\n",
        "SELECT * FROM aTable\n",
        "LEFT JOIN bTable\n",
        "ON aTable.name = bTable.name;\n",
        "</pre>"
      ]
    },
    {
      "cell_type": "code",
      "execution_count": 9,
      "id": "87f68321",
      "metadata": {
        "id": "87f68321"
      },
      "outputs": [],
      "source": [
        "# left join\n"
      ]
    },
    {
      "cell_type": "markdown",
      "id": "3f68c88f",
      "metadata": {
        "id": "3f68c88f"
      },
      "source": [
        "## LEFT JOIN WHERE\n",
        "\n",
        "Return records from aTable and bTable based on some where condition\n",
        "\n",
        "<pre>\n",
        "%%sql\n",
        "SELECT * FROM aTable\n",
        "LEFT JOIN bTable\n",
        "ON aTable.name = bTable.name\n",
        "WHERE bTable.pkey IS not null;\n",
        "</pre>"
      ]
    },
    {
      "cell_type": "code",
      "execution_count": 10,
      "id": "1eb7f7e3",
      "metadata": {
        "id": "1eb7f7e3"
      },
      "outputs": [],
      "source": [
        "# left join where\n"
      ]
    },
    {
      "cell_type": "markdown",
      "id": "f669bdc0",
      "metadata": {
        "id": "f669bdc0"
      },
      "source": [
        "## INNER JOIN\n",
        "\n",
        "Returns the set of records that match in both aTable and bTable\n",
        "\n",
        "<pre>\n",
        "%%sql\n",
        "SELECT * FROM aTable\n",
        "INNER JOIN bTable\n",
        "ON aTable.name = bTable.name;\n",
        "</pre>"
      ]
    },
    {
      "cell_type": "code",
      "execution_count": 11,
      "id": "645f8ce1",
      "metadata": {
        "id": "645f8ce1"
      },
      "outputs": [],
      "source": [
        "# inner join\n"
      ]
    },
    {
      "cell_type": "markdown",
      "id": "1323cd9d",
      "metadata": {
        "id": "1323cd9d"
      },
      "source": [
        "## Using Aliases\n",
        "\n",
        "<pre>\n",
        "%%sql\n",
        "SELECT a.pkey, a.name FROM aTable a, btable b WHERE a.name = b.name;\n",
        "</pre>"
      ]
    },
    {
      "cell_type": "code",
      "execution_count": 12,
      "id": "8a4f8d30",
      "metadata": {
        "id": "8a4f8d30"
      },
      "outputs": [],
      "source": [
        "# use alias\n"
      ]
    },
    {
      "cell_type": "markdown",
      "source": [
        "<pre>\n",
        "%%sql\n",
        "SELECT a.pkey, a.name FROM aTable a, btable b WHERE a.pkey = b.pkey and b.pkey = 1;\n",
        "</pre>"
      ],
      "metadata": {
        "id": "JG11R_JNcWn-"
      },
      "id": "JG11R_JNcWn-"
    },
    {
      "cell_type": "code",
      "execution_count": 13,
      "id": "6a6e0c7e",
      "metadata": {
        "id": "6a6e0c7e"
      },
      "outputs": [],
      "source": [
        "# select with alias where\n"
      ]
    },
    {
      "cell_type": "markdown",
      "source": [
        "## SQLite 3"
      ],
      "metadata": {
        "id": "Xro5BTYDO2vy"
      },
      "id": "Xro5BTYDO2vy"
    },
    {
      "cell_type": "code",
      "execution_count": 14,
      "id": "c10ff68f",
      "metadata": {
        "id": "c10ff68f"
      },
      "outputs": [],
      "source": [
        "import sqlite3\n",
        "\n",
        "connection = sqlite3.connect('looneylms.db') # sqlite will create looneylms.db if it doesn't exist,\n",
        "                                             # a .db file now exists\n",
        "cursor = connection.cursor()"
      ]
    },
    {
      "cell_type": "code",
      "execution_count": 15,
      "id": "70958a29",
      "metadata": {
        "id": "70958a29",
        "colab": {
          "base_uri": "https://localhost:8080/"
        },
        "outputId": "688834eb-ae70-4ffb-fe0f-ed9af43ecc0b"
      },
      "outputs": [
        {
          "output_type": "execute_result",
          "data": {
            "text/plain": [
              "<sqlite3.Cursor at 0x7b9154bdf2c0>"
            ]
          },
          "metadata": {},
          "execution_count": 15
        }
      ],
      "source": [
        "# multiline strings in Python can be sorrounded with ''' Multi line text '''\n",
        "query = '''\n",
        "CREATE TABLE IF NOT EXISTS people (\n",
        "    id INTEGER PRIMARY KEY,\n",
        "    firstname TEXT,\n",
        "    lastname TEXT,\n",
        "    year INTEGER\n",
        ")\n",
        "'''\n",
        "cursor.execute(query)"
      ]
    },
    {
      "cell_type": "code",
      "execution_count": 16,
      "id": "d35beb25",
      "metadata": {
        "id": "d35beb25",
        "colab": {
          "base_uri": "https://localhost:8080/"
        },
        "outputId": "ad027d00-6d2a-4bb1-895d-53feb3daa8cc"
      },
      "outputs": [
        {
          "output_type": "execute_result",
          "data": {
            "text/plain": [
              "<sqlite3.Cursor at 0x7b9154bdf2c0>"
            ]
          },
          "metadata": {},
          "execution_count": 16
        }
      ],
      "source": [
        "# populate people table\n",
        "cursor.execute(\"INSERT INTO people(firstname, lastname, year) VALUES ('Bugs', 'Bunny', 1)\")\n",
        "cursor.execute(\"INSERT INTO people(firstname, lastname, year) VALUES ('Fifi', 'La Fume', 3)\")\n",
        "cursor.execute(\"INSERT INTO people(firstname, lastname, year) VALUES ('Daffy', 'Duck', 2)\")\n",
        "cursor.execute(\"INSERT INTO people(firstname, lastname, year) VALUES ('Foghorn', 'Leghorn', 1)\")\n",
        "cursor.execute(\"INSERT INTO people(firstname, lastname, year) VALUES ('Tweety', 'Bird', 4)\")\n",
        "cursor.execute(\"INSERT INTO people(firstname, lastname, year) VALUES ('Porky', 'Pig', 4)\")"
      ]
    },
    {
      "cell_type": "code",
      "execution_count": 17,
      "id": "3882f9e7",
      "metadata": {
        "id": "3882f9e7",
        "colab": {
          "base_uri": "https://localhost:8080/"
        },
        "outputId": "ff12f4f9-4aee-42e6-af54-c85828540b30"
      },
      "outputs": [
        {
          "output_type": "stream",
          "name": "stdout",
          "text": [
            "[(1, 'Bugs', 'Bunny', 1), (2, 'Fifi', 'La Fume', 3), (3, 'Daffy', 'Duck', 2), (4, 'Foghorn', 'Leghorn', 1), (5, 'Tweety', 'Bird', 4), (6, 'Porky', 'Pig', 4)]\n"
          ]
        }
      ],
      "source": [
        "rows = cursor.execute(\"SELECT * FROM people\").fetchall()\n",
        "print(rows)"
      ]
    },
    {
      "cell_type": "code",
      "execution_count": 18,
      "id": "4e8e480d",
      "metadata": {
        "id": "4e8e480d",
        "colab": {
          "base_uri": "https://localhost:8080/"
        },
        "outputId": "acfbf834-aab7-42da-fbdb-1362b0456966"
      },
      "outputs": [
        {
          "output_type": "execute_result",
          "data": {
            "text/plain": [
              "<sqlite3.Cursor at 0x7b9154bdf2c0>"
            ]
          },
          "metadata": {},
          "execution_count": 18
        }
      ],
      "source": [
        "query = '''\n",
        "CREATE TABLE IF NOT EXISTS quizzes (\n",
        "    id INTEGER PRIMARY KEY,\n",
        "    quizname TEXT,\n",
        "    description TEXT\n",
        ")\n",
        "'''\n",
        "cursor.execute(query)"
      ]
    },
    {
      "cell_type": "code",
      "execution_count": 19,
      "id": "986ed5e1",
      "metadata": {
        "id": "986ed5e1",
        "colab": {
          "base_uri": "https://localhost:8080/"
        },
        "outputId": "8de35a6f-d37f-49c9-e9c6-abf3bf01010d"
      },
      "outputs": [
        {
          "output_type": "execute_result",
          "data": {
            "text/plain": [
              "<sqlite3.Cursor at 0x7b9154bdf2c0>"
            ]
          },
          "metadata": {},
          "execution_count": 19
        }
      ],
      "source": [
        "cursor.execute(\"INSERT INTO quizzes(quizname, description) VALUES ('Looney', 'quiz about laughing')\")\n",
        "cursor.execute(\"INSERT INTO quizzes(quizname, description) VALUES ('Tune', 'quiz about tunes')\")"
      ]
    },
    {
      "cell_type": "code",
      "execution_count": 20,
      "id": "ee689b39",
      "metadata": {
        "id": "ee689b39",
        "colab": {
          "base_uri": "https://localhost:8080/"
        },
        "outputId": "36aeae70-cf13-48d4-d628-ef5c759887fb"
      },
      "outputs": [
        {
          "output_type": "stream",
          "name": "stdout",
          "text": [
            "[(1, 'Looney', 'quiz about laughing'), (2, 'Tune', 'quiz about tunes')]\n"
          ]
        }
      ],
      "source": [
        "rows = cursor.execute(\"SELECT * FROM quizzes\").fetchall()\n",
        "print(rows)"
      ]
    },
    {
      "cell_type": "code",
      "execution_count": 21,
      "id": "ff30dc4f",
      "metadata": {
        "id": "ff30dc4f",
        "colab": {
          "base_uri": "https://localhost:8080/"
        },
        "outputId": "dedc265d-4313-4dca-b0fa-cd892c8d162e"
      },
      "outputs": [
        {
          "output_type": "execute_result",
          "data": {
            "text/plain": [
              "<sqlite3.Cursor at 0x7b9154bdf2c0>"
            ]
          },
          "metadata": {},
          "execution_count": 21
        }
      ],
      "source": [
        "query = '''\n",
        "CREATE TABLE IF NOT EXISTS quiz_details (\n",
        "    id INTEGER PRIMARY KEY,\n",
        "    quizzes_id INTEGER,\n",
        "    items INTEGER,\n",
        "    FOREIGN KEY (quizzes_id)\n",
        "      REFERENCES quizzes (id)\n",
        "         ON DELETE NO ACTION\n",
        "         ON UPDATE CASCADE\n",
        ")\n",
        "'''\n",
        "cursor.execute(query)"
      ]
    },
    {
      "cell_type": "code",
      "execution_count": 22,
      "id": "bb74e7a9",
      "metadata": {
        "id": "bb74e7a9",
        "colab": {
          "base_uri": "https://localhost:8080/"
        },
        "outputId": "801b4405-75d4-4a68-ecbd-17137bbaad57"
      },
      "outputs": [
        {
          "output_type": "execute_result",
          "data": {
            "text/plain": [
              "<sqlite3.Cursor at 0x7b9154bdf2c0>"
            ]
          },
          "metadata": {},
          "execution_count": 22
        }
      ],
      "source": [
        "cursor.execute(\"INSERT INTO quiz_details(quizzes_id, items) VALUES (1, 10)\")\n",
        "cursor.execute(\"INSERT INTO quiz_details(quizzes_id, items) VALUES (2, 10)\")"
      ]
    },
    {
      "cell_type": "code",
      "execution_count": 23,
      "id": "48fd3927",
      "metadata": {
        "id": "48fd3927",
        "colab": {
          "base_uri": "https://localhost:8080/"
        },
        "outputId": "68692c5e-3f9d-4a00-cd09-d8363a49688a"
      },
      "outputs": [
        {
          "output_type": "stream",
          "name": "stdout",
          "text": [
            "[(1, 1, 10), (2, 2, 10)]\n"
          ]
        }
      ],
      "source": [
        "rows = cursor.execute(\"SELECT * FROM quiz_details\").fetchall()\n",
        "print(rows)"
      ]
    },
    {
      "cell_type": "code",
      "execution_count": 24,
      "id": "2c96e5e9",
      "metadata": {
        "id": "2c96e5e9",
        "colab": {
          "base_uri": "https://localhost:8080/"
        },
        "outputId": "174fc14c-e7aa-4a4e-ed06-fa57f722e6c7"
      },
      "outputs": [
        {
          "output_type": "execute_result",
          "data": {
            "text/plain": [
              "<sqlite3.Cursor at 0x7b9154bdf2c0>"
            ]
          },
          "metadata": {},
          "execution_count": 24
        }
      ],
      "source": [
        "query = '''\n",
        "CREATE TABLE IF NOT EXISTS quiz_results (\n",
        "    id INTEGER PRIMARY KEY,\n",
        "    quizzes_id INTEGER,\n",
        "    people_id INTEGER,\n",
        "    score INTEGER,\n",
        "    FOREIGN KEY (people_id)\n",
        "      REFERENCES people (id)\n",
        "         ON DELETE NO ACTION\n",
        "         ON UPDATE CASCADE,\n",
        "    FOREIGN KEY (quizzes_id)\n",
        "      REFERENCES quizzes (id)\n",
        "         ON DELETE NO ACTION\n",
        "         ON UPDATE CASCADE\n",
        ")\n",
        "'''\n",
        "cursor.execute(query)"
      ]
    },
    {
      "cell_type": "code",
      "execution_count": 25,
      "id": "ccee6f24",
      "metadata": {
        "id": "ccee6f24",
        "colab": {
          "base_uri": "https://localhost:8080/"
        },
        "outputId": "8d0346b9-8565-4b5e-ad5c-eb41046f7deb"
      },
      "outputs": [
        {
          "output_type": "execute_result",
          "data": {
            "text/plain": [
              "<sqlite3.Cursor at 0x7b9154bdf2c0>"
            ]
          },
          "metadata": {},
          "execution_count": 25
        }
      ],
      "source": [
        "cursor.execute(\"INSERT INTO quiz_results(quizzes_id, people_id, score) VALUES (1, 3, 7)\")\n",
        "cursor.execute(\"INSERT INTO quiz_results(quizzes_id, people_id, score) VALUES (2, 5, 8)\")\n",
        "cursor.execute(\"INSERT INTO quiz_results(quizzes_id, people_id, score) VALUES (2, 1, 9)\")\n",
        "cursor.execute(\"INSERT INTO quiz_results(quizzes_id, people_id, score) VALUES (1, 4, 8)\")\n",
        "cursor.execute(\"INSERT INTO quiz_results(quizzes_id, people_id, score) VALUES (2, 3, 7)\")\n",
        "cursor.execute(\"INSERT INTO quiz_results(quizzes_id, people_id, score) VALUES (1, 2, 8)\")"
      ]
    },
    {
      "cell_type": "code",
      "execution_count": 26,
      "id": "1dadffc5",
      "metadata": {
        "id": "1dadffc5",
        "colab": {
          "base_uri": "https://localhost:8080/"
        },
        "outputId": "bfce3da8-d6e8-461b-dff6-2149413f3152"
      },
      "outputs": [
        {
          "output_type": "stream",
          "name": "stdout",
          "text": [
            "[(1, 1, 3, 7), (2, 2, 5, 8), (3, 2, 1, 9), (4, 1, 4, 8), (5, 2, 3, 7), (6, 1, 2, 8)]\n"
          ]
        }
      ],
      "source": [
        "rows = cursor.execute(\"SELECT * FROM quiz_results\").fetchall()\n",
        "print(rows)"
      ]
    },
    {
      "cell_type": "code",
      "execution_count": 27,
      "id": "c4771eeb",
      "metadata": {
        "id": "c4771eeb",
        "colab": {
          "base_uri": "https://localhost:8080/"
        },
        "outputId": "49003760-dca0-46eb-d6b4-c8780ada393b"
      },
      "outputs": [
        {
          "output_type": "stream",
          "name": "stdout",
          "text": [
            "[(1, 'Bugs', 'Bunny', 1), (2, 'Fifi', 'La Fume', 3), (4, 'Foghorn', 'Leghorn', 1), (5, 'Tweety', 'Bird', 4), (6, 'Porky', 'Pig', 4), (7, 'Daffy', 'Duck', 2)]\n"
          ]
        }
      ],
      "source": [
        "query = '''\n",
        "UPDATE people\n",
        "SET id = 7\n",
        "WHERE firstname = 'Daffy';\n",
        "'''\n",
        "cursor.execute(query)\n",
        "rows = cursor.execute(\"SELECT * FROM people\").fetchall()\n",
        "print(rows)"
      ]
    },
    {
      "cell_type": "code",
      "execution_count": 28,
      "id": "d1e3591e",
      "metadata": {
        "id": "d1e3591e",
        "colab": {
          "base_uri": "https://localhost:8080/"
        },
        "outputId": "d57afd6c-57bb-481e-edb1-338821a24b0e"
      },
      "outputs": [
        {
          "output_type": "stream",
          "name": "stdout",
          "text": [
            "[(1, 1, 3, 7), (2, 2, 5, 8), (3, 2, 1, 9), (4, 1, 4, 8), (5, 2, 3, 7), (6, 1, 2, 8)]\n"
          ]
        }
      ],
      "source": [
        "cursor.execute(query)\n",
        "rows = cursor.execute(\"SELECT * FROM quiz_results\").fetchall()\n",
        "print(rows)"
      ]
    },
    {
      "cell_type": "markdown",
      "id": "fd5603e9",
      "metadata": {
        "id": "fd5603e9"
      },
      "source": [
        "## Views"
      ]
    },
    {
      "cell_type": "code",
      "execution_count": 29,
      "id": "6500833b",
      "metadata": {
        "id": "6500833b",
        "colab": {
          "base_uri": "https://localhost:8080/"
        },
        "outputId": "2175d2db-30b4-4a54-84de-481239b7dd38"
      },
      "outputs": [
        {
          "output_type": "stream",
          "name": "stdout",
          "text": [
            "('Looney', 'Foghorn', 'Leghorn', 8, 1)\n",
            "('Looney', 'Fifi', 'La Fume', 8, 3)\n",
            "('Tune', 'Tweety', 'Bird', 8, 4)\n",
            "('Tune', 'Bugs', 'Bunny', 9, 1)\n"
          ]
        }
      ],
      "source": [
        "query = '''\n",
        "SELECT\n",
        "    quizzes.quizname as quiz,\n",
        "    people.firstname as firstname,\n",
        "    people.lastname as lastname,\n",
        "    quiz_results.score as score,\n",
        "    people.year as year\n",
        "FROM\n",
        "    quiz_results\n",
        "INNER JOIN people ON people.id = quiz_results.people_id\n",
        "INNER JOIN quizzes ON quizzes.id = quiz_results.quizzes_id\n",
        "ORDER BY quizzes.id;\n",
        "'''\n",
        "results = cursor.execute(query).fetchall()\n",
        "for r in results:\n",
        "    print(r)"
      ]
    },
    {
      "cell_type": "code",
      "execution_count": 30,
      "id": "05906aa3",
      "metadata": {
        "id": "05906aa3",
        "colab": {
          "base_uri": "https://localhost:8080/"
        },
        "outputId": "9ba793ef-77cf-4028-8fbc-cea24402f8de"
      },
      "outputs": [
        {
          "output_type": "execute_result",
          "data": {
            "text/plain": [
              "<sqlite3.Cursor at 0x7b9154bdf2c0>"
            ]
          },
          "metadata": {},
          "execution_count": 30
        }
      ],
      "source": [
        "query = '''\n",
        "CREATE VIEW quiz_takers\n",
        "AS\n",
        "SELECT\n",
        "    quizzes.quizname as quiz,\n",
        "    people.firstname as firstname,\n",
        "    people.lastname as lastname,\n",
        "    quiz_results.score as score,\n",
        "    people.year as year\n",
        "FROM\n",
        "    quiz_results\n",
        "INNER JOIN people ON people.id = quiz_results.people_id\n",
        "INNER JOIN quizzes ON quizzes.id = quiz_results.quizzes_id\n",
        "ORDER BY quizzes.id;\n",
        "'''\n",
        "cursor.execute(query)"
      ]
    },
    {
      "cell_type": "code",
      "execution_count": 31,
      "id": "4a5ba6e6",
      "metadata": {
        "id": "4a5ba6e6",
        "colab": {
          "base_uri": "https://localhost:8080/"
        },
        "outputId": "8f2338b0-d16a-4e52-ab6c-010f0517907f"
      },
      "outputs": [
        {
          "output_type": "stream",
          "name": "stdout",
          "text": [
            "('Looney', 'Foghorn', 'Leghorn', 8, 1)\n",
            "('Looney', 'Fifi', 'La Fume', 8, 3)\n",
            "('Tune', 'Tweety', 'Bird', 8, 4)\n",
            "('Tune', 'Bugs', 'Bunny', 9, 1)\n"
          ]
        }
      ],
      "source": [
        "rows = cursor.execute(\"SELECT * FROM quiz_takers\").fetchall()\n",
        "for r in rows:\n",
        "    print(r)"
      ]
    },
    {
      "cell_type": "markdown",
      "id": "0b5d301d",
      "metadata": {
        "id": "0b5d301d"
      },
      "source": [
        "## Using Pandas"
      ]
    },
    {
      "cell_type": "code",
      "execution_count": 32,
      "id": "6eb400be",
      "metadata": {
        "id": "6eb400be",
        "colab": {
          "base_uri": "https://localhost:8080/"
        },
        "outputId": "611b22d3-a19a-4c74-eb8c-5f8983d4e617"
      },
      "outputs": [
        {
          "output_type": "stream",
          "name": "stdout",
          "text": [
            "     quiz firstname lastname  score  year\n",
            "0  Looney   Foghorn  Leghorn      8     1\n",
            "1  Looney      Fifi  La Fume      8     3\n",
            "2    Tune    Tweety     Bird      8     4\n",
            "3    Tune      Bugs    Bunny      9     1\n"
          ]
        }
      ],
      "source": [
        "# https://datacarpentry.org/python-ecology-lesson/09-working-with-sql/index.html\n",
        "import pandas as pd\n",
        "\n",
        "df = pd.read_sql_query(\"SELECT * FROM quiz_takers\", connection)\n",
        "print(df.head())"
      ]
    },
    {
      "cell_type": "code",
      "execution_count": 33,
      "id": "1a341351",
      "metadata": {
        "id": "1a341351",
        "colab": {
          "base_uri": "https://localhost:8080/"
        },
        "outputId": "190eef1e-0e30-4e5d-d4a5-45deae359b5c"
      },
      "outputs": [
        {
          "output_type": "stream",
          "name": "stdout",
          "text": [
            "[(1,)]\n"
          ]
        }
      ],
      "source": [
        "from contextlib import closing\n",
        "\n",
        "with closing(sqlite3.connect(\"looneylms.db\")) as connection:\n",
        "    with closing(connection.cursor()) as cursor:\n",
        "        rows = cursor.execute(\"SELECT 1\").fetchall()\n",
        "        print(rows)"
      ]
    },
    {
      "cell_type": "markdown",
      "id": "03d4add0",
      "metadata": {
        "id": "03d4add0"
      },
      "source": [
        "Start completely over\n",
        "\n",
        "* Kernel Restart and clear output\n",
        "* Delete looneylms.db\n",
        "* Kernel Restart and run all"
      ]
    },
    {
      "cell_type": "markdown",
      "id": "c6b2bafc",
      "metadata": {
        "id": "c6b2bafc"
      },
      "source": [
        "## SQLAlchemy\n",
        "\n",
        "* SQLAlchemy provides a nice “Pythonic” way of interacting with databases. So rather than dealing with the differences between specific dialects of traditional SQL such as MySQL or PostgreSQL or Oracle, you can leverage the Pythonic framework of SQLAlchemy to streamline your workflow and more efficiently query your data.\n",
        "\n",
        "https://towardsdatascience.com/sqlalchemy-python-tutorial-79a577141a91\n",
        "\n",
        "## ORM\n",
        "\n",
        "* ORM (Object Relational Mapping) is a programming technique for converting data between incompatible type systems in object-oriented programming languages. Usually, the type system used in an Object Oriented (OO) language like Python contains non-scalar types. These cannot be expressed as primitive types such as integers and strings. Hence, the OO programmer has to convert objects in scalar data to interact with backend database. However, data types in most of the database products such as Oracle, MySQL, etc., are primary. In an ORM system, each class maps to a table in the underlying database. Instead of writing tedious database interfacing code yourself, an ORM takes care of these issues for you while you can focus on programming the logics of the system.\n",
        "\n",
        "https://www.tutorialspoint.com/sqlalchemy/sqlalchemy_introduction.htm"
      ]
    },
    {
      "cell_type": "code",
      "execution_count": 34,
      "id": "d3461a5c",
      "metadata": {
        "id": "d3461a5c",
        "colab": {
          "base_uri": "https://localhost:8080/"
        },
        "outputId": "49ebcd40-5d00-44a6-852e-3c2057b715f6"
      },
      "outputs": [
        {
          "output_type": "stream",
          "name": "stdout",
          "text": [
            "Requirement already satisfied: sqlalchemy in /usr/local/lib/python3.10/dist-packages (2.0.30)\n",
            "Requirement already satisfied: typing-extensions>=4.6.0 in /usr/local/lib/python3.10/dist-packages (from sqlalchemy) (4.11.0)\n",
            "Requirement already satisfied: greenlet!=0.4.17 in /usr/local/lib/python3.10/dist-packages (from sqlalchemy) (3.0.3)\n"
          ]
        }
      ],
      "source": [
        "!pip install sqlalchemy"
      ]
    },
    {
      "cell_type": "code",
      "source": [
        "# how to connect to different databases https://www.tutorialspoint.com/sqlalchemy/sqlalchemy_core_connecting_to_database.htm\n",
        "import pandas as pd\n",
        "import sqlalchemy as db\n",
        "from sqlalchemy.sql import select\n",
        "\n",
        "print(db.__version__)\n",
        "\n",
        "engine = db.create_engine('sqlite:///looneyalchemy.db') # creates a new database\n",
        "connection = engine.connect()\n",
        "metadata = db.MetaData()\n",
        "\n",
        "# define people table\n",
        "people = db.Table('people', metadata,\n",
        "              db.Column('Id', db.Integer(), primary_key=True),\n",
        "              db.Column('firstname', db.String(255)),\n",
        "              db.Column('lastname', db.String(255)),\n",
        "              db.Column('year', db.Integer())\n",
        "              )\n",
        "\n",
        "# create table\n",
        "metadata.create_all(engine)\n",
        "\n",
        "# insert data\n",
        "query = db.insert(people).values(Id=1, firstname='Bugs', lastname='Bunny', year=4).prefix_with(\"OR IGNORE\")\n",
        "connection.execute(query)\n",
        "\n",
        "query = db.insert(people).prefix_with(\"OR IGNORE\")\n",
        "values_list = [{'Id':'2', 'firstname': 'Tweety', 'lastname': 'Bird', 'year': 3},\n",
        "               {'Id':'3', 'firstname': 'Daffy', 'lastname': 'Duck', 'year': 4}]\n",
        "connection.execute(query, values_list)\n",
        "\n",
        "\n",
        "metadata = db.MetaData()\n",
        "people = db.Table('people', metadata, autoload_with=engine)\n",
        "\n",
        "print('column keys:', people.columns.keys())\n",
        "print()\n",
        "print(repr(metadata.tables['people']))\n",
        "\n",
        "# select * from people\n",
        "query = db.select(people) # Fix: Pass the people table as an argument to select"
      ],
      "metadata": {
        "colab": {
          "base_uri": "https://localhost:8080/"
        },
        "id": "65hmDgOYUX1e",
        "outputId": "2e680393-f366-4af4-9c75-a14cdf5f7bef"
      },
      "id": "65hmDgOYUX1e",
      "execution_count": 36,
      "outputs": [
        {
          "output_type": "stream",
          "name": "stdout",
          "text": [
            "2.0.30\n",
            "column keys: ['Id', 'firstname', 'lastname', 'year']\n",
            "\n",
            "Table('people', MetaData(), Column('Id', INTEGER(), table=<people>, primary_key=True, nullable=False), Column('firstname', VARCHAR(length=255), table=<people>), Column('lastname', VARCHAR(length=255), table=<people>), Column('year', INTEGER(), table=<people>), schema=None)\n"
          ]
        }
      ]
    }
  ],
  "metadata": {
    "kernelspec": {
      "display_name": "Python 3 (ipykernel)",
      "language": "python",
      "name": "python3"
    },
    "language_info": {
      "codemirror_mode": {
        "name": "ipython",
        "version": 3
      },
      "file_extension": ".py",
      "mimetype": "text/x-python",
      "name": "python",
      "nbconvert_exporter": "python",
      "pygments_lexer": "ipython3",
      "version": "3.9.7"
    },
    "colab": {
      "provenance": [],
      "include_colab_link": true
    }
  },
  "nbformat": 4,
  "nbformat_minor": 5
}