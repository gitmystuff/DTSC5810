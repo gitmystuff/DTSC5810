{
  "cells": [
    {
      "cell_type": "markdown",
      "metadata": {
        "id": "view-in-github",
        "colab_type": "text"
      },
      "source": [
        "<a href=\"https://colab.research.google.com/github/gitmystuff/DTSC5810/blob/main/Week_05-Distributions/Week_05_Survival_Analysis.ipynb\" target=\"_parent\"><img src=\"https://colab.research.google.com/assets/colab-badge.svg\" alt=\"Open In Colab\"/></a>"
      ]
    },
    {
      "cell_type": "markdown",
      "metadata": {
        "id": "dnZSBDyfxryc"
      },
      "source": [
        "# Week 05 - Survival Analysis\n",
        "\n",
        "Survival analysis is a branch of statistics for analyzing the expected duration of time until an event occurs, such as death in biological organisms or failure in mechanical systems. This topic is also called reliability theory or reliability analysis in engineering, duration analysis or duration modelling in economics, and event history analysis in sociology. Survival analysis attempts to answer certain questions, such as what is the proportion of a population which will survive past a certain time? Of those that survive, at what rate will they die or fail? Can multiple causes of death or failure be taken into account? How do particular circumstances or characteristics increase or decrease the probability of survival?\n",
        "\n",
        "https://en.wikipedia.org/wiki/Survival_analysis"
      ]
    },
    {
      "cell_type": "markdown",
      "source": [
        "$S(t) = P(T>t)$\n",
        "\n",
        "where\n",
        "* T is the random lifetime taken from the population and it cannot be negative\n",
        "* S(t) value lies between 0 and 1 and it is a non-increasing function"
      ],
      "metadata": {
        "id": "6fQrGNAoMJA4"
      }
    },
    {
      "cell_type": "code",
      "execution_count": 1,
      "metadata": {
        "id": "A5NRbSu1xryf"
      },
      "outputs": [],
      "source": [
        "# pip install lifelines"
      ]
    },
    {
      "cell_type": "markdown",
      "metadata": {
        "id": "YBua6Obvxryg"
      },
      "source": [
        "## Readings\n",
        "\n",
        "* https://scikit-survival.readthedocs.io/en/stable/user_guide/index.html\n",
        "* https://www.kaggle.com/code/saychakra/survival-analysis-of-lung-cancer-patients\n",
        "* https://medium.com/@zynp.atlii/survival-analysis-simplified-explaining-and-applying-with-python-7efacf86ba32\n",
        "* https://www.kdnuggets.com/2020/07/complete-guide-survival-analysis-python-part1.html\n",
        "* https://towardsdatascience.com/survival-analysis-intuition-implementation-in-python-504fde4fcf8e\n",
        "* https://towardsdatascience.com/hands-on-survival-analysis-with-python-270fa1e6fb41\n",
        "* https://github.com/Idilismiguzel/Machine-Learning/blob/master/Survival_Analysis/Survival_Analysis.ipynb\n",
        "* https://www.kdnuggets.com/2020/07/complete-guide-survival-analysis-python-part1.html\n",
        "* https://medium.com/the-researchers-guide/survival-analysis-in-python-km-estimate-cox-ph-and-aft-model-5533843c5d5d\n",
        "* https://stat.ethz.ch/R-manual/R-devel/library/survival/html/lung.html"
      ]
    },
    {
      "cell_type": "markdown",
      "metadata": {
        "id": "Yinqn6U5xryh"
      },
      "source": [
        "## Key Concepts\n",
        "\n",
        "* Time to Event: Relapse, Improvement, Death\n",
        "* Stratified sampling to deal with volume of data (equal or near equal amount of subjects from groups)\n",
        "* Survival Curves\n",
        "* Kaplan Meier Estimator (Product Limit Estimator)\n",
        "* Censoring\n",
        "* Log Rank Test"
      ]
    },
    {
      "cell_type": "markdown",
      "metadata": {
        "id": "PBR51fkgxryh"
      },
      "source": [
        "## Uses\n",
        "\n",
        "* Cancer Studies\n",
        "* Event History Analysis\n",
        "* Failure Analysis - when will a battery fail\n",
        "* Traffic - What happens after the light turns red\n",
        "* Churn and Attrition\n",
        "* Retention Rate\n",
        "* Processes Reaching Critical Values\n",
        "* Time From Sale Contact to Sale\n",
        "* Warranty Claims"
      ]
    },
    {
      "cell_type": "code",
      "execution_count": 2,
      "metadata": {
        "id": "Cik47mNXxryh"
      },
      "outputs": [],
      "source": [
        "# # make the dataframe\n",
        "# import pandas as pd\n",
        "\n",
        "# lung = pd.read_csv('https://raw.githubusercontent.com/gitmystuff/Datasets/main/lung.csv')\n",
        "# lung.head()"
      ]
    },
    {
      "cell_type": "markdown",
      "metadata": {
        "id": "pbgj9PEbxryi"
      },
      "source": [
        "## Info\n",
        "\n",
        "* status: dead or alive\n",
        "* time: length of observation\n",
        "* inst: number in bucket\n",
        "\n",
        "for example 3 reached event 2 within 306 units of time"
      ]
    },
    {
      "cell_type": "code",
      "execution_count": 3,
      "metadata": {
        "id": "P3lUl_rvxryj"
      },
      "outputs": [],
      "source": [
        "# # check nulls and data types\n",
        "# lung.info()"
      ]
    },
    {
      "cell_type": "code",
      "execution_count": 4,
      "metadata": {
        "id": "yY7RMufJxryj"
      },
      "outputs": [],
      "source": [
        "# # checkout shapes\n",
        "# import matplotlib.pyplot as plt\n",
        "\n",
        "# lung.hist()\n",
        "# plt.tight_layout();"
      ]
    },
    {
      "cell_type": "code",
      "execution_count": 5,
      "metadata": {
        "id": "a96a1-IXxryj"
      },
      "outputs": [],
      "source": [
        "# # what's the index of a missing value?\n",
        "# lung[lung['inst'].isnull()].index.tolist()"
      ]
    },
    {
      "cell_type": "code",
      "execution_count": 6,
      "metadata": {
        "id": "VK4n33Abxryj"
      },
      "outputs": [],
      "source": [
        "# # the values of observation 155\n",
        "# lung.loc[155]"
      ]
    },
    {
      "cell_type": "code",
      "execution_count": 7,
      "metadata": {
        "id": "auXoEpL6xryk"
      },
      "outputs": [],
      "source": [
        "# # compare missing observation with other like data\n",
        "# lung[(lung['sex'] == 1) & (lung['status'] == 2) & (lung['time'] > 300) & (lung['time'] < 400)]"
      ]
    },
    {
      "cell_type": "code",
      "execution_count": 8,
      "metadata": {
        "id": "IJQubFvxxryk"
      },
      "outputs": [],
      "source": [
        "# # get descriptive stats for inst\n",
        "# lung[(lung['sex'] == 1) & (lung['status'] == 2) & (lung['time'] > 300) & (lung['time'] < 400)].describe()"
      ]
    },
    {
      "cell_type": "code",
      "execution_count": 9,
      "metadata": {
        "id": "vIz40K-Wxryk"
      },
      "outputs": [],
      "source": [
        "# int(lung['inst'].where((lung['sex'] == 1) & (lung['status'] == 2) & (lung['time'] > 300) & (lung['time'] < 400)).mean())"
      ]
    },
    {
      "cell_type": "code",
      "execution_count": 10,
      "metadata": {
        "scrolled": true,
        "id": "8Ajie5EOxryk"
      },
      "outputs": [],
      "source": [
        "# # replace missing value with mean\n",
        "# lung['inst'].fillna(int(lung['inst'].where((lung['sex'] == 1) & (lung['status'] == 2) & (lung['time'] > 300) & (lung['time'] < 400)).mean()), inplace=True)\n",
        "# lung.info()"
      ]
    },
    {
      "cell_type": "code",
      "execution_count": 11,
      "metadata": {
        "id": "8DECl-zkxryl"
      },
      "outputs": [],
      "source": [
        "# # get index of ph.ecog missing value\n",
        "# lung[lung['ph.ecog'].isnull()].index.tolist()"
      ]
    },
    {
      "cell_type": "code",
      "execution_count": 12,
      "metadata": {
        "id": "n_DJX7ZExryl"
      },
      "outputs": [],
      "source": [
        "# # get info\n",
        "# lung.loc[13]"
      ]
    },
    {
      "cell_type": "code",
      "execution_count": 13,
      "metadata": {
        "id": "0SAmERPmxryl"
      },
      "outputs": [],
      "source": [
        "# lung[(lung['sex'] == 1) & (lung['status'] == 2) & (lung['age'] == 60)]"
      ]
    },
    {
      "cell_type": "code",
      "execution_count": 14,
      "metadata": {
        "id": "KJIXfdzGxryl"
      },
      "outputs": [],
      "source": [
        "# lung['ph.ecog'].fillna(1.0, inplace=True)\n",
        "# lung.info()"
      ]
    },
    {
      "cell_type": "code",
      "execution_count": 15,
      "metadata": {
        "id": "t_7bijUHxrym"
      },
      "outputs": [],
      "source": [
        "# # get index of ph.karno missing value\n",
        "# lung[lung['ph.karno'].isnull()].index.tolist()"
      ]
    },
    {
      "cell_type": "code",
      "execution_count": 16,
      "metadata": {
        "id": "oknQ_oUpxrym"
      },
      "outputs": [],
      "source": [
        "# # get info\n",
        "# lung.loc[205]"
      ]
    },
    {
      "cell_type": "code",
      "execution_count": 17,
      "metadata": {
        "id": "R-6Wiz4nxrym"
      },
      "outputs": [],
      "source": [
        "# lung[(lung['sex'] == 1) & (lung['status'] == 2) & (lung['ph.ecog'] == 2.0) & (lung['pat.karno'] == 70)]"
      ]
    },
    {
      "cell_type": "code",
      "execution_count": 18,
      "metadata": {
        "id": "ef8bK1_ixrym"
      },
      "outputs": [],
      "source": [
        "# lung[(lung['sex'] == 1) & (lung['status'] == 2) & (lung['ph.ecog'] == 2.0) & (lung['pat.karno'] == 70)].describe()"
      ]
    },
    {
      "cell_type": "code",
      "execution_count": 19,
      "metadata": {
        "id": "hOVQ3FlExrym"
      },
      "outputs": [],
      "source": [
        "# lung['ph.karno'].fillna(60.0, inplace=True)\n",
        "# lung.info()"
      ]
    },
    {
      "cell_type": "code",
      "execution_count": 20,
      "metadata": {
        "id": "7LVENiN0xryn"
      },
      "outputs": [],
      "source": [
        "# # get index of ph.karno missing value\n",
        "# lung[lung['pat.karno'].isnull()].index.tolist()"
      ]
    },
    {
      "cell_type": "code",
      "execution_count": 21,
      "metadata": {
        "id": "wRd2o3Qaxryn"
      },
      "outputs": [],
      "source": [
        "# # get info\n",
        "# lung.loc[[66, 78, 104]]"
      ]
    },
    {
      "cell_type": "code",
      "execution_count": 22,
      "metadata": {
        "id": "ibhEe68cxryn"
      },
      "outputs": [],
      "source": [
        "# # lung.grouby('pat.karno')['sex'].mean()\n",
        "# lung.groupby(['pat.karno', 'sex'])['ph.karno'].mean()"
      ]
    },
    {
      "cell_type": "code",
      "execution_count": 23,
      "metadata": {
        "id": "CTtqM4kRxryn"
      },
      "outputs": [],
      "source": [
        "# lung.loc[104,'pat.karno'] = 70\n",
        "# lung.loc[66,'pat.karno'] = 80\n",
        "# lung.loc[78,'pat.karno'] = 90\n",
        "# lung.info()"
      ]
    },
    {
      "cell_type": "code",
      "execution_count": 24,
      "metadata": {
        "id": "_-yDRgE8xryn"
      },
      "outputs": [],
      "source": [
        "# lung[['meal.cal', 'wt.loss']].hist();"
      ]
    },
    {
      "cell_type": "code",
      "execution_count": 25,
      "metadata": {
        "id": "3s3dUqiAxryn"
      },
      "outputs": [],
      "source": [
        "# lung['meal.cal'].fillna(lung['meal.cal'].mode()[0], inplace=True)\n",
        "# lung['wt.loss'].fillna(lung['wt.loss'].median(), inplace=True)\n",
        "# lung.info()"
      ]
    },
    {
      "cell_type": "markdown",
      "metadata": {
        "id": "-BSskoWuxryo"
      },
      "source": [
        "## Kaplan Meier Estimator\n",
        "\n",
        "The Kaplan–Meier estimator, also known as the product limit estimator, is a non-parametric statistic used to estimate the survival function from lifetime data.\n",
        "\n",
        "https://en.wikipedia.org/wiki/Kaplan%E2%80%93Meier_estimator\n",
        "\n",
        "Kaplan-Meier is the most commonly used life-table method in medical practice. It adequately copes with the issues such as, such as patients for whom the event has not yet occurred and for those lost to follow up. The data required by the method include the time of commencement of the treatment and the time the measured event occurred (e.g., death, relapse, or hospitalization). Patients who dropped out from treatment and those who are still alive at the end of the study period are “censored”, but the contribution that they have made to the event probability are fully accounted for.\n",
        "\n",
        "https://advancedrenaleducation.com/wparep/article/life-table-survival-analysis/"
      ]
    },
    {
      "cell_type": "markdown",
      "source": [
        "Fraction of observations who survived for a certain amount of time under the same circumstances.\n",
        "\n",
        "$\\hat{S}(t) = \\prod(1 - \\frac{d_i}{n_i})$\n",
        "\n",
        "where\n",
        "* t is time\n",
        "* d is number of events\n",
        "* n is number of individuals"
      ],
      "metadata": {
        "id": "gICRHDwMJz2V"
      }
    },
    {
      "cell_type": "code",
      "execution_count": 26,
      "metadata": {
        "id": "Bm40bNdPxryo"
      },
      "outputs": [],
      "source": [
        "# # train the estimator\n",
        "# from lifelines import KaplanMeierFitter\n",
        "\n",
        "# model = KaplanMeierFitter()\n",
        "# model.fit(durations = lung.time, event_observed = lung.status)\n",
        "# model.event_table"
      ]
    },
    {
      "cell_type": "markdown",
      "metadata": {
        "id": "LPe6SUZ3xryo"
      },
      "source": [
        "## Survival Curves"
      ]
    },
    {
      "cell_type": "code",
      "execution_count": 27,
      "metadata": {
        "id": "c0PuBaiPxryp"
      },
      "outputs": [],
      "source": [
        "# # survival curve\n",
        "# import matplotlib.pyplot as plt\n",
        "\n",
        "# model.plot()\n",
        "# plt.title(\"Kaplan-Meier\")\n",
        "# plt.xlabel(\"Days\")\n",
        "# plt.ylabel(\"Survival\");"
      ]
    },
    {
      "cell_type": "code",
      "execution_count": 28,
      "metadata": {
        "id": "5fc-uoXzxryp"
      },
      "outputs": [],
      "source": [
        "# # the S curve; https://smallbusiness.chron.com/s-curve-business-23032.html\n",
        "# import numpy as np\n",
        "# import matplotlib.pyplot as plt\n",
        "# import scipy.stats as stats\n",
        "\n",
        "# x = np.linspace(-3, 3, 100)\n",
        "# y = stats.norm.cdf(x)\n",
        "# plt.plot(x, y, 'b', label='cdf')\n",
        "# plt.title('The S Curve')\n",
        "# plt.xlabel('x')\n",
        "# plt.ylabel('cdf(x)')\n",
        "# plt.grid(True)\n",
        "# plt.show();"
      ]
    },
    {
      "cell_type": "code",
      "execution_count": 29,
      "metadata": {
        "id": "epyuwQiJxryp"
      },
      "outputs": [],
      "source": [
        "# # create models for males and females\n",
        "# m = lung[lung['sex']==1]\n",
        "# male_model = KaplanMeierFitter()\n",
        "# male_model.fit(durations = m.time, event_observed = m.status)\n",
        "# f = lung[lung['sex']==2]\n",
        "# female_model = KaplanMeierFitter()\n",
        "# female_model.fit(durations = f.time, event_observed = f.status)"
      ]
    },
    {
      "cell_type": "code",
      "execution_count": 30,
      "metadata": {
        "id": "zFwPgpPTxryp"
      },
      "outputs": [],
      "source": [
        "# # plot males and females\n",
        "# male_model.plot(label = 'male')\n",
        "# female_model.plot(label = 'female')\n",
        "# plt.title(\"Kaplan-Meier by Sex\")\n",
        "# plt.xlabel(\"Days\")\n",
        "# plt.ylabel(\"Survival\")"
      ]
    },
    {
      "cell_type": "markdown",
      "metadata": {
        "id": "3bvli_PExryp"
      },
      "source": [
        "## Censoring\n",
        "\n",
        "https://towardsdatascience.com/introduction-to-survival-analysis-6f7e19c31d96\n",
        "\n",
        "* Right Censoring\n",
        "* Left Censoring\n",
        "* Interval Censoring\n",
        "\n",
        "Censoring is a form of missing data problem in which time to event is not observed for reasons such as termination of study before all recruited subjects have shown the event of interest or the subject has left the study prior to experiencing an event. Censoring is common in survival analysis.\n",
        "\n",
        "**Right censoring** will occur, for example, for those subjects whose birth date is known but who are still alive when they are lost to follow-up or when the study ends. We generally encounter right-censored data. If the event of interest has already happened before the subject is included in the study but it is not known when it occurred, the data is said to be **left-censored**. When it can only be said that the event happened between two observations or examinations, this is **interval censoring**.\n",
        "\n",
        "Left censoring occurs for example when a permanent tooth has already emerged prior to the start of a dental study that aims to estimate its emergence distribution. In the same study, an emergence time is interval-censored when the permanent tooth is present in the mouth at the current examination but not yet at the previous examination.\n",
        "\n",
        "https://en.wikipedia.org/wiki/Survival_analysis#Censoring"
      ]
    },
    {
      "cell_type": "markdown",
      "metadata": {
        "id": "mFQ2keYDxryp"
      },
      "source": [
        "## Log Rank Test\n",
        "\n",
        "* Compares survival probabilities of two groups\n",
        "* Null hypothesis: there is no difference\n",
        "* Hazard Ratio: a statistical measure that compares the likelihood of an event occurring in one group to another over time and should be constant throughout the study\n",
        "* May not be appropriate if survival curves cross\n",
        "\n",
        "The logrank test, or log-rank test, is a hypothesis test to compare the survival distributions of two samples. It is a nonparametric test and appropriate to use when the data are right skewed and censored (technically, the censoring must be non-informative).\n",
        "\n",
        "https://en.wikipedia.org/wiki/Logrank_test\n",
        "\n",
        "The logrank test is used to test the null hypothesis that there is no difference between the populations in the probability of an event (here a death) at any time point. The analysis is based on the times of events (here deaths)... Because the logrank test is purely a test of significance it cannot provide an estimate of the size of the difference between the groups or a confidence interval. For these we must make some assumptions about the data. Common methods use the hazard ratio\n",
        "\n",
        "https://www.ncbi.nlm.nih.gov/pmc/articles/PMC403858/"
      ]
    },
    {
      "cell_type": "markdown",
      "source": [
        "Numbers at risk in the first and second groups in the sixth month were 70 and 30 with 10 deaths. We would expect 7 to come from group 1 and 3 from group 2.\n",
        "\n",
        "* $10 * 70 / (70 + 30) = 7$\n",
        "* $10 * 30 / (70 + 30) = 3$\n",
        "\n",
        "Log Rank Test basically indicates whether survival between two groups is signicantly different or not."
      ],
      "metadata": {
        "id": "O4ES9MneO3a4"
      }
    },
    {
      "cell_type": "code",
      "execution_count": 31,
      "metadata": {
        "id": "BDjislqiQK_C"
      },
      "outputs": [],
      "source": [
        "# # log rank test\n",
        "# from lifelines.statistics import logrank_test\n",
        "\n",
        "# logrank_test(durations_A=m.time,\n",
        "#              durations_B=f.time,\n",
        "#              event_observed_A=m.status,\n",
        "#              event_observed_B=f.status)"
      ]
    },
    {
      "cell_type": "markdown",
      "metadata": {
        "id": "2g8aNoPOxryq"
      },
      "source": [
        "p is not low supporting the null hypothesis that the two groups are similar"
      ]
    },
    {
      "cell_type": "markdown",
      "metadata": {
        "id": "dAVwofvQxryq"
      },
      "source": [
        "## Cox Hazard Regression\n",
        "\n",
        "Proportional hazards models are a class of survival models in statistics. Survival models relate the time that passes, before some event occurs, to one or more covariates that may be associated with that quantity of time... There is a relationship between proportional hazards models and Poisson regression models which is sometimes used to fit approximate proportional hazards models in software for Poisson regression.\n",
        "\n",
        "https://en.wikipedia.org/wiki/Proportional_hazards_model\n",
        "\n",
        "* The survival function is a function of time and shows the proportion of subject's status at time t\n",
        "* Cox Hazard Regression lets us see the impact of all variants on the status\n",
        "* Adjustments are made based on variance"
      ]
    },
    {
      "cell_type": "code",
      "execution_count": 32,
      "metadata": {
        "id": "l_TlfAmWxryq"
      },
      "outputs": [],
      "source": [
        "# # engineer the status for better performance /  true false\n",
        "\n",
        "# lung.loc[lung.status == 1, \"status\"] = 0\n",
        "# lung.loc[lung.status == 2, \"status\"] = 1\n",
        "# lung.drop('inst', axis=1, inplace=True)"
      ]
    },
    {
      "cell_type": "code",
      "execution_count": 33,
      "metadata": {
        "id": "5Nm1-bTBxryq"
      },
      "outputs": [],
      "source": [
        "# from lifelines import CoxPHFitter\n",
        "\n",
        "# model = CoxPHFitter()\n",
        "# model.fit(lung, 'time', event_col = 'status')\n",
        "# model.print_summary()"
      ]
    },
    {
      "cell_type": "code",
      "execution_count": 34,
      "metadata": {
        "id": "ByBEnkNvxryr"
      },
      "outputs": [],
      "source": [
        "# # plot the model\n",
        "# model.plot()"
      ]
    },
    {
      "cell_type": "markdown",
      "metadata": {
        "id": "MNf4Uqk1xryr"
      },
      "source": [
        "* This plot shows that sex and ph.ecog are significant (p values of .01 and <.005 respectively)\n",
        "* Logs: how many times to multiply a number to get to another number - https://www.mathsisfun.com/algebra/logarithms.html\n",
        "* The log of 2^3 is three"
      ]
    },
    {
      "cell_type": "markdown",
      "source": [
        "## Widgets\n",
        "\n",
        "* https://g.co/gemini/share/d3c41e86f380"
      ],
      "metadata": {
        "id": "MhL1cDPBoAs5"
      }
    }
  ],
  "metadata": {
    "colab": {
      "provenance": [],
      "toc_visible": true,
      "include_colab_link": true
    },
    "kernelspec": {
      "display_name": "Python 3 (ipykernel)",
      "language": "python",
      "name": "python3"
    },
    "language_info": {
      "codemirror_mode": {
        "name": "ipython",
        "version": 3
      },
      "file_extension": ".py",
      "mimetype": "text/x-python",
      "name": "python",
      "nbconvert_exporter": "python",
      "pygments_lexer": "ipython3",
      "version": "3.9.7"
    }
  },
  "nbformat": 4,
  "nbformat_minor": 0
}