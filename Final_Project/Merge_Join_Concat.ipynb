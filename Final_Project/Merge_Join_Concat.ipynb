{
  "nbformat": 4,
  "nbformat_minor": 0,
  "metadata": {
    "colab": {
      "provenance": [],
      "authorship_tag": "ABX9TyMmauPdzEsoh80EI95ys5H8",
      "include_colab_link": true
    },
    "kernelspec": {
      "name": "python3",
      "display_name": "Python 3"
    },
    "language_info": {
      "name": "python"
    }
  },
  "cells": [
    {
      "cell_type": "markdown",
      "metadata": {
        "id": "view-in-github",
        "colab_type": "text"
      },
      "source": [
        "<a href=\"https://colab.research.google.com/github/gitmystuff/DTSC5810/blob/main/Final_Project/Merge_Join_Concat.ipynb\" target=\"_parent\"><img src=\"https://colab.research.google.com/assets/colab-badge.svg\" alt=\"Open In Colab\"/></a>"
      ]
    },
    {
      "cell_type": "markdown",
      "source": [
        "# Merge, Join, Concatentate\n",
        "\n",
        "* https://pandas.pydata.org/docs/user_guide/merging.html\n",
        "* The data for the following example has not been cleaned\n",
        "* Please clean your data before populating database"
      ],
      "metadata": {
        "id": "zTRxeoK3wqm6"
      }
    },
    {
      "cell_type": "code",
      "source": [
        "# create / connect to database\n",
        "import sqlite3\n",
        "\n",
        "connection = sqlite3.connect('ccpz.db') # creates / connects to db named after my team\n",
        "cursor = connection.cursor()"
      ],
      "metadata": {
        "id": "HvYIL6JLxWxb"
      },
      "execution_count": 1,
      "outputs": []
    },
    {
      "cell_type": "code",
      "execution_count": 2,
      "metadata": {
        "colab": {
          "base_uri": "https://localhost:8080/"
        },
        "id": "gBDMCC1YwmoT",
        "outputId": "9159c720-6ad4-45bb-bed3-a4d3551ff7f8"
      },
      "outputs": [
        {
          "output_type": "execute_result",
          "data": {
            "text/plain": [
              "32"
            ]
          },
          "metadata": {},
          "execution_count": 2
        }
      ],
      "source": [
        "import pandas as pd\n",
        "\n",
        "# https://drive.google.com/file/d/19bAJd2y4VrkXYhuzF-TgfCCGccXvjaRZ/view?usp=drive_link\n",
        "id = '19bAJd2y4VrkXYhuzF-TgfCCGccXvjaRZ'\n",
        "cleo = pd.read_csv(f'https://docs.google.com/uc?id={id}')\n",
        "cleo.to_sql('cleo', connection, if_exists='fail')"
      ]
    },
    {
      "cell_type": "code",
      "source": [
        "# https://drive.google.com/file/d/1QP3Pow1cWVXdBxhTN7G8UavIoHA6321H/view?usp=drive_link\n",
        "id = '1QP3Pow1cWVXdBxhTN7G8UavIoHA6321H'\n",
        "coco = pd.read_csv(f'https://docs.google.com/uc?id={id}')\n",
        "coco.to_sql('coco', connection, if_exists='fail')"
      ],
      "metadata": {
        "colab": {
          "base_uri": "https://localhost:8080/"
        },
        "id": "S0M7g0LAxu4L",
        "outputId": "3a102749-2799-4200-d137-67b7b2bfd01c"
      },
      "execution_count": 3,
      "outputs": [
        {
          "output_type": "execute_result",
          "data": {
            "text/plain": [
              "32"
            ]
          },
          "metadata": {},
          "execution_count": 3
        }
      ]
    },
    {
      "cell_type": "code",
      "source": [
        "# https://drive.google.com/file/d/1PCCv6lIA22sc7J0Z_-y9xWqVFEdR-Pj6/view?usp=drive_link\n",
        "id = '1PCCv6lIA22sc7J0Z_-y9xWqVFEdR-Pj6'\n",
        "peaches = pd.read_csv(f'https://docs.google.com/uc?id={id}')\n",
        "peaches.to_sql('peaches', connection, if_exists='fail')"
      ],
      "metadata": {
        "colab": {
          "base_uri": "https://localhost:8080/"
        },
        "id": "Jt2xU-c2yJCQ",
        "outputId": "5c95c09d-729a-488b-8ab4-e588ef8d190a"
      },
      "execution_count": 4,
      "outputs": [
        {
          "output_type": "execute_result",
          "data": {
            "text/plain": [
              "32"
            ]
          },
          "metadata": {},
          "execution_count": 4
        }
      ]
    },
    {
      "cell_type": "code",
      "source": [
        "# https://drive.google.com/file/d/1jtzVKame6XETtFzFkEqDykVVs0hPWUGA/view?usp=drive_link\n",
        "id = '1jtzVKame6XETtFzFkEqDykVVs0hPWUGA'\n",
        "zimba = pd.read_csv(f'https://docs.google.com/uc?id={id}')\n",
        "zimba.to_sql('zimba', connection, if_exists='fail')"
      ],
      "metadata": {
        "colab": {
          "base_uri": "https://localhost:8080/"
        },
        "id": "8Jf4O7KoytGb",
        "outputId": "dc6688d5-395e-443c-b103-33e26e9ad3d5"
      },
      "execution_count": 5,
      "outputs": [
        {
          "output_type": "execute_result",
          "data": {
            "text/plain": [
              "32"
            ]
          },
          "metadata": {},
          "execution_count": 5
        }
      ]
    },
    {
      "cell_type": "code",
      "source": [
        "# get our table information\n",
        "cursor.execute(\"SELECT name FROM sqlite_master WHERE type='table';\")\n",
        "rows = cursor.fetchall()\n",
        "table_names =  \", \".join(row[0] for row in rows if row[0] is not None)\n",
        "print(table_names)\n",
        "\n",
        "for table in table_names.split(', '):\n",
        "  print(f\"Table: {table}\")\n",
        "  cursor.execute(f\"SELECT sql FROM sqlite_schema WHERE name = '{table}';\")\n",
        "  schema = cursor.fetchall()\n",
        "  for col in schema:\n",
        "    print(col[0])\n",
        "\n",
        "  print()"
      ],
      "metadata": {
        "colab": {
          "base_uri": "https://localhost:8080/"
        },
        "id": "Kr0-ngtGzDFy",
        "outputId": "dfef4bed-2e9c-4d9a-aeac-ac744f066b2f"
      },
      "execution_count": 6,
      "outputs": [
        {
          "output_type": "stream",
          "name": "stdout",
          "text": [
            "cleo, coco, peaches, zimba\n",
            "Table: cleo\n",
            "CREATE TABLE \"cleo\" (\n",
            "\"index\" INTEGER,\n",
            "  \"name\" TEXT,\n",
            "  \"hp\" INTEGER,\n",
            "  \"vs\" INTEGER,\n",
            "  \"admit\" REAL,\n",
            "  \"per\" REAL,\n",
            "  \"look\" REAL,\n",
            "  \"small\" REAL,\n",
            "  \"good\" REAL,\n",
            "  \"staff\" INTEGER,\n",
            "  \"reveal\" REAL,\n",
            "  \"fall\" REAL,\n",
            "  \"that\" REAL,\n",
            "  \"travel\" REAL,\n",
            "  \"population\" REAL,\n",
            "  \"pattern\" REAL,\n",
            "  \"xy\" TEXT,\n",
            "  \"xyz\" TEXT,\n",
            "  \"fake_name\" TEXT,\n",
            "  \"fake_surname\" TEXT,\n",
            "  \"fake_zipcode\" INTEGER,\n",
            "  \"fake_date_of_birth\" TEXT,\n",
            "  \"fake_misc\" TEXT\n",
            ")\n",
            "\n",
            "Table: coco\n",
            "CREATE TABLE \"coco\" (\n",
            "\"index\" INTEGER,\n",
            "  \"mpg\" REAL,\n",
            "  \"drat\" REAL,\n",
            "  \"am\" INTEGER,\n",
            "  \"bed\" REAL,\n",
            "  \"trouble\" REAL,\n",
            "  \"difference\" REAL,\n",
            "  \"stuff\" REAL,\n",
            "  \"ground\" REAL,\n",
            "  \"cup\" REAL,\n",
            "  \"rise\" REAL,\n",
            "  \"everything\" REAL,\n",
            "  \"even\" REAL,\n",
            "  \"guess\" REAL,\n",
            "  \"throughout\" INTEGER,\n",
            "  \"career\" REAL,\n",
            "  \"politics\" REAL,\n",
            "  \"xy\" TEXT,\n",
            "  \"xyz\" TEXT,\n",
            "  \"fake_name\" TEXT,\n",
            "  \"fake_surname\" TEXT,\n",
            "  \"fake_zipcode\" INTEGER,\n",
            "  \"fake_date_of_birth\" TEXT,\n",
            "  \"fake_misc\" TEXT\n",
            ")\n",
            "\n",
            "Table: peaches\n",
            "CREATE TABLE \"peaches\" (\n",
            "\"index\" INTEGER,\n",
            "  \"cyl\" INTEGER,\n",
            "  \"wt\" REAL,\n",
            "  \"gear\" INTEGER,\n",
            "  \"turn\" REAL,\n",
            "  \"author\" REAL,\n",
            "  \"not\" REAL,\n",
            "  \"start\" REAL,\n",
            "  \"me\" REAL,\n",
            "  \"economy\" REAL,\n",
            "  \"sport\" REAL,\n",
            "  \"seem\" REAL,\n",
            "  \"response\" REAL,\n",
            "  \"within\" INTEGER,\n",
            "  \"what\" REAL,\n",
            "  \"car\" REAL,\n",
            "  \"xy\" TEXT,\n",
            "  \"xyz\" TEXT,\n",
            "  \"fake_name\" TEXT,\n",
            "  \"fake_surname\" TEXT,\n",
            "  \"fake_zipcode\" INTEGER,\n",
            "  \"fake_date_of_birth\" TEXT,\n",
            "  \"fake_misc\" TEXT\n",
            ")\n",
            "\n",
            "Table: zimba\n",
            "CREATE TABLE \"zimba\" (\n",
            "\"index\" INTEGER,\n",
            "  \"disp\" REAL,\n",
            "  \"qsec\" REAL,\n",
            "  \"carb\" INTEGER,\n",
            "  \"tell\" REAL,\n",
            "  \"our\" REAL,\n",
            "  \"really\" REAL,\n",
            "  \"see\" INTEGER,\n",
            "  \"loss\" REAL,\n",
            "  \"star\" REAL,\n",
            "  \"especially\" REAL,\n",
            "  \"human\" REAL,\n",
            "  \"need\" REAL,\n",
            "  \"consider\" REAL,\n",
            "  \"young\" REAL,\n",
            "  \"xy\" TEXT,\n",
            "  \"xyz\" TEXT,\n",
            "  \"fake_name\" TEXT,\n",
            "  \"fake_surname\" TEXT,\n",
            "  \"fake_zipcode\" INTEGER,\n",
            "  \"fake_date_of_birth\" TEXT,\n",
            "  \"fake_misc\" TEXT\n",
            ")\n",
            "\n"
          ]
        }
      ]
    },
    {
      "cell_type": "code",
      "source": [
        "# select only columns that are in our original dataset\n",
        "import pandas as pd\n",
        "\n",
        "orig_data = pd.read_csv('https://raw.githubusercontent.com/gitmystuff/Datasets/main/cars.csv')\n",
        "orig_cols = orig_data.columns.tolist()\n",
        "print(orig_cols)\n",
        "\n",
        "cursor.execute(\"SELECT name FROM sqlite_master WHERE type='table';\")\n",
        "rows = cursor.fetchall()\n",
        "table_names =  \", \".join(row[0] for row in rows if row[0] is not None)\n",
        "\n",
        "for table in table_names.split(', '):\n",
        "  my_cols = []\n",
        "  print(f\"Table: {table}\")\n",
        "  cursor.execute(f\"SELECT sql FROM sqlite_schema WHERE name = '{table}';\")\n",
        "  schema = cursor.fetchall()\n",
        "  for col in schema:\n",
        "    table_cols = [col for col in col[0].replace('\"', '').split()]\n",
        "    my_cols = [col for col in orig_cols if col in table_cols]\n",
        "    print(f'SELECT {\", \".join(col for col in my_cols)} FROM {table};')\n",
        "\n",
        "  print()"
      ],
      "metadata": {
        "colab": {
          "base_uri": "https://localhost:8080/"
        },
        "id": "0hetSgkVz9Wq",
        "outputId": "33f623ab-d604-4a9f-a924-51f4ff761eb4"
      },
      "execution_count": 24,
      "outputs": [
        {
          "output_type": "stream",
          "name": "stdout",
          "text": [
            "['name', 'mpg', 'cyl', 'disp', 'hp', 'drat', 'wt', 'qsec', 'vs', 'am', 'gear', 'carb']\n",
            "Table: cleo\n",
            "SELECT name, hp, vs FROM cleo;\n",
            "\n",
            "Table: coco\n",
            "SELECT mpg, drat, am FROM coco;\n",
            "\n",
            "Table: peaches\n",
            "SELECT cyl, wt, gear FROM peaches;\n",
            "\n",
            "Table: zimba\n",
            "SELECT disp, qsec, carb FROM zimba;\n",
            "\n"
          ]
        }
      ]
    },
    {
      "cell_type": "code",
      "source": [
        "# to keep the code simple do a little manual labor\n",
        "import pandas as pd\n",
        "\n",
        "cursor.execute(\"SELECT name, hp, vs FROM cleo;\")\n",
        "cleo = pd.DataFrame(cursor.fetchall())\n",
        "cleo.columns = ['name', 'hp', 'vs']\n",
        "print(cleo.info())\n",
        "\n",
        "cursor.execute(\"SELECT mpg, drat, am FROM coco;\")\n",
        "coco = pd.DataFrame(cursor.fetchall())\n",
        "coco.columns = ['mpg', 'drat', 'am']\n",
        "print(coco.info())\n",
        "\n",
        "cursor.execute(\"SELECT cyl, wt, gear FROM peaches;\")\n",
        "peaches = pd.DataFrame(cursor.fetchall())\n",
        "peaches.columns = ['cyl', 'wt', 'gear']\n",
        "print(peaches.info())\n",
        "\n",
        "cursor.execute(\"SELECT disp, qsec, carb FROM zimba;\")\n",
        "zimba = pd.DataFrame(cursor.fetchall())\n",
        "zimba.columns = ['disp', 'qsec', 'carb']\n",
        "print(zimba.info())"
      ],
      "metadata": {
        "colab": {
          "base_uri": "https://localhost:8080/"
        },
        "id": "QL8DnqxS4LfS",
        "outputId": "7684bfe1-9db4-4105-944b-04113dd347c3"
      },
      "execution_count": 25,
      "outputs": [
        {
          "output_type": "stream",
          "name": "stdout",
          "text": [
            "<class 'pandas.core.frame.DataFrame'>\n",
            "RangeIndex: 32 entries, 0 to 31\n",
            "Data columns (total 3 columns):\n",
            " #   Column  Non-Null Count  Dtype \n",
            "---  ------  --------------  ----- \n",
            " 0   name    32 non-null     object\n",
            " 1   hp      32 non-null     int64 \n",
            " 2   vs      32 non-null     int64 \n",
            "dtypes: int64(2), object(1)\n",
            "memory usage: 896.0+ bytes\n",
            "None\n",
            "<class 'pandas.core.frame.DataFrame'>\n",
            "RangeIndex: 32 entries, 0 to 31\n",
            "Data columns (total 3 columns):\n",
            " #   Column  Non-Null Count  Dtype  \n",
            "---  ------  --------------  -----  \n",
            " 0   mpg     32 non-null     float64\n",
            " 1   drat    32 non-null     float64\n",
            " 2   am      32 non-null     int64  \n",
            "dtypes: float64(2), int64(1)\n",
            "memory usage: 896.0 bytes\n",
            "None\n",
            "<class 'pandas.core.frame.DataFrame'>\n",
            "RangeIndex: 32 entries, 0 to 31\n",
            "Data columns (total 3 columns):\n",
            " #   Column  Non-Null Count  Dtype  \n",
            "---  ------  --------------  -----  \n",
            " 0   cyl     32 non-null     int64  \n",
            " 1   wt      32 non-null     float64\n",
            " 2   gear    32 non-null     int64  \n",
            "dtypes: float64(1), int64(2)\n",
            "memory usage: 896.0 bytes\n",
            "None\n",
            "<class 'pandas.core.frame.DataFrame'>\n",
            "RangeIndex: 32 entries, 0 to 31\n",
            "Data columns (total 3 columns):\n",
            " #   Column  Non-Null Count  Dtype  \n",
            "---  ------  --------------  -----  \n",
            " 0   disp    32 non-null     float64\n",
            " 1   qsec    32 non-null     float64\n",
            " 2   carb    32 non-null     int64  \n",
            "dtypes: float64(2), int64(1)\n",
            "memory usage: 896.0 bytes\n",
            "None\n"
          ]
        }
      ]
    },
    {
      "cell_type": "code",
      "source": [
        "# concat column wise\n",
        "df = pd.concat([cleo, coco, peaches, zimba], axis=1)\n",
        "print(df.info())"
      ],
      "metadata": {
        "colab": {
          "base_uri": "https://localhost:8080/"
        },
        "id": "ro7jUXW75qgv",
        "outputId": "2908c164-ecba-449f-9dd8-9c6be86b5c7e"
      },
      "execution_count": 26,
      "outputs": [
        {
          "output_type": "stream",
          "name": "stdout",
          "text": [
            "<class 'pandas.core.frame.DataFrame'>\n",
            "RangeIndex: 32 entries, 0 to 31\n",
            "Data columns (total 12 columns):\n",
            " #   Column  Non-Null Count  Dtype  \n",
            "---  ------  --------------  -----  \n",
            " 0   name    32 non-null     object \n",
            " 1   hp      32 non-null     int64  \n",
            " 2   vs      32 non-null     int64  \n",
            " 3   mpg     32 non-null     float64\n",
            " 4   drat    32 non-null     float64\n",
            " 5   am      32 non-null     int64  \n",
            " 6   cyl     32 non-null     int64  \n",
            " 7   wt      32 non-null     float64\n",
            " 8   gear    32 non-null     int64  \n",
            " 9   disp    32 non-null     float64\n",
            " 10  qsec    32 non-null     float64\n",
            " 11  carb    32 non-null     int64  \n",
            "dtypes: float64(5), int64(6), object(1)\n",
            "memory usage: 3.1+ KB\n",
            "None\n"
          ]
        }
      ]
    }
  ]
}